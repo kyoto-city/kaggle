{
 "cells": [
  {
   "cell_type": "code",
   "execution_count": 1,
   "metadata": {},
   "outputs": [
    {
     "name": "stderr",
     "output_type": "stream",
     "text": [
      "[nltk_data] Downloading package punkt to\n",
      "[nltk_data]     C:\\Users\\kyoto\\AppData\\Roaming\\nltk_data...\n",
      "[nltk_data]   Package punkt is already up-to-date!\n",
      "[nltk_data] Downloading package stopwords to\n",
      "[nltk_data]     C:\\Users\\kyoto\\AppData\\Roaming\\nltk_data...\n",
      "[nltk_data]   Package stopwords is already up-to-date!\n"
     ]
    }
   ],
   "source": [
    "import re\n",
    "import string\n",
    "import pandas as pd\n",
    "import matplotlib.pyplot as plt\n",
    "import numpy as np\n",
    "import json\n",
    "import nltk\n",
    "from nltk.tokenize import word_tokenize\n",
    "nltk.download('punkt')\n",
    "from nltk.corpus import stopwords\n",
    "nltk.download(\"stopwords\")\n",
    "import os\n",
    "import time\n",
    "import matplotlib.pyplot as plt\n",
    "import pymorphy2\n",
    "morph = pymorphy2.MorphAnalyzer()\n",
    "import numpy as np\n",
    "from IPython.display import clear_output\n",
    "import math\n",
    "import gensim\n",
    "import gensim.downloader\n",
    "from gensim.models import KeyedVectors\n",
    "from scipy.sparse import csr_matrix\n",
    "from scipy.sparse import save_npz\n",
    "from scipy.sparse import load_npz\n",
    "\n",
    "from sklearn.metrics import f1_score\n",
    "from sklearn.model_selection import StratifiedKFold, train_test_split\n",
    "\n",
    "from sklearn.linear_model import LogisticRegression, RidgeClassifier\n",
    "from sklearn.svm import SVC\n",
    "from sklearn.neighbors import KNeighborsClassifier\n",
    "from sklearn.naive_bayes import GaussianNB, MultinomialNB\n",
    "from sklearn.tree import DecisionTreeClassifier\n",
    "from sklearn.ensemble import RandomForestClassifier, AdaBoostClassifier, GradientBoostingClassifier\n",
    "\n",
    "import torch\n",
    "from torch import nn\n",
    "from torch.utils.data import DataLoader, TensorDataset\n",
    "\n",
    "from statistics import mean\n",
    "from collections import OrderedDict\n",
    "import itertools\n",
    "\n",
    "from sklearn.metrics import classification_report, confusion_matrix, ConfusionMatrixDisplay"
   ]
  },
  {
   "cell_type": "code",
   "execution_count": 2,
   "metadata": {},
   "outputs": [],
   "source": [
    "FREQUENCY_LIMIT = 10\n",
    "TIME_ROUND = 2\n",
    "\n",
    "removingPOS = [\n",
    "            'NUMR',\n",
    "            'NPRO',\n",
    "            'PREP',\n",
    "            'CONJ',\n",
    "            'PRCL',\n",
    "            'INTJ',\n",
    "            'None'\n",
    "        ]\n",
    "\n",
    "dataset_train_file = 'dataset/train.json'\n",
    "dataset_test_file = 'dataset/test.json'\n",
    "\n",
    "seed = 42"
   ]
  },
  {
   "cell_type": "code",
   "execution_count": 3,
   "metadata": {},
   "outputs": [],
   "source": [
    "def time_stamp(message=False, start_time=None):\n",
    "    if message != False:\n",
    "        time_ = round(time.time() - start_time, TIME_ROUND)\n",
    "        print(f\"{message} {time_} s\")    \n",
    "    \n",
    "    return time.time() "
   ]
  },
  {
   "cell_type": "code",
   "execution_count": 4,
   "metadata": {},
   "outputs": [],
   "source": [
    "train = json.load(open(dataset_train_file, \"r\", encoding=\"utf8\"))\n",
    "test = json.load(open(dataset_test_file, \"r\", encoding=\"utf8\"))"
   ]
  },
  {
   "cell_type": "code",
   "execution_count": 4,
   "metadata": {},
   "outputs": [
    {
     "name": "stdout",
     "output_type": "stream",
     "text": [
      "train lenght:  8263\n",
      "test lenght:  2056\n"
     ]
    }
   ],
   "source": [
    "print(\"train lenght: \", len(train))\n",
    "print(\"test lenght: \", len(test))"
   ]
  },
  {
   "cell_type": "code",
   "execution_count": 5,
   "metadata": {},
   "outputs": [
    {
     "name": "stdout",
     "output_type": "stream",
     "text": [
      "train columns:  ['text', 'id', 'sentiment']\n",
      "test columns:  ['text', 'id']\n"
     ]
    }
   ],
   "source": [
    "print(\"train columns: \", list(train[0].keys()))\n",
    "print(\"test columns: \", list(test[0].keys()))"
   ]
  },
  {
   "cell_type": "code",
   "execution_count": 6,
   "metadata": {},
   "outputs": [
    {
     "name": "stdout",
     "output_type": "stream",
     "text": [
      "classes:  {'neutral', 'positive', 'negative'}\n"
     ]
    }
   ],
   "source": [
    "print('classes: ', set([n['sentiment'] for n in train]))"
   ]
  },
  {
   "cell_type": "code",
   "execution_count": 5,
   "metadata": {},
   "outputs": [],
   "source": [
    "train_texts = [item[\"text\"] for item in train]\n",
    "test_texts = [item[\"text\"] for item in test]"
   ]
  },
  {
   "cell_type": "markdown",
   "metadata": {},
   "source": [
    "### Preprocessing"
   ]
  },
  {
   "cell_type": "code",
   "execution_count": 5,
   "metadata": {},
   "outputs": [],
   "source": [
    "def get_normal_form(tokens):\n",
    "    for i in range(len(tokens)):\n",
    "        tokens[i] = morph.parse(tokens[i])[0].normal_form\n",
    "                \n",
    "    return tokens"
   ]
  },
  {
   "cell_type": "code",
   "execution_count": 6,
   "metadata": {},
   "outputs": [],
   "source": [
    "russian_stopwords = set(stopwords.words(\"russian\"))\n",
    "\n",
    "def remove_stopwords(tokens):\n",
    "    text_without_stopwords = []\n",
    "    for token in tokens:\n",
    "        if token not in russian_stopwords:\n",
    "            text_without_stopwords.append(token)\n",
    "            \n",
    "    return text_without_stopwords"
   ]
  },
  {
   "cell_type": "code",
   "execution_count": 7,
   "metadata": {},
   "outputs": [],
   "source": [
    "def remove_POS(tokens, PoSList, add_pos_in_token):\n",
    "    text_without_pos = []\n",
    "    PoSList = set(PoSList)\n",
    "    for token in tokens:\n",
    "        pos = str(morph.parse(token)[0].tag.POS)\n",
    "        if pos not in PoSList:        \n",
    "            if add_pos_in_token == True:\n",
    "                text_without_pos.append(token+'_'+pos)\n",
    "            else:\n",
    "                text_without_pos.append(token)\n",
    "    \n",
    "    return text_without_pos"
   ]
  },
  {
   "cell_type": "code",
   "execution_count": 8,
   "metadata": {},
   "outputs": [],
   "source": [
    "def get_word_freq(clean_text):\n",
    "    wordFreq = {}\n",
    "    for tokensList in clean_text:\n",
    "        for token in tokensList:\n",
    "            wordFreq[token] = wordFreq.get(token, 0) + 1\n",
    "        \n",
    "    return wordFreq"
   ]
  },
  {
   "cell_type": "code",
   "execution_count": 9,
   "metadata": {},
   "outputs": [],
   "source": [
    "def remove_low_freq(tokens, freqDict, freqLimit):\n",
    "    text_without_low_freq = []\n",
    "    for token in tokens:\n",
    "        if freqDict[token] >= freqLimit:\n",
    "            text_without_low_freq.append(token)       \n",
    "    \n",
    "    return text_without_low_freq"
   ]
  },
  {
   "cell_type": "code",
   "execution_count": 10,
   "metadata": {},
   "outputs": [],
   "source": [
    "def get_dictionary(textsList):\n",
    "    dictionary = set()\n",
    "    for text in textsList:\n",
    "        for token in text:            \n",
    "            dictionary.add(token)\n",
    "    \n",
    "    return list(dictionary)"
   ]
  },
  {
   "cell_type": "code",
   "execution_count": 11,
   "metadata": {},
   "outputs": [],
   "source": [
    "# Функция для очистки текста\n",
    "# Если add_pos_in_token==true, к каждому токену будет добавлена его часть речи в формате word2vec модели\n",
    "# data - массив строк\n",
    "# возвращает двумерный массив токенов\n",
    "def preprocess(data, removingPOS, add_pos_in_token=False):    \n",
    "    time_start = time_stamp()\n",
    "    \n",
    "    clean_texts = []   # Список для хранения текстов после обработки    \n",
    "    t = 0\n",
    "    \n",
    "    for item in data:         \n",
    "        text = item\n",
    "        \n",
    "        # Токенизация текста с помощью токенизатора NLTK\n",
    "        text = word_tokenize(text)  \n",
    "        \n",
    "        # Приведение слов к нормальной форме\n",
    "        text = get_normal_form(text) \n",
    "        \n",
    "        # Удаление из текста стоп-слов, полученных из набора NLTK\n",
    "        text = remove_stopwords(text)   \n",
    "        \n",
    "        # Удаление из текста слов, имеющих части речи из removingPOS\n",
    "        # Если add_pos_in_token==true добавляет часть речи к каждому токену\n",
    "        text = remove_POS(text, removingPOS, add_pos_in_token)    \n",
    "        \n",
    "        clean_texts.append(text)        \n",
    "        \n",
    "        t += 1                  \n",
    "        clear_output(wait=True)\n",
    "        print(\"texts cleaned:\", t)   # Обновление количества обработанных текстов\n",
    "    \n",
    "    time_start = time_stamp(\"texts cleaned in\", time_start)\n",
    "            \n",
    "            \n",
    "    return clean_texts"
   ]
  },
  {
   "cell_type": "code",
   "execution_count": 12,
   "metadata": {},
   "outputs": [],
   "source": [
    "def make_dict(clean_texts, freq_limit):\n",
    "    time_start = time_stamp()\n",
    "    # Создание словаря частот слов в корпусе\n",
    "    freq_dict = get_word_freq(clean_texts)   \n",
    "\n",
    "    # Удаление из текстов слов, имеющих частоту меньше заданной в freqLimit\n",
    "    for i in range(len(clean_texts)): \n",
    "        clean_texts[i] = remove_low_freq(clean_texts[i], freq_dict, freq_limit)   \n",
    "\n",
    "    # Создание словаря корпуса\n",
    "    main_dict = get_dictionary(clean_texts)\n",
    "\n",
    "    time_stamp(\"dictionary generated in\", time_start)\n",
    "\n",
    "    return main_dict"
   ]
  },
  {
   "cell_type": "code",
   "execution_count": 51,
   "metadata": {},
   "outputs": [
    {
     "name": "stdout",
     "output_type": "stream",
     "text": [
      "texts cleaned: 50\n",
      "texts cleaned in 7.15 s\n"
     ]
    }
   ],
   "source": [
    "clean_texts_train = preprocess(train_texts[:50], removingPOS, add_pos_in_token=False)"
   ]
  },
  {
   "cell_type": "code",
   "execution_count": 52,
   "metadata": {},
   "outputs": [
    {
     "name": "stdout",
     "output_type": "stream",
     "text": [
      "dictionary generated in 0.01 s\n"
     ]
    }
   ],
   "source": [
    "dict_train = make_dict(clean_texts_train, 10)"
   ]
  },
  {
   "cell_type": "code",
   "execution_count": 53,
   "metadata": {
    "scrolled": true
   },
   "outputs": [
    {
     "name": "stdout",
     "output_type": "stream",
     "text": [
      "texts cleaned: 50\n",
      "texts cleaned in 7.21 s\n"
     ]
    }
   ],
   "source": [
    "clean_texts_train_pos = preprocess(train_texts[:50], removingPOS, add_pos_in_token=True)"
   ]
  },
  {
   "cell_type": "code",
   "execution_count": 54,
   "metadata": {},
   "outputs": [
    {
     "name": "stdout",
     "output_type": "stream",
     "text": [
      "dictionary generated in 0.0 s\n"
     ]
    }
   ],
   "source": [
    "dict_train_pos = make_dict(clean_texts_train_pos, 10)"
   ]
  },
  {
   "cell_type": "markdown",
   "metadata": {},
   "source": [
    "### bool vectorizer"
   ]
  },
  {
   "cell_type": "code",
   "execution_count": 13,
   "metadata": {},
   "outputs": [],
   "source": [
    "# Создание булевской матрицы термин-документ\n",
    "def create_bool_matrix(clean_texts, main_dict):\n",
    "    time_start = time_stamp()\n",
    "    matrix = []\n",
    "    count = 0\n",
    "    for text in clean_texts:\n",
    "        matrix.append([])\n",
    "        text_set = set(text)\n",
    "        for dictToken in main_dict:\n",
    "            if dictToken in text_set:\n",
    "                matrix[count].append(1)\n",
    "            else:\n",
    "                matrix[count].append(0)\n",
    "        count += 1\n",
    "    \n",
    "    time_stamp(\"matrix generated in\", time_start)\n",
    "    \n",
    "    return np.asarray(matrix)"
   ]
  },
  {
   "cell_type": "code",
   "execution_count": 55,
   "metadata": {},
   "outputs": [
    {
     "name": "stdout",
     "output_type": "stream",
     "text": [
      "matrix generated in 0.0 s\n"
     ]
    }
   ],
   "source": [
    "X_train = create_bool_matrix(clean_texts_train, dict_train)"
   ]
  },
  {
   "cell_type": "code",
   "execution_count": 56,
   "metadata": {},
   "outputs": [
    {
     "name": "stdout",
     "output_type": "stream",
     "text": [
      "(50, 229)\n"
     ]
    }
   ],
   "source": [
    "print(X_train.shape)"
   ]
  },
  {
   "cell_type": "code",
   "execution_count": 57,
   "metadata": {},
   "outputs": [
    {
     "data": {
      "text/plain": [
       "array([[1, 0, 0, ..., 1, 0, 0],\n",
       "       [1, 0, 0, ..., 1, 1, 1],\n",
       "       [1, 1, 0, ..., 0, 1, 0],\n",
       "       ...,\n",
       "       [0, 0, 1, ..., 0, 0, 0],\n",
       "       [1, 0, 0, ..., 0, 1, 0],\n",
       "       [0, 0, 0, ..., 1, 0, 0]])"
      ]
     },
     "execution_count": 57,
     "metadata": {},
     "output_type": "execute_result"
    }
   ],
   "source": [
    "X_train"
   ]
  },
  {
   "cell_type": "markdown",
   "metadata": {},
   "source": [
    "### Tfidf vectorizer"
   ]
  },
  {
   "cell_type": "code",
   "execution_count": 13,
   "metadata": {},
   "outputs": [],
   "source": [
    "def create_tfidf_matrix(clean_texts, mainDict):\n",
    "    \n",
    "    time_start = time_stamp()\n",
    "    IDFweights = {}\n",
    "    N = len(clean_texts)\n",
    "    clean_texts_set = [set(text) for text in clean_texts]  # перевод списков токенов в множества\n",
    "    \n",
    "    # IDF = log(N/df)+1, N - общее число документов, \n",
    "    # df - количество документов в которых присутствует токен\n",
    "    for token in mainDict:\n",
    "        df = 0\n",
    "        for text in clean_texts_set:\n",
    "            if token in text:\n",
    "                df += 1\n",
    "        \n",
    "        N+=1\n",
    "        df+=1 \n",
    "        IDFweights[token] = math.log(N/df)+1\n",
    "    \n",
    "    time_stamp(\"idf calculated in\", time_start)  \n",
    "    \n",
    "    start_time = time_stamp()\n",
    "    matrix = []\n",
    "    count = 0\n",
    "    \n",
    "    # TF = количество вхождений слова в тексте\n",
    "    for i in range(len(clean_texts)):\n",
    "        matrix.append([])\n",
    "        for dictToken in IDFweights.keys(): \n",
    "            if dictToken in clean_texts_set[i]:\n",
    "                numEntries = clean_texts[i].count(dictToken)\n",
    "                TF = numEntries              \n",
    "                matrix[count].append(IDFweights[dictToken]*TF)\n",
    "            else:\n",
    "                matrix[count].append(0)\n",
    "        \n",
    "        count += 1\n",
    "            \n",
    "    start_time = time_stamp(\"matrix generated in\", start_time)\n",
    "    \n",
    "    # L2-нормализация\n",
    "    for i in range(len(matrix)):\n",
    "        root = pow(sum([pow(t,2) for t in matrix[i]]), 0.5)\n",
    "        for j in range(len(matrix[i])):\n",
    "            matrix[i][j] = matrix[i][j] / root\n",
    "            \n",
    "    \n",
    "    time_stamp(\"matrix normalized in\", start_time)\n",
    "    return np.asarray(matrix)"
   ]
  },
  {
   "cell_type": "code",
   "execution_count": 58,
   "metadata": {},
   "outputs": [
    {
     "name": "stdout",
     "output_type": "stream",
     "text": [
      "idf calculated in 0.0 s\n",
      "matrix generated in 0.01 s\n",
      "matrix normalized in 0.0 s\n"
     ]
    }
   ],
   "source": [
    "X_train = create_tfidf_matrix(clean_texts_train, dict_train)"
   ]
  },
  {
   "cell_type": "code",
   "execution_count": 59,
   "metadata": {},
   "outputs": [
    {
     "name": "stdout",
     "output_type": "stream",
     "text": [
      "(50, 229)\n"
     ]
    }
   ],
   "source": [
    "print(X_train.shape)"
   ]
  },
  {
   "cell_type": "code",
   "execution_count": 60,
   "metadata": {},
   "outputs": [
    {
     "data": {
      "text/plain": [
       "array([[0.07107503, 0.        , 0.        , ..., 0.12582972, 0.        ,\n",
       "        0.        ],\n",
       "       [0.05747282, 0.        , 0.        , ..., 0.2034973 , 0.22211348,\n",
       "        0.12131054],\n",
       "       [0.00970892, 0.01081237, 0.        , ..., 0.        , 0.01876089,\n",
       "        0.        ],\n",
       "       ...,\n",
       "       [0.        , 0.        , 0.31244436, ..., 0.        , 0.        ,\n",
       "        0.        ],\n",
       "       [0.05650274, 0.        , 0.        , ..., 0.        , 0.21836443,\n",
       "        0.        ],\n",
       "       [0.        , 0.        , 0.        , ..., 0.09544978, 0.        ,\n",
       "        0.        ]])"
      ]
     },
     "execution_count": 60,
     "metadata": {},
     "output_type": "execute_result"
    }
   ],
   "source": [
    "X_train"
   ]
  },
  {
   "cell_type": "markdown",
   "metadata": {},
   "source": [
    "### Word2Vec vectorizer"
   ]
  },
  {
   "cell_type": "code",
   "execution_count": 15,
   "metadata": {},
   "outputs": [],
   "source": [
    "# Создание матрицы w2v весов документов\n",
    "def create_w2v_matrix(clean_texts, mainDict, wvModel):\n",
    "    time_start = time_stamp()    \n",
    "    wvDict = {}\n",
    "    for token in mainDict:\n",
    "        if token in wvModel:\n",
    "            wvDict[token] = wvModel[token]\n",
    "    time_stamp(\"w2v dictionary created in\", time_start)\n",
    "    \n",
    "    time_start = time_stamp()\n",
    "    dimention = len(list(wvDict.values())[0]) # Размерность векторов эмбеддингов\n",
    "    matrix = []\n",
    "    count = 0 # Текущий документ\n",
    "    word_count = 0 # Количество закодированных токенов в документе\n",
    "    \n",
    "    for text in clean_texts:\n",
    "        matrix.append([0]*dimention)\n",
    "        word_count = 0\n",
    "        for token in text:\n",
    "            if token in wvDict.keys():\n",
    "                word_count += 1\n",
    "                for i in range(dimention):\n",
    "                    # Суммирование векторов эмбеддингов по каждому токену в документе\n",
    "                    matrix[count][i] += wvDict[token][i]  \n",
    "        \n",
    "        if word_count > 0: # Если нашелся хотя бы один эмбеддинг\n",
    "            for i in range(dimention):\n",
    "                        # Усреднение полученных эмбеддингов\n",
    "                        matrix[count][i] /= word_count \n",
    "        count += 1\n",
    "            \n",
    "    time_stamp(\"w2v matrix created in\", time_start)    \n",
    "    return np.asarray(matrix)"
   ]
  },
  {
   "cell_type": "code",
   "execution_count": 16,
   "metadata": {},
   "outputs": [],
   "source": [
    "model_folder = \"models/\"\n",
    "rus_model_name = model_folder + 'ruscorpora_1_300_10.bin' # ruscorpora_upos_skipgram_300_10_2017\n",
    "if '.vec' in rus_model_name:\n",
    "    binary = False\n",
    "else:\n",
    "    binary = True\n",
    "    \n",
    "rus_model = KeyedVectors.load_word2vec_format(rus_model_name, binary=binary)"
   ]
  },
  {
   "cell_type": "code",
   "execution_count": 63,
   "metadata": {},
   "outputs": [
    {
     "name": "stdout",
     "output_type": "stream",
     "text": [
      "w2v dictionary created in 0.0 s\n",
      "w2v matrix created in 0.3 s\n"
     ]
    }
   ],
   "source": [
    "X_train = create_w2v_matrix(clean_texts_train_pos, dict_train_pos, rus_model)"
   ]
  },
  {
   "cell_type": "code",
   "execution_count": 64,
   "metadata": {},
   "outputs": [
    {
     "name": "stdout",
     "output_type": "stream",
     "text": [
      "(50, 300)\n"
     ]
    }
   ],
   "source": [
    "print(X_train.shape)"
   ]
  },
  {
   "cell_type": "code",
   "execution_count": 65,
   "metadata": {},
   "outputs": [
    {
     "data": {
      "text/plain": [
       "array([[ 0.03324771, -0.02306858, -0.03816256, ...,  0.01351737,\n",
       "        -0.04157148, -0.01139542],\n",
       "       [ 0.01567918,  0.00398735, -0.02170607, ...,  0.02240999,\n",
       "        -0.02909771, -0.03169704],\n",
       "       [ 0.02340538, -0.00556218,  0.01419174, ..., -0.00949234,\n",
       "        -0.03832603, -0.00598095],\n",
       "       ...,\n",
       "       [ 0.01051688, -0.01538863, -0.01017525, ..., -0.00969697,\n",
       "        -0.08690896, -0.01435089],\n",
       "       [ 0.02285083, -0.00335514, -0.02039825, ...,  0.02307726,\n",
       "        -0.03212652, -0.02646495],\n",
       "       [ 0.02635533, -0.02312358, -0.01665819, ...,  0.01505917,\n",
       "        -0.07514472, -0.01527469]])"
      ]
     },
     "execution_count": 65,
     "metadata": {},
     "output_type": "execute_result"
    }
   ],
   "source": [
    "X_train"
   ]
  },
  {
   "cell_type": "code",
   "execution_count": 14,
   "metadata": {},
   "outputs": [],
   "source": [
    "def save_as_json(data, filename, indent):\n",
    "    with open(filename, 'w', encoding='utf8') as outfile:\n",
    "        json.dump(data, outfile, indent=indent, ensure_ascii=False)"
   ]
  },
  {
   "cell_type": "code",
   "execution_count": 15,
   "metadata": {},
   "outputs": [],
   "source": [
    "def load_json(filename):\n",
    "    with open(filename, 'r', encoding='utf8') as json_file:\n",
    "        data = json.load(json_file)\n",
    "    return data"
   ]
  },
  {
   "cell_type": "code",
   "execution_count": 16,
   "metadata": {},
   "outputs": [],
   "source": [
    "def save_as_sparse(data, filename):\n",
    "    csr = csr_matrix(data)\n",
    "    save_npz(filename, csr)"
   ]
  },
  {
   "cell_type": "code",
   "execution_count": 17,
   "metadata": {},
   "outputs": [],
   "source": [
    "def load_sparse(filename):\n",
    "    csr = load_npz(filename)\n",
    "    dense = csr.todense()\n",
    "    return dense"
   ]
  },
  {
   "cell_type": "markdown",
   "metadata": {},
   "source": [
    "#### Предобработка обучающего корпуса"
   ]
  },
  {
   "cell_type": "code",
   "execution_count": 18,
   "metadata": {},
   "outputs": [],
   "source": [
    "# Файлы с обработанным текстом (без кодирования)\n",
    "clean_texts_train_file = \"clean/train.json\"\n",
    "clean_texts_pos_train_file = \"clean/train_pos.json\"\n",
    "\n",
    "clean_texts_test_file = \"clean/test.json\"\n",
    "clean_texts_pos_test_file =\"clean/test_pos.json\"\n"
   ]
  },
  {
   "cell_type": "code",
   "execution_count": 19,
   "metadata": {},
   "outputs": [],
   "source": [
    "removingPOS = [\n",
    "            'NUMR',\n",
    "            'NPRO',\n",
    "            'PREP',\n",
    "            'CONJ',\n",
    "            'PRCL',\n",
    "            'INTJ',\n",
    "            'None'\n",
    "        ]"
   ]
  },
  {
   "cell_type": "code",
   "execution_count": 86,
   "metadata": {},
   "outputs": [],
   "source": [
    "train_texts = [item[\"text\"] for item in train]\n",
    "test_texts = [item[\"text\"] for item in test]"
   ]
  },
  {
   "cell_type": "code",
   "execution_count": 80,
   "metadata": {},
   "outputs": [],
   "source": [
    "clean_texts_train = preprocess(train_texts, removingPOS, add_pos_in_token=False)\n",
    "save_as_json(clean_texts_train, clean_texts_train_file, indent=0)"
   ]
  },
  {
   "cell_type": "code",
   "execution_count": 81,
   "metadata": {},
   "outputs": [
    {
     "name": "stdout",
     "output_type": "stream",
     "text": [
      "texts cleaned: 8263\n",
      "texts cleaned in 2025.71 s\n"
     ]
    }
   ],
   "source": [
    "clean_texts_train_pos = preprocess(train_texts, removingPOS, add_pos_in_token=True)\n",
    "save_as_json(clean_texts_train_pos, clean_texts_pos_train_file, indent=0)"
   ]
  },
  {
   "cell_type": "code",
   "execution_count": 88,
   "metadata": {},
   "outputs": [
    {
     "name": "stdout",
     "output_type": "stream",
     "text": [
      "texts cleaned: 2056\n",
      "texts cleaned in 474.18 s\n"
     ]
    }
   ],
   "source": [
    "clean_texts_test = preprocess(test_texts, removingPOS, add_pos_in_token=False)\n",
    "save_as_json(clean_texts_test, clean_texts_test_file, indent=0)"
   ]
  },
  {
   "cell_type": "code",
   "execution_count": 89,
   "metadata": {},
   "outputs": [
    {
     "name": "stdout",
     "output_type": "stream",
     "text": [
      "texts cleaned: 2056\n",
      "texts cleaned in 460.22 s\n"
     ]
    }
   ],
   "source": [
    "clean_texts_test_pos = preprocess(test_texts, removingPOS, add_pos_in_token=True)\n",
    "save_as_json(clean_texts_test_pos, clean_texts_pos_test_file, indent=0)"
   ]
  },
  {
   "cell_type": "markdown",
   "metadata": {},
   "source": [
    "#### Оценка классификаторов"
   ]
  },
  {
   "cell_type": "code",
   "execution_count": 20,
   "metadata": {},
   "outputs": [],
   "source": [
    "FREQUENCY_LIMIT = 40\n",
    "\n",
    "# Названия полей в словаре с результатами\n",
    "RESULTS_SCORE = \"Score\"\n",
    "RESULTS_TIME = \"Time\"\n",
    "\n",
    "# Параметры нейронной сети\n",
    "BATCH_SIZE = 300\n",
    "HIDDEN_SIZE = 1000\n",
    "NUM_CLASSES = 3\n",
    "NUM_EPOCH = 10\n",
    "\n",
    "device = 'cuda' if torch.cuda.is_available() else 'cpu'\n",
    "\n",
    "# Округление результатов\n",
    "TIME_ROUND = 2\n",
    "SCORE_ROUND = 3\n",
    "\n",
    "# Файлы с результатами\n",
    "results_bool_file = \"results/bool.json\"\n",
    "results_tfidf_file = \"results/tfidf.json\"\n",
    "results_w2v_file = \"results/w2v.json\""
   ]
  },
  {
   "cell_type": "code",
   "execution_count": 22,
   "metadata": {},
   "outputs": [],
   "source": [
    "classes = ['positive', 'negative', 'neutral']\n",
    "\n",
    "# Представление классов для нейронной сети в виде [1,0,0]=postive [0,1,0]=negative [0,0,1]=neutral\n",
    "def class_names_to_digits(data):\n",
    "    labels = []    \n",
    "    count = 0\n",
    "    for item in data:\n",
    "        labels.append([0,0,0])\n",
    "        labels[count][classes.index(item)] = 1        \n",
    "        count += 1\n",
    "        #labels.append(classes.index(item))\n",
    "    return np.asarray(labels)\n",
    "\n",
    "def digits_to_class_names(indeces):\n",
    "    labels = []\n",
    "    for i in indeces:\n",
    "        labels.append(classes[i.index(max(i))])\n",
    "    return labels"
   ]
  },
  {
   "cell_type": "code",
   "execution_count": 23,
   "metadata": {},
   "outputs": [],
   "source": [
    "class NeuralNetwork(torch.nn.Module):\n",
    "    def __init__(self, input_size, num_classes, hidden_size):\n",
    "        super().__init__()\n",
    "        self.linear_1 = torch.nn.Linear(input_size, hidden_size)\n",
    "        self.linear_2 = torch.nn.Linear(hidden_size, num_classes)\n",
    "        self.sm = torch.nn.Softmax(dim=1)\n",
    "        \n",
    "    def forward(self, x):\n",
    "        x = torch.relu(self.linear_1(x))\n",
    "        logits = self.linear_2(x)\n",
    "        probs = self.sm(logits)\n",
    "        return probs"
   ]
  },
  {
   "cell_type": "code",
   "execution_count": 24,
   "metadata": {},
   "outputs": [],
   "source": [
    "def train_loop(data_loader, model, loss_fn, optimizer):\n",
    "    model.train()\n",
    "    for i, (texts, labels) in enumerate(data_loader):\n",
    "        \n",
    "        texts = texts.to(device)\n",
    "        labels = labels.to(device)\n",
    "        \n",
    "        predicts = model(texts)  \n",
    "        \n",
    "        loss = loss_fn(predicts, labels)\n",
    "        \n",
    "        optimizer.zero_grad()\n",
    "        loss.backward()\n",
    "        \n",
    "        optimizer.step()\n",
    "        \n",
    "        #if i % 10 == 0:\n",
    "            #print(f'loss: {loss}')"
   ]
  },
  {
   "cell_type": "code",
   "execution_count": 25,
   "metadata": {},
   "outputs": [],
   "source": [
    "def evaluate_classifiers(clean_texts, labels, cv, classifiers, vectorize_function, w2v_model=None):   \n",
    "    # Создание словаря, в который будут записаны результаты    \n",
    "    results = {name: {RESULTS_SCORE:0, RESULTS_TIME:0} for name in classifiers}\n",
    "    results[\"Neural Network\"] = {RESULTS_SCORE:0, RESULTS_TIME:0}\n",
    "    \n",
    "    # Информация о ходе работы\n",
    "    step_n = 1  \n",
    "    steps_max = cv*(len(results)+1)\n",
    "    \n",
    "    full_time_start = time.time()\n",
    "    \n",
    "    # Разбиение текстов для кросс-валидации\n",
    "    skf = StratifiedKFold(n_splits=cv, random_state=seed, shuffle=True)\n",
    "        \n",
    "    for train_indeces, test_indeces in skf.split(clean_texts, labels):\n",
    "                \n",
    "        train_texts = [clean_texts[i] for i in train_indeces]\n",
    "        train_labels = [labels[i] for i in train_indeces]\n",
    "        \n",
    "        test_texts = [clean_texts[i] for i in test_indeces]\n",
    "        test_labels = [labels[i] for i in test_indeces]\n",
    "        \n",
    "        # Получение словаря для текущего разбиения\n",
    "        dict_ = make_dict(train_texts, FREQUENCY_LIMIT)\n",
    "        \n",
    "        # Кодирование train и test\n",
    "        if w2v_model == None:\n",
    "            train_vect = vectorize_function(train_texts, dict_)\n",
    "            test_vect = vectorize_function(test_texts, dict_)\n",
    "        else:\n",
    "            train_vect = vectorize_function(train_texts, dict_, w2v_model)\n",
    "            test_vect = vectorize_function(test_texts, dict_, w2v_model)\n",
    "    \n",
    "        # Обучение и оценка классификаторов\n",
    "        for key in classifiers: \n",
    "            \n",
    "            # NB классификаторы не поддерживают отрицательные значения признаков, которые содержит w2v матрица\n",
    "            if w2v_model != None and (key == \"GaussianNB\" or key == \"MultinomialNB\"):\n",
    "                results[key][RESULTS_SCORE] += 0\n",
    "                results[key][RESULTS_TIME] += 0\n",
    "                continue\n",
    "            \n",
    "            print(f\"step {step_n}/{steps_max}\")\n",
    "            step_n += 1\n",
    "            \n",
    "            start_time = time.time()\n",
    "            clf = classifiers[key].fit(train_vect, train_labels)\n",
    "            time_ = time.time() - start_time\n",
    "            \n",
    "            predictions = clf.predict(test_vect)\n",
    "            score = f1_score(test_labels, predictions, average='macro')\n",
    "            \n",
    "            results[key][RESULTS_SCORE] += score\n",
    "            results[key][RESULTS_TIME] += time_\n",
    "    \n",
    "        torch.manual_seed(seed)\n",
    "        \n",
    "        # Создание датасетов для нейронной сети по текущему разбиению\n",
    "        train_ = TensorDataset(torch.tensor(train_vect.astype(np.float32)), \n",
    "                               torch.tensor(class_names_to_digits(train_labels).astype(np.float32)))        \n",
    "        train_loader = DataLoader(train_, batch_size=BATCH_SIZE, shuffle=True)\n",
    "        \n",
    "        test_ = TensorDataset(torch.tensor(test_vect.astype(np.float32)), \n",
    "                               torch.tensor(class_names_to_digits(test_labels).astype(np.float32)))        \n",
    "        test_loader = DataLoader(test_, batch_size=BATCH_SIZE, shuffle=True)\n",
    "               \n",
    "        \n",
    "        input_size = train_vect.shape[1]\n",
    "        \n",
    "        # Создание нейронной сети\n",
    "        model = NeuralNetwork(input_size, NUM_CLASSES, HIDDEN_SIZE)\n",
    "        model.to(device)\n",
    "        \n",
    "        loss_fn = nn.BCELoss()\n",
    "        learning_rate = 0.001\n",
    "        optimizer = torch.optim.Adam(model.parameters(), lr=learning_rate)\n",
    "        \n",
    "        print(f\"step {step_n}/{steps_max}\")\n",
    "        step_n += 1\n",
    "        \n",
    "        start_time = time.time()\n",
    "        # Обучение нейронной сети        \n",
    "        for t in range(NUM_EPOCH):\n",
    "            train_loop(train_loader, model, loss_fn, optimizer)\n",
    "        time_ = time.time() - start_time\n",
    "        \n",
    "        # Оценка нейронной сети\n",
    "        labels_list = []\n",
    "        predicted_list = []        \n",
    "        with torch.no_grad():\n",
    "            model.eval()\n",
    "            for X, y in test_loader:\n",
    "                X = X.to(device)\n",
    "                y = y.to(device)\n",
    "                y_pred = model(X)\n",
    "                labels_list += y\n",
    "                predicted_list += y_pred\n",
    "        \n",
    "        for i in range(len(labels_list)):\n",
    "            labels_list[i] = labels_list[i].cpu().numpy().tolist()\n",
    "            predicted_list[i] = predicted_list[i].cpu().numpy().tolist()\n",
    "        \n",
    "        labels_list = digits_to_class_names(labels_list)\n",
    "        predicted_list = digits_to_class_names(predicted_list)\n",
    "                \n",
    "        score = f1_score(labels_list, predicted_list, average='macro')\n",
    "        \n",
    "        results[\"Neural Network\"][RESULTS_SCORE] += score\n",
    "        results[\"Neural Network\"][RESULTS_TIME] += time_\n",
    "    \n",
    "    # Получение средних значений для всех классификаторов\n",
    "    for i in results:\n",
    "        results[i][RESULTS_SCORE] /= cv\n",
    "        results[i][RESULTS_TIME] /= cv\n",
    "        results[i][RESULTS_SCORE] = round(results[i][RESULTS_SCORE], SCORE_ROUND)\n",
    "        results[i][RESULTS_TIME] = round(results[i][RESULTS_TIME], TIME_ROUND)\n",
    "    \n",
    "    clear_output(wait=True)\n",
    "    print(f\"Overall time: {round((time.time()-full_time_start)/60, TIME_ROUND)} min\")\n",
    "    return results"
   ]
  },
  {
   "cell_type": "code",
   "execution_count": 26,
   "metadata": {},
   "outputs": [],
   "source": [
    "classifiers = {\n",
    "    \"Logistic\": LogisticRegression(random_state=seed, max_iter=1000),\n",
    "    \"Ridge\": RidgeClassifier(random_state=seed),\n",
    "    \"SVM linear\": SVC(random_state=seed, kernel='linear'),\n",
    "    \"SVM rbf\": SVC(random_state=seed, kernel='rbf'),\n",
    "    \"SVM poly\": SVC(random_state=seed, kernel='poly'),\n",
    "    \"SVM sigmoid\": SVC(random_state=seed, kernel='sigmoid'),\n",
    "    \"KNeighbors\": KNeighborsClassifier(),\n",
    "    \"GaussianNB\": GaussianNB(),\n",
    "    \"MultinomialNB\": MultinomialNB(),\n",
    "    \"Decision Tree\": DecisionTreeClassifier(random_state=seed),\n",
    "    \"Random Forest\": RandomForestClassifier(random_state=seed),\n",
    "    \"AdaBoost\": AdaBoostClassifier(random_state=seed),\n",
    "    \"Gradient Boosting\": GradientBoostingClassifier(random_state=seed),  \n",
    "}"
   ]
  },
  {
   "cell_type": "code",
   "execution_count": 29,
   "metadata": {},
   "outputs": [],
   "source": [
    "train_labels = [item[\"sentiment\"] for item in train]"
   ]
  },
  {
   "cell_type": "code",
   "execution_count": 36,
   "metadata": {},
   "outputs": [
    {
     "name": "stdout",
     "output_type": "stream",
     "text": [
      "Overall time: 109.19 min\n"
     ]
    }
   ],
   "source": [
    "# Получение результатов для бинарного векторизатора\n",
    "clean_texts_train = load_json(clean_texts_train_file)\n",
    "results_bool = evaluate_classifiers(clean_texts_train, train_labels, 5, classifiers, create_bool_matrix)\n",
    "save_as_json(results_bool, results_bool_file, indent=2)"
   ]
  },
  {
   "cell_type": "code",
   "execution_count": 39,
   "metadata": {},
   "outputs": [
    {
     "name": "stdout",
     "output_type": "stream",
     "text": [
      "Overall time: 116.6 min\n"
     ]
    }
   ],
   "source": [
    "# Получение результатов для tfidf векторизатора\n",
    "clean_texts_train = load_json(clean_texts_train_file)\n",
    "results_tfidf = evaluate_classifiers(clean_texts_train, train_labels, 5, classifiers, create_tfidf_matrix)\n",
    "save_as_json(results_tfidf, results_tfidf_file, indent=2)"
   ]
  },
  {
   "cell_type": "code",
   "execution_count": 44,
   "metadata": {},
   "outputs": [
    {
     "name": "stdout",
     "output_type": "stream",
     "text": [
      "Overall time: 30.25 min\n"
     ]
    }
   ],
   "source": [
    "# Получение результатов для word2vec векторизатора\n",
    "model_folder = \"models/\"\n",
    "rus_model_name = model_folder + 'ruscorpora_1_300_10.bin' # ruscorpora_upos_skipgram_300_10_2017\n",
    "if '.vec' in rus_model_name:\n",
    "    binary = False\n",
    "else:\n",
    "    binary = True\n",
    "    \n",
    "rus_model = KeyedVectors.load_word2vec_format(rus_model_name, binary=binary)\n",
    "\n",
    "clean_texts_train_pos = load_json(clean_texts_pos_train_file)\n",
    "results_w2v = evaluate_classifiers(clean_texts_train_pos, train_labels, 5, classifiers, create_w2v_matrix, rus_model)\n",
    "save_as_json(results_w2v, results_w2v_file, indent=2)"
   ]
  },
  {
   "cell_type": "markdown",
   "metadata": {},
   "source": [
    "#### Вывод результатов тестирования"
   ]
  },
  {
   "cell_type": "code",
   "execution_count": 27,
   "metadata": {},
   "outputs": [],
   "source": [
    "bool_results = load_json(results_bool_file)\n",
    "tfidf_results = load_json(results_tfidf_file)\n",
    "w2v_results = load_json(results_w2v_file)"
   ]
  },
  {
   "cell_type": "code",
   "execution_count": 32,
   "metadata": {},
   "outputs": [
    {
     "name": "stdout",
     "output_type": "stream",
     "text": [
      "All results (f1-score)\n"
     ]
    },
    {
     "data": {
      "text/html": [
       "<div>\n",
       "<style scoped>\n",
       "    .dataframe tbody tr th:only-of-type {\n",
       "        vertical-align: middle;\n",
       "    }\n",
       "\n",
       "    .dataframe tbody tr th {\n",
       "        vertical-align: top;\n",
       "    }\n",
       "\n",
       "    .dataframe thead th {\n",
       "        text-align: right;\n",
       "    }\n",
       "</style>\n",
       "<table border=\"1\" class=\"dataframe\">\n",
       "  <thead>\n",
       "    <tr style=\"text-align: right;\">\n",
       "      <th></th>\n",
       "      <th>bool</th>\n",
       "      <th>tfidf</th>\n",
       "      <th>word2vec</th>\n",
       "      <th>average</th>\n",
       "    </tr>\n",
       "  </thead>\n",
       "  <tbody>\n",
       "    <tr>\n",
       "      <th>SVM rbf</th>\n",
       "      <td>0.670</td>\n",
       "      <td>0.701</td>\n",
       "      <td>0.613</td>\n",
       "      <td>0.661</td>\n",
       "    </tr>\n",
       "    <tr>\n",
       "      <th>Random Forest</th>\n",
       "      <td>0.654</td>\n",
       "      <td>0.653</td>\n",
       "      <td>0.621</td>\n",
       "      <td>0.643</td>\n",
       "    </tr>\n",
       "    <tr>\n",
       "      <th>Neural Network</th>\n",
       "      <td>0.674</td>\n",
       "      <td>0.687</td>\n",
       "      <td>0.566</td>\n",
       "      <td>0.642</td>\n",
       "    </tr>\n",
       "    <tr>\n",
       "      <th>Gradient Boosting</th>\n",
       "      <td>0.640</td>\n",
       "      <td>0.630</td>\n",
       "      <td>0.625</td>\n",
       "      <td>0.632</td>\n",
       "    </tr>\n",
       "    <tr>\n",
       "      <th>KNeighbors</th>\n",
       "      <td>0.557</td>\n",
       "      <td>0.671</td>\n",
       "      <td>0.645</td>\n",
       "      <td>0.624</td>\n",
       "    </tr>\n",
       "    <tr>\n",
       "      <th>Logistic</th>\n",
       "      <td>0.647</td>\n",
       "      <td>0.687</td>\n",
       "      <td>0.519</td>\n",
       "      <td>0.618</td>\n",
       "    </tr>\n",
       "    <tr>\n",
       "      <th>Ridge</th>\n",
       "      <td>0.589</td>\n",
       "      <td>0.692</td>\n",
       "      <td>0.563</td>\n",
       "      <td>0.615</td>\n",
       "    </tr>\n",
       "    <tr>\n",
       "      <th>SVM linear</th>\n",
       "      <td>0.617</td>\n",
       "      <td>0.698</td>\n",
       "      <td>0.441</td>\n",
       "      <td>0.585</td>\n",
       "    </tr>\n",
       "    <tr>\n",
       "      <th>SVM sigmoid</th>\n",
       "      <td>0.556</td>\n",
       "      <td>0.686</td>\n",
       "      <td>0.505</td>\n",
       "      <td>0.582</td>\n",
       "    </tr>\n",
       "    <tr>\n",
       "      <th>SVM poly</th>\n",
       "      <td>0.435</td>\n",
       "      <td>0.653</td>\n",
       "      <td>0.632</td>\n",
       "      <td>0.573</td>\n",
       "    </tr>\n",
       "    <tr>\n",
       "      <th>AdaBoost</th>\n",
       "      <td>0.556</td>\n",
       "      <td>0.559</td>\n",
       "      <td>0.549</td>\n",
       "      <td>0.555</td>\n",
       "    </tr>\n",
       "    <tr>\n",
       "      <th>Decision Tree</th>\n",
       "      <td>0.560</td>\n",
       "      <td>0.559</td>\n",
       "      <td>0.511</td>\n",
       "      <td>0.543</td>\n",
       "    </tr>\n",
       "    <tr>\n",
       "      <th>MultinomialNB</th>\n",
       "      <td>0.635</td>\n",
       "      <td>0.643</td>\n",
       "      <td>0.000</td>\n",
       "      <td>0.426</td>\n",
       "    </tr>\n",
       "    <tr>\n",
       "      <th>GaussianNB</th>\n",
       "      <td>0.432</td>\n",
       "      <td>0.593</td>\n",
       "      <td>0.000</td>\n",
       "      <td>0.342</td>\n",
       "    </tr>\n",
       "    <tr>\n",
       "      <th>average</th>\n",
       "      <td>0.587</td>\n",
       "      <td>0.651</td>\n",
       "      <td>0.485</td>\n",
       "      <td>0.000</td>\n",
       "    </tr>\n",
       "  </tbody>\n",
       "</table>\n",
       "</div>"
      ],
      "text/plain": [
       "                    bool  tfidf  word2vec  average\n",
       "SVM rbf            0.670  0.701     0.613    0.661\n",
       "Random Forest      0.654  0.653     0.621    0.643\n",
       "Neural Network     0.674  0.687     0.566    0.642\n",
       "Gradient Boosting  0.640  0.630     0.625    0.632\n",
       "KNeighbors         0.557  0.671     0.645    0.624\n",
       "Logistic           0.647  0.687     0.519    0.618\n",
       "Ridge              0.589  0.692     0.563    0.615\n",
       "SVM linear         0.617  0.698     0.441    0.585\n",
       "SVM sigmoid        0.556  0.686     0.505    0.582\n",
       "SVM poly           0.435  0.653     0.632    0.573\n",
       "AdaBoost           0.556  0.559     0.549    0.555\n",
       "Decision Tree      0.560  0.559     0.511    0.543\n",
       "MultinomialNB      0.635  0.643     0.000    0.426\n",
       "GaussianNB         0.432  0.593     0.000    0.342\n",
       "average            0.587  0.651     0.485    0.000"
      ]
     },
     "execution_count": 32,
     "metadata": {},
     "output_type": "execute_result"
    }
   ],
   "source": [
    "print(\"All results (f1-score)\")\n",
    "\n",
    "d = {'bool': [bool_results[i][RESULTS_SCORE] for i in bool_results]+\n",
    "             [round(mean([bool_results[i][RESULTS_SCORE] for i in bool_results]),3)], \n",
    "     \n",
    "     'tfidf': [tfidf_results[i][RESULTS_SCORE] for i in tfidf_results]+\n",
    "              [round(mean([tfidf_results[i][RESULTS_SCORE] for i in tfidf_results]),3)],\n",
    "     \n",
    "    'word2vec': [w2v_results[i][RESULTS_SCORE] for i in w2v_results]+\n",
    "                [round(mean([w2v_results[i][RESULTS_SCORE] for i in w2v_results]),3)],     \n",
    "     \n",
    "    'average': [round((w2v_results[i][RESULTS_SCORE]+\n",
    "                tfidf_results[i][RESULTS_SCORE]+\n",
    "                bool_results[i][RESULTS_SCORE])/3,3) for i in bool_results]+[0]}\n",
    "\n",
    "df = pd.DataFrame(data=d, index=list(bool_results.keys())+[\"average\"])\n",
    "df.sort_values(by=['average'], ascending=False)"
   ]
  },
  {
   "cell_type": "code",
   "execution_count": 34,
   "metadata": {},
   "outputs": [
    {
     "data": {
      "image/png": "[encoded data removed]",
      "text/plain": [
       "<Figure size 1584x360 with 1 Axes>"
      ]
     },
     "metadata": {
      "needs_background": "light"
     },
     "output_type": "display_data"
    }
   ],
   "source": [
    "labels = list(bool_results.keys())\n",
    "bool_ = [bool_results[i][RESULTS_SCORE] for i in bool_results]\n",
    "tfidf_ = [tfidf_results[i][RESULTS_SCORE] for i in tfidf_results]\n",
    "w2v_ = [w2v_results[i][RESULTS_SCORE] for i in w2v_results]\n",
    "\n",
    "x = np.arange(len(labels))  # the label locations\n",
    "width = 0.20  # the width of the bars\n",
    "\n",
    "fig, ax = plt.subplots()\n",
    "rects1 = ax.bar(x - width/2, bool_, width, label='bool')\n",
    "rects2 = ax.bar(x + width/2, tfidf_, width, label='tfidf')\n",
    "rects3 = ax.bar(x + width*1.5, w2v_, width, label='w2v')\n",
    "\n",
    "# Add some text for labels, title and custom x-axis tick labels, etc.\n",
    "ax.set_ylabel('f1 score', fontsize=18)\n",
    "ax.set_title('Scores by classifier and vectorizer', fontsize=18)\n",
    "ax.set_xticks(x)\n",
    "ax.set_xticklabels(labels, fontsize=15)\n",
    "ax.legend(fontsize=15, loc=\"lower left\")\n",
    "\n",
    "#ax.bar_label(rects1, padding=3)\n",
    "#ax.bar_label(rects2, padding=3)\n",
    "#ax.bar_label(rects3, padding=3)\n",
    "\n",
    "fig.tight_layout()\n",
    "fig.set_size_inches(22, 5)\n",
    "\n",
    "plt.xticks(rotation = 45)\n",
    "plt.show()"
   ]
  },
  {
   "cell_type": "code",
   "execution_count": 74,
   "metadata": {},
   "outputs": [
    {
     "name": "stdout",
     "output_type": "stream",
     "text": [
      "All results (time, s)\n"
     ]
    },
    {
     "data": {
      "text/html": [
       "<div>\n",
       "<style scoped>\n",
       "    .dataframe tbody tr th:only-of-type {\n",
       "        vertical-align: middle;\n",
       "    }\n",
       "\n",
       "    .dataframe tbody tr th {\n",
       "        vertical-align: top;\n",
       "    }\n",
       "\n",
       "    .dataframe thead th {\n",
       "        text-align: right;\n",
       "    }\n",
       "</style>\n",
       "<table border=\"1\" class=\"dataframe\">\n",
       "  <thead>\n",
       "    <tr style=\"text-align: right;\">\n",
       "      <th></th>\n",
       "      <th>bool</th>\n",
       "      <th>tfidf</th>\n",
       "      <th>word2vec</th>\n",
       "      <th>average</th>\n",
       "    </tr>\n",
       "  </thead>\n",
       "  <tbody>\n",
       "    <tr>\n",
       "      <th>KNeighbors</th>\n",
       "      <td>0.020</td>\n",
       "      <td>0.080</td>\n",
       "      <td>0.010</td>\n",
       "      <td>0.037</td>\n",
       "    </tr>\n",
       "    <tr>\n",
       "      <th>GaussianNB</th>\n",
       "      <td>0.490</td>\n",
       "      <td>0.550</td>\n",
       "      <td>0.000</td>\n",
       "      <td>0.347</td>\n",
       "    </tr>\n",
       "    <tr>\n",
       "      <th>MultinomialNB</th>\n",
       "      <td>1.060</td>\n",
       "      <td>0.080</td>\n",
       "      <td>0.000</td>\n",
       "      <td>0.380</td>\n",
       "    </tr>\n",
       "    <tr>\n",
       "      <th>Neural Network</th>\n",
       "      <td>2.960</td>\n",
       "      <td>2.660</td>\n",
       "      <td>0.750</td>\n",
       "      <td>2.123</td>\n",
       "    </tr>\n",
       "    <tr>\n",
       "      <th>Ridge</th>\n",
       "      <td>3.740</td>\n",
       "      <td>3.340</td>\n",
       "      <td>0.040</td>\n",
       "      <td>2.373</td>\n",
       "    </tr>\n",
       "    <tr>\n",
       "      <th>Logistic</th>\n",
       "      <td>15.830</td>\n",
       "      <td>4.330</td>\n",
       "      <td>0.460</td>\n",
       "      <td>6.873</td>\n",
       "    </tr>\n",
       "    <tr>\n",
       "      <th>Decision Tree</th>\n",
       "      <td>10.220</td>\n",
       "      <td>13.160</td>\n",
       "      <td>2.030</td>\n",
       "      <td>8.470</td>\n",
       "    </tr>\n",
       "    <tr>\n",
       "      <th>Random Forest</th>\n",
       "      <td>16.750</td>\n",
       "      <td>18.700</td>\n",
       "      <td>7.280</td>\n",
       "      <td>14.243</td>\n",
       "    </tr>\n",
       "    <tr>\n",
       "      <th>AdaBoost</th>\n",
       "      <td>44.120</td>\n",
       "      <td>48.710</td>\n",
       "      <td>11.070</td>\n",
       "      <td>34.633</td>\n",
       "    </tr>\n",
       "    <tr>\n",
       "      <th>SVM sigmoid</th>\n",
       "      <td>75.130</td>\n",
       "      <td>87.250</td>\n",
       "      <td>9.330</td>\n",
       "      <td>57.237</td>\n",
       "    </tr>\n",
       "    <tr>\n",
       "      <th>SVM linear</th>\n",
       "      <td>81.520</td>\n",
       "      <td>88.880</td>\n",
       "      <td>8.370</td>\n",
       "      <td>59.590</td>\n",
       "    </tr>\n",
       "    <tr>\n",
       "      <th>SVM rbf</th>\n",
       "      <td>117.010</td>\n",
       "      <td>121.860</td>\n",
       "      <td>8.050</td>\n",
       "      <td>82.307</td>\n",
       "    </tr>\n",
       "    <tr>\n",
       "      <th>SVM poly</th>\n",
       "      <td>159.800</td>\n",
       "      <td>151.050</td>\n",
       "      <td>7.540</td>\n",
       "      <td>106.130</td>\n",
       "    </tr>\n",
       "    <tr>\n",
       "      <th>Gradient Boosting</th>\n",
       "      <td>638.410</td>\n",
       "      <td>675.020</td>\n",
       "      <td>161.160</td>\n",
       "      <td>491.530</td>\n",
       "    </tr>\n",
       "    <tr>\n",
       "      <th>average</th>\n",
       "      <td>83.361</td>\n",
       "      <td>86.834</td>\n",
       "      <td>15.435</td>\n",
       "      <td>999.000</td>\n",
       "    </tr>\n",
       "  </tbody>\n",
       "</table>\n",
       "</div>"
      ],
      "text/plain": [
       "                      bool    tfidf  word2vec  average\n",
       "KNeighbors           0.020    0.080     0.010    0.037\n",
       "GaussianNB           0.490    0.550     0.000    0.347\n",
       "MultinomialNB        1.060    0.080     0.000    0.380\n",
       "Neural Network       2.960    2.660     0.750    2.123\n",
       "Ridge                3.740    3.340     0.040    2.373\n",
       "Logistic            15.830    4.330     0.460    6.873\n",
       "Decision Tree       10.220   13.160     2.030    8.470\n",
       "Random Forest       16.750   18.700     7.280   14.243\n",
       "AdaBoost            44.120   48.710    11.070   34.633\n",
       "SVM sigmoid         75.130   87.250     9.330   57.237\n",
       "SVM linear          81.520   88.880     8.370   59.590\n",
       "SVM rbf            117.010  121.860     8.050   82.307\n",
       "SVM poly           159.800  151.050     7.540  106.130\n",
       "Gradient Boosting  638.410  675.020   161.160  491.530\n",
       "average             83.361   86.834    15.435  999.000"
      ]
     },
     "execution_count": 74,
     "metadata": {},
     "output_type": "execute_result"
    }
   ],
   "source": [
    "print(\"All results (time, s)\")\n",
    "\n",
    "d = {'bool': [bool_results[i][RESULTS_TIME] for i in bool_results]+\n",
    "             [round(mean([bool_results[i][RESULTS_TIME] for i in bool_results]),3)], \n",
    "     \n",
    "     'tfidf': [tfidf_results[i][RESULTS_TIME] for i in tfidf_results]+\n",
    "              [round(mean([tfidf_results[i][RESULTS_TIME] for i in tfidf_results]),3)],\n",
    "     \n",
    "    'word2vec': [w2v_results[i][RESULTS_TIME] for i in w2v_results]+\n",
    "                [round(mean([w2v_results[i][RESULTS_TIME] for i in w2v_results]),3)],     \n",
    "     \n",
    "    'average': [round((w2v_results[i][RESULTS_TIME]+\n",
    "                tfidf_results[i][RESULTS_TIME]+\n",
    "                bool_results[i][RESULTS_TIME])/3,3) for i in bool_results]+[999]}\n",
    "\n",
    "df = pd.DataFrame(data=d, index=list(bool_results.keys())+[\"average\"])\n",
    "df.sort_values(by=['average'], ascending=True)"
   ]
  },
  {
   "cell_type": "code",
   "execution_count": 35,
   "metadata": {},
   "outputs": [
    {
     "data": {
      "image/png": "[encoded data removed]",
      "text/plain": [
       "<Figure size 1584x360 with 1 Axes>"
      ]
     },
     "metadata": {
      "needs_background": "light"
     },
     "output_type": "display_data"
    }
   ],
   "source": [
    "labels = list(bool_results.keys())\n",
    "bool_ = [bool_results[i][RESULTS_TIME] for i in bool_results]\n",
    "tfidf_ = [tfidf_results[i][RESULTS_TIME] for i in tfidf_results]\n",
    "w2v_ = [w2v_results[i][RESULTS_TIME] for i in w2v_results]\n",
    "\n",
    "x = np.arange(len(labels))  # the label locations\n",
    "width = 0.20  # the width of the bars\n",
    "\n",
    "fig, ax = plt.subplots()\n",
    "rects1 = ax.bar(x - width/2, bool_, width, label='bool')\n",
    "rects2 = ax.bar(x + width/2, tfidf_, width, label='tfidf')\n",
    "rects3 = ax.bar(x + width*1.5, w2v_, width, label='w2v')\n",
    "\n",
    "# Add some text for labels, title and custom x-axis tick labels, etc.\n",
    "ax.set_ylabel('time, seconds', fontsize=18)\n",
    "ax.set_title('Time by classifier and vectorizer', fontsize=18)\n",
    "ax.set_xticks(x)\n",
    "ax.set_xticklabels(labels, fontsize=15)\n",
    "ax.legend(fontsize=15, loc=\"upper left\")\n",
    "\n",
    "#ax.bar_label(rects1, padding=3)\n",
    "#ax.bar_label(rects2, padding=3)\n",
    "#ax.bar_label(rects3, padding=3)\n",
    "\n",
    "fig.tight_layout()\n",
    "fig.set_size_inches(22, 5)\n",
    "\n",
    "plt.xticks(rotation = 45)\n",
    "plt.show()"
   ]
  },
  {
   "cell_type": "code",
   "execution_count": 31,
   "metadata": {},
   "outputs": [
    {
     "name": "stdout",
     "output_type": "stream",
     "text": [
      "Top-10 combinations\n"
     ]
    },
    {
     "data": {
      "text/html": [
       "<div>\n",
       "<style scoped>\n",
       "    .dataframe tbody tr th:only-of-type {\n",
       "        vertical-align: middle;\n",
       "    }\n",
       "\n",
       "    .dataframe tbody tr th {\n",
       "        vertical-align: top;\n",
       "    }\n",
       "\n",
       "    .dataframe thead th {\n",
       "        text-align: right;\n",
       "    }\n",
       "</style>\n",
       "<table border=\"1\" class=\"dataframe\">\n",
       "  <thead>\n",
       "    <tr style=\"text-align: right;\">\n",
       "      <th></th>\n",
       "      <th>F1-score</th>\n",
       "      <th>Time (s)</th>\n",
       "    </tr>\n",
       "  </thead>\n",
       "  <tbody>\n",
       "    <tr>\n",
       "      <th>tfidf + SVM rbf</th>\n",
       "      <td>0.701</td>\n",
       "      <td>121.86</td>\n",
       "    </tr>\n",
       "    <tr>\n",
       "      <th>tfidf + SVM linear</th>\n",
       "      <td>0.698</td>\n",
       "      <td>88.88</td>\n",
       "    </tr>\n",
       "    <tr>\n",
       "      <th>tfidf + Ridge</th>\n",
       "      <td>0.692</td>\n",
       "      <td>3.34</td>\n",
       "    </tr>\n",
       "    <tr>\n",
       "      <th>tfidf + Logistic</th>\n",
       "      <td>0.687</td>\n",
       "      <td>4.33</td>\n",
       "    </tr>\n",
       "    <tr>\n",
       "      <th>tfidf + Neural Network</th>\n",
       "      <td>0.687</td>\n",
       "      <td>2.66</td>\n",
       "    </tr>\n",
       "    <tr>\n",
       "      <th>tfidf + SVM sigmoid</th>\n",
       "      <td>0.686</td>\n",
       "      <td>87.25</td>\n",
       "    </tr>\n",
       "    <tr>\n",
       "      <th>bool + Neural Network</th>\n",
       "      <td>0.674</td>\n",
       "      <td>2.96</td>\n",
       "    </tr>\n",
       "    <tr>\n",
       "      <th>tfidf + KNeighbors</th>\n",
       "      <td>0.671</td>\n",
       "      <td>0.08</td>\n",
       "    </tr>\n",
       "    <tr>\n",
       "      <th>bool + SVM rbf</th>\n",
       "      <td>0.670</td>\n",
       "      <td>117.01</td>\n",
       "    </tr>\n",
       "    <tr>\n",
       "      <th>bool + Random Forest</th>\n",
       "      <td>0.654</td>\n",
       "      <td>16.75</td>\n",
       "    </tr>\n",
       "  </tbody>\n",
       "</table>\n",
       "</div>"
      ],
      "text/plain": [
       "                        F1-score  Time (s)\n",
       "tfidf + SVM rbf            0.701    121.86\n",
       "tfidf + SVM linear         0.698     88.88\n",
       "tfidf + Ridge              0.692      3.34\n",
       "tfidf + Logistic           0.687      4.33\n",
       "tfidf + Neural Network     0.687      2.66\n",
       "tfidf + SVM sigmoid        0.686     87.25\n",
       "bool + Neural Network      0.674      2.96\n",
       "tfidf + KNeighbors         0.671      0.08\n",
       "bool + SVM rbf             0.670    117.01\n",
       "bool + Random Forest       0.654     16.75"
      ]
     },
     "execution_count": 31,
     "metadata": {},
     "output_type": "execute_result"
    }
   ],
   "source": [
    "top_n = 10\n",
    "\n",
    "summary = {}\n",
    "for key in bool_results:\n",
    "    summary[\"bool + \"+key] = bool_results[key]\n",
    "    summary[\"tfidf + \"+key] = tfidf_results[key]\n",
    "    summary[\"w2v + \"+key] = w2v_results[key]\n",
    "    \n",
    "sorted_tuples = sorted(summary.items(), key=lambda item: item[1][RESULTS_SCORE], reverse=True)\n",
    "summary = {k: v for k, v in sorted_tuples[:top_n]}\n",
    "\n",
    "print(f\"Top-{top_n} combinations\")\n",
    "\n",
    "d = {'F1-score': [summary[i][RESULTS_SCORE] for i in summary],\n",
    "    'Time (s)': [summary[i][RESULTS_TIME] for i in summary]}\n",
    "\n",
    "df = pd.DataFrame(data=d, index=list(summary.keys()))\n",
    "df"
   ]
  },
  {
   "cell_type": "markdown",
   "metadata": {},
   "source": [
    "### Задание 3. Настройка гиперпараметров\n",
    "\n",
    "Выберите 3-5 лучших моделей (комбинаций представления текста и классификатора) и подберите для них гиперпараметры.  \n",
    "Выведите результаты и время построения моделей в удобном табличном виде, а также в виде графиков."
   ]
  },
  {
   "cell_type": "code",
   "execution_count": 28,
   "metadata": {},
   "outputs": [],
   "source": [
    "FREQUENCY_LIMIT = 40\n",
    "\n",
    "# Округление результатов\n",
    "TIME_ROUND = 2\n",
    "SCORE_ROUND = 3\n",
    "\n",
    "# Названия полей в словаре с результатами\n",
    "RESULTS_SCORE = \"Score\"\n",
    "RESULTS_TIME = \"Time\"\n",
    "\n",
    "# Файлы с результатами подбора гиперпараметров\n",
    "tfidf_SVM_file = \"results/tfidf_SVM.json\"\n",
    "tfidf_Ridge_file = \"results/tfidf_Ridge.json\"\n",
    "tfidf_Logistic_file = \"results/tfidf_Logistic.json\"\n",
    "tfidf_NN_file = \"results/tfidf_NeuralNet.json\"\n",
    "\n",
    "# Логарифмическая сетка для регуляризаторов\n",
    "alpha_pow_min = -6\n",
    "alpha_pow_max = 6\n",
    "alpha_base = 10\n",
    "alpha_amount = 13\n",
    "\n",
    "alphas = np.logspace(alpha_pow_min, alpha_pow_max, base = alpha_base, num = alpha_amount).tolist()"
   ]
  },
  {
   "cell_type": "code",
   "execution_count": 29,
   "metadata": {},
   "outputs": [],
   "source": [
    "clean_texts_train = load_json(clean_texts_train_file)\n",
    "train_labels = [item[\"sentiment\"] for item in train]"
   ]
  },
  {
   "cell_type": "code",
   "execution_count": 30,
   "metadata": {},
   "outputs": [],
   "source": [
    "def searchCV(clean_texts, labels, cv, classifier_search_function, vectorize_function):   \n",
    "    full_time_start = time.time()\n",
    "    \n",
    "    results = []\n",
    "    \n",
    "    # Разбиение текстов для кросс-валидации\n",
    "    skf = StratifiedKFold(n_splits=cv, random_state=seed, shuffle=True)\n",
    "        \n",
    "    for train_indeces, test_indeces in skf.split(clean_texts, labels):\n",
    "                \n",
    "        train_texts = [clean_texts[i] for i in train_indeces]\n",
    "        train_labels = [labels[i] for i in train_indeces]\n",
    "        \n",
    "        test_texts = [clean_texts[i] for i in test_indeces]\n",
    "        test_labels = [labels[i] for i in test_indeces]\n",
    "        \n",
    "        # Получение словаря для текущего разбиения\n",
    "        dict_ = make_dict(train_texts, FREQUENCY_LIMIT)\n",
    "        \n",
    "        # Кодирование train и test        \n",
    "        train_vect = vectorize_function(train_texts, dict_)\n",
    "        test_vect = vectorize_function(test_texts, dict_)    \n",
    "        \n",
    "        # Тестирование гиперпараметров для текущего разбиения\n",
    "        results.append(classifier_search_function(train_vect, test_vect, train_labels, test_labels))\n",
    "        \n",
    "    averaged_results = {}\n",
    "    for key in results[0]:\n",
    "        averaged_results[key] = {RESULTS_SCORE: 0, RESULTS_TIME: 0}\n",
    "    \n",
    "    for fold in results:\n",
    "        for key in fold:\n",
    "            averaged_results[key][RESULTS_SCORE] += fold[key][RESULTS_SCORE]\n",
    "            averaged_results[key][RESULTS_TIME] += fold[key][RESULTS_TIME]\n",
    "    \n",
    "    for key in averaged_results:\n",
    "        averaged_results[key][RESULTS_SCORE] = round(averaged_results[key][RESULTS_SCORE]/cv, SCORE_ROUND)\n",
    "        averaged_results[key][RESULTS_TIME] = round(averaged_results[key][RESULTS_TIME]/cv, TIME_ROUND)\n",
    "        \n",
    "    \n",
    "    sorted_tuples = sorted(averaged_results.items(), key=lambda item: item[1][RESULTS_SCORE], reverse=True)\n",
    "    averaged_results = {k: v for k, v in sorted_tuples}\n",
    "        \n",
    "    clear_output(wait=True)\n",
    "    print(f\"Overall time {round((time.time()-full_time_start)/60,TIME_ROUND)} min\")\n",
    "    return averaged_results"
   ]
  },
  {
   "cell_type": "code",
   "execution_count": 31,
   "metadata": {},
   "outputs": [],
   "source": [
    "def Ridge_search(X_train, X_test, y_train, y_test):\n",
    "    results = {}\n",
    "    \n",
    "    alpha_list = alphas\n",
    "    solver_list = ['svd', 'cholesky', 'lsqr', 'sparse_cg', 'sag', 'saga']\n",
    "    \n",
    "    for alpha in alpha_list:\n",
    "        for solver in solver_list:\n",
    "            clf = RidgeClassifier(random_state=seed, alpha=alpha, solver=solver)\n",
    "            \n",
    "            start_time = time.time()\n",
    "            clf.fit(X_train, y_train)\n",
    "            time_ = time.time()-start_time\n",
    "            \n",
    "            preds = clf.predict(X_test)\n",
    "            score = f1_score(y_test, preds, average=\"macro\")\n",
    "                                                \n",
    "            results[f\"alpha: {alpha}, solver: {solver}\"] = {RESULTS_SCORE: score, RESULTS_TIME: time_}\n",
    "            \n",
    "            print(f\"alpha: {alpha}, solver: {solver} | f1-score = {round(score, SCORE_ROUND)}, time = {round(time_, TIME_ROUND)} s\")\n",
    "       \n",
    "    return results"
   ]
  },
  {
   "cell_type": "code",
   "execution_count": null,
   "metadata": {},
   "outputs": [],
   "source": [
    "Ridge_results = searchCV(clean_texts_train, train_labels, 5, Ridge_search, create_tfidf_matrix) \n",
    "save_as_json(Ridge_results, tfidf_Ridge_file, indent=2)"
   ]
  },
  {
   "cell_type": "code",
   "execution_count": 32,
   "metadata": {},
   "outputs": [],
   "source": [
    "def SVM_search(X_train, X_test, y_train, y_test):\n",
    "    results = {}\n",
    "    \n",
    "    C_list = alphas\n",
    "    kernel_list = ['rbf', 'linear']\n",
    "        \n",
    "    for C in C_list:\n",
    "        for kernel in kernel_list:\n",
    "            clf = SVC(random_state=seed, C=C, kernel=kernel)\n",
    "            \n",
    "            start_time = time.time()\n",
    "            clf.fit(X_train, y_train)\n",
    "            time_ = time.time()-start_time\n",
    "            \n",
    "            preds = clf.predict(X_test)\n",
    "            score = f1_score(y_test, preds, average=\"macro\")\n",
    "                                                \n",
    "            results[f\"C: {C}, kernel: {kernel}\"] = {RESULTS_SCORE: score, RESULTS_TIME: time_}\n",
    "            \n",
    "            print(f\"C: {C}, kernel: {kernel} | f1-score = {round(score, SCORE_ROUND)}, time = {round(time_, TIME_ROUND)} s\")\n",
    "       \n",
    "    return results"
   ]
  },
  {
   "cell_type": "code",
   "execution_count": 28,
   "metadata": {},
   "outputs": [
    {
     "name": "stdout",
     "output_type": "stream",
     "text": [
      "Overall time 315.02 min\n"
     ]
    }
   ],
   "source": [
    "SVM_results = searchCV(clean_texts_train, train_labels, 5, SVM_search, create_tfidf_matrix) \n",
    "save_as_json(SVM_results, tfidf_SVM_file, indent=2)"
   ]
  },
  {
   "cell_type": "code",
   "execution_count": 33,
   "metadata": {},
   "outputs": [],
   "source": [
    "def Logistic_search(X_train, X_test, y_train, y_test):\n",
    "    results = {}\n",
    "\n",
    "    C_list = alphas[:8]\n",
    "    solver_list = ['newton-cg', 'lbfgs', 'liblinear', 'sag', 'saga']\n",
    "        \n",
    "    for C in C_list:\n",
    "        for solver in solver_list:\n",
    "            clf = LogisticRegression(random_state=seed, max_iter=5000, n_jobs=3, C=C, penalty='l2', solver=solver)\n",
    "\n",
    "            start_time = time.time()\n",
    "            clf.fit(X_train, y_train)\n",
    "            time_ = time.time()-start_time\n",
    "\n",
    "            preds = clf.predict(X_test)\n",
    "            score = f1_score(y_test, preds, average=\"macro\")\n",
    "\n",
    "            results[f\"C: {C}, solver: {solver}\"] = {RESULTS_SCORE: score, RESULTS_TIME: time_}\n",
    "\n",
    "            print(f\"C: {C}, solver: {solver} | f1-score = {round(score, SCORE_ROUND)}, time = {round(time_, TIME_ROUND)} s\")\n",
    "\n",
    "    return results"
   ]
  },
  {
   "cell_type": "code",
   "execution_count": 24,
   "metadata": {},
   "outputs": [
    {
     "name": "stdout",
     "output_type": "stream",
     "text": [
      "Overall time 251.64 min\n"
     ]
    }
   ],
   "source": [
    "Logistic_results = searchCV(clean_texts_train, train_labels, 5, Logistic_search, create_tfidf_matrix) \n",
    "save_as_json(Logistic_results, tfidf_Logistic_file, indent=2)"
   ]
  },
  {
   "cell_type": "code",
   "execution_count": 34,
   "metadata": {},
   "outputs": [],
   "source": [
    "class NeuralNetwork(torch.nn.Module):\n",
    "    def __init__(self, input_size, num_classes, hidden_size, activation, num_layers, use_dropout, use_batchnorm):\n",
    "        super().__init__()\n",
    "        \n",
    "        fcn = OrderedDict()\n",
    "        \n",
    "        fcn[\"input\"] = torch.nn.Linear(input_size, hidden_size)\n",
    "        \n",
    "        if use_batchnorm:\n",
    "            fcn[\"batchnorm_1\"] = torch.nn.BatchNorm1d(hidden_size)\n",
    "            \n",
    "        if use_dropout:\n",
    "            fcn[\"dropout_1\"] = torch.nn.Dropout(p=0.2)\n",
    "            \n",
    "        fcn[\"act_1\"] = activation\n",
    "        \n",
    "        num_layers -= 1\n",
    "                \n",
    "        for i in range(num_layers):            \n",
    "            if i == num_layers-1:\n",
    "                # Последний слой\n",
    "                fcn[\"hidden_\"+str(i+1)] = torch.nn.Linear(hidden_size, num_classes)                \n",
    "            else:\n",
    "                fcn[\"hidden_\"+str(i+1)] = torch.nn.Linear(hidden_size, hidden_size)\n",
    "                if use_batchnorm:\n",
    "                    fcn[\"batchnorm_\"+str(i+2)] = torch.nn.BatchNorm1d(hidden_size)\n",
    "                if use_dropout:\n",
    "                    fcn[\"dropout_\"+str(i+2)] = torch.nn.Dropout(p=0.2)\n",
    "                        \n",
    "                fcn[\"act_\"+str(i+2)] = activation\n",
    "        \n",
    "        self.layers = torch.nn.Sequential(fcn)\n",
    "        self.softmax = torch.nn.Softmax(dim=1)\n",
    "        \n",
    "    def forward(self, x):\n",
    "        x = self.layers(x)\n",
    "        x = self.softmax(x)\n",
    "        return x"
   ]
  },
  {
   "cell_type": "code",
   "execution_count": 35,
   "metadata": {},
   "outputs": [],
   "source": [
    "def train_loop(data_loader, model, loss_fn, optimizer):\n",
    "    model.train()\n",
    "    for i, (texts, labels) in enumerate(data_loader):\n",
    "        \n",
    "        texts = texts.to(device)\n",
    "        labels = labels.to(device)\n",
    "        \n",
    "        predicts = model(texts)  \n",
    "        \n",
    "        loss = loss_fn(predicts, labels)\n",
    "        \n",
    "        optimizer.zero_grad()\n",
    "        loss.backward()\n",
    "        \n",
    "        optimizer.step()\n",
    "        \n",
    "        #if i % 50 == 0:\n",
    "            #print(f'loss: {loss}')"
   ]
  },
  {
   "cell_type": "code",
   "execution_count": 36,
   "metadata": {},
   "outputs": [],
   "source": [
    "function = None\n",
    "def init_weights(m):\n",
    "    if type(m) == nn.Linear:\n",
    "        \n",
    "        #if function == 'uniform':\n",
    "        #    torch.nn.init.uniform_(m.weight, a=0.0, b=1.0)\n",
    "        \n",
    "        #if function == 'normal':\n",
    "        #    torch.nn.init.normal_(m.weight, mean=0.0, std=1.0)\n",
    "        \n",
    "        if function == 'xavier_uniform':\n",
    "            torch.nn.init.xavier_uniform_(m.weight, gain=1.0)\n",
    "        \n",
    "        if function == 'xavier_normal':\n",
    "            torch.nn.init.xavier_normal_(m.weight, gain=1.0)\n",
    "        \n",
    "        if function == 'kaiming_uniform':\n",
    "            torch.nn.init.kaiming_uniform_(m.weight, a=0,\n",
    "                mode='fan_in', nonlinearity='leaky_relu')\n",
    "        \n",
    "        if function == 'kaiming_normal':\n",
    "            torch.nn.init.kaiming_normal_(m.weight, a=0,\n",
    "                mode='fan_in', nonlinearity='leaky_relu')\n",
    "        \n",
    "        m.bias.data.fill_(0)"
   ]
  },
  {
   "cell_type": "code",
   "execution_count": 37,
   "metadata": {},
   "outputs": [],
   "source": [
    "def search_NN(clean_texts, labels, cv, vectorize_function):   \n",
    "    \n",
    "    results = {}  \n",
    "    \n",
    "    BATCH_SIZE = 300\n",
    "    num_classes = 3\n",
    "    num_epoch = 10\n",
    "    \n",
    "    initF_list = ['xavier_uniform', 'xavier_normal', 'kaiming_uniform', 'kaiming_normal']    \n",
    "    optim_list = ['Nesterov SGD', 'AdaGrad', 'RMSProp', 'Adam', 'AdamW']    \n",
    "    use_dropout_list = [True, False]\n",
    "    use_batchnorm_list = [True, False]\n",
    "    activation_list = {'relu': torch.nn.ReLU(), 'tanh': torch.nn.Tanh()}\n",
    "    num_layers_list = [2, 3, 4]\n",
    "    hidden_size_list = [500, 1000, 2000, 4000]\n",
    "        \n",
    "    full_time_start = time.time()\n",
    "    \n",
    "    torch.manual_seed(seed)\n",
    "        \n",
    "    # Разбиение текстов для кросс-валидации\n",
    "    skf = StratifiedKFold(n_splits=cv, random_state=seed, shuffle=True)\n",
    "        \n",
    "    first_fold = True\n",
    "            \n",
    "    for train_indeces, test_indeces in skf.split(clean_texts, labels):\n",
    "                \n",
    "        train_texts = [clean_texts[i] for i in train_indeces]\n",
    "        train_labels = [labels[i] for i in train_indeces]\n",
    "        \n",
    "        test_texts = [clean_texts[i] for i in test_indeces]\n",
    "        test_labels = [labels[i] for i in test_indeces]\n",
    "        \n",
    "        # Получение словаря для текущего разбиения\n",
    "        dict_ = make_dict(train_texts, FREQUENCY_LIMIT)\n",
    "        \n",
    "        # Кодирование train и test        \n",
    "        train_vect = vectorize_function(train_texts, dict_)\n",
    "        test_vect = vectorize_function(test_texts, dict_)\n",
    "                                               \n",
    "        # Создание датасетов для нейронной сети по текущему разбиению\n",
    "        train_ = TensorDataset(torch.tensor(train_vect.astype(np.float32)), \n",
    "                               torch.tensor(class_names_to_digits(train_labels).astype(np.float32)))        \n",
    "        train_loader = DataLoader(train_, batch_size=BATCH_SIZE, shuffle=True)\n",
    "        \n",
    "        test_ = TensorDataset(torch.tensor(test_vect.astype(np.float32)), \n",
    "                               torch.tensor(class_names_to_digits(test_labels).astype(np.float32)))        \n",
    "        test_loader = DataLoader(test_, batch_size=BATCH_SIZE, shuffle=True)\n",
    "                       \n",
    "        input_size = train_vect.shape[1]\n",
    "         \n",
    "        fit_number = 0\n",
    "        \n",
    "        # Полный перебор\n",
    "        for values in itertools.product(\n",
    "                                        initF_list, \n",
    "                                        optim_list, \n",
    "                                        use_dropout_list, \n",
    "                                        use_batchnorm_list, \n",
    "                                        activation_list,\n",
    "                                        num_layers_list,\n",
    "                                        hidden_size_list\n",
    "                                        ):\n",
    "            \n",
    "            # Получение значений гиперпараметров для текущей итерации            \n",
    "            initF = values[0]\n",
    "            optim = values[1]\n",
    "            use_dropout = values[2] \n",
    "            use_batchnorm = values[3]\n",
    "            activation = values[4]\n",
    "            num_layers = values[5]\n",
    "            hidden_size = values[6]\n",
    "            \n",
    "            # Номер итерации для записи в словарь результатов\n",
    "            fit_number += 1\n",
    "            \n",
    "            # Создание нейронной сети\n",
    "            model = NeuralNetwork(\n",
    "                input_size=input_size, \n",
    "                num_classes=num_classes, \n",
    "                hidden_size=hidden_size, \n",
    "                activation=activation_list[activation], \n",
    "                num_layers=num_layers, \n",
    "                use_dropout=use_dropout, \n",
    "                use_batchnorm=use_batchnorm\n",
    "            )\n",
    "            \n",
    "            model.to(device)\n",
    "            \n",
    "            # Инициализация весов\n",
    "            function = initF    \n",
    "            model.apply(init_weights)  \n",
    "            \n",
    "            loss_fn = nn.BCELoss()\n",
    "            learning_rate = 0.001\n",
    "            \n",
    "            optimizer = None\n",
    "            if optim == 'Nesterov SGD':\n",
    "                optimizer = torch.optim.SGD(model.parameters(), lr=learning_rate, momentum = 0.9, nesterov = True)\n",
    "            if optim == 'AdaGrad':\n",
    "                optimizer = torch.optim.Adagrad(model.parameters(), lr=learning_rate)\n",
    "            if optim == 'RMSProp':\n",
    "                optimizer = torch.optim.RMSprop(model.parameters(), lr=learning_rate)\n",
    "            if optim == 'Adam':\n",
    "                optimizer = torch.optim.Adam(model.parameters(), lr=learning_rate)\n",
    "            if optim == 'AdamW':\n",
    "                optimizer = torch.optim.AdamW(model.parameters(), lr=learning_rate)\n",
    "                    \n",
    "            start_time = time.time()\n",
    "            # Обучение нейронной сети        \n",
    "            for t in range(num_epoch):\n",
    "                train_loop(train_loader, model, loss_fn, optimizer)\n",
    "            time_ = time.time() - start_time\n",
    "\n",
    "            # Оценка нейронной сети\n",
    "            labels_list = []\n",
    "            predicted_list = []        \n",
    "            with torch.no_grad():\n",
    "                model.eval()\n",
    "                for X, y in test_loader:\n",
    "                    X = X.to(device)\n",
    "                    y = y.to(device)\n",
    "                    y_pred = model(X)\n",
    "                    labels_list += y\n",
    "                    predicted_list += y_pred\n",
    "\n",
    "            for i in range(len(labels_list)):\n",
    "                labels_list[i] = labels_list[i].cpu().numpy().tolist()\n",
    "                predicted_list[i] = predicted_list[i].cpu().numpy().tolist()\n",
    "\n",
    "            labels_list = digits_to_class_names(labels_list)\n",
    "            predicted_list = digits_to_class_names(predicted_list)\n",
    "\n",
    "            score = f1_score(labels_list, predicted_list, average='macro')\n",
    "            \n",
    "            parameters_string = f\"initW={initF}, optimizer={optim}, dropout={str(use_dropout)}, batchnorm={str(use_batchnorm)}, \\nactivation={activation}, num_layers={num_layers}, hidden_size={hidden_size}\"\n",
    "            \n",
    "            # Результаты и гиперпараметры для каждого набора\n",
    "            if first_fold:\n",
    "                results[fit_number] = {\n",
    "                    RESULTS_SCORE: 0, \n",
    "                    RESULTS_TIME: 0,\n",
    "                    \"init weights\": initF,\n",
    "                    \"optimizer\": optim,\n",
    "                    \"use dropout\": str(use_dropout),\n",
    "                    \"use batchnorm\": str(use_batchnorm),\n",
    "                    \"activation\": activation,\n",
    "                    \"num layers\": num_layers,\n",
    "                    \"hidden_size\": hidden_size\n",
    "                }                \n",
    "\n",
    "            results[fit_number][RESULTS_SCORE] += score\n",
    "            results[fit_number][RESULTS_TIME] += time_\n",
    "            \n",
    "            print(f\"\\n{parameters_string} | score = {round(score, SCORE_ROUND)}, time = {round(time_, TIME_ROUND)}, fit {fit_number}\")\n",
    "            \n",
    "            \n",
    "        # Сохранение результатов первого фолда\n",
    "        if first_fold:\n",
    "            save_as_json(results, \"results/tfidf_NN_first_fold_.json\", indent=2)\n",
    "        \n",
    "        first_fold = False\n",
    "        \n",
    "    \n",
    "    # Получение средних значений\n",
    "    for i in results:\n",
    "        results[i][RESULTS_SCORE] /= cv\n",
    "        results[i][RESULTS_TIME] /= cv\n",
    "        results[i][RESULTS_SCORE] = round(results[i][RESULTS_SCORE], SCORE_ROUND)\n",
    "        results[i][RESULTS_TIME] = round(results[i][RESULTS_TIME], TIME_ROUND)\n",
    "    \n",
    "    sorted_tuples = sorted(results.items(), key=lambda item: item[1][RESULTS_SCORE], reverse=True)\n",
    "    results = {k: v for k, v in sorted_tuples}\n",
    "    \n",
    "    clear_output(wait=True)\n",
    "    print(f\"Overall time: {round((time.time()-full_time_start)/60, TIME_ROUND)} min\")\n",
    "    return results"
   ]
  },
  {
   "cell_type": "code",
   "execution_count": 30,
   "metadata": {},
   "outputs": [
    {
     "name": "stdout",
     "output_type": "stream",
     "text": [
      "Overall time: 1092.61 min\n"
     ]
    }
   ],
   "source": [
    "clean_texts_train = load_json(clean_texts_train_file)\n",
    "results_NN_tfidf = search_NN(clean_texts_train, train_labels, 5, create_tfidf_matrix)\n",
    "save_as_json(results_NN_tfidf, tfidf_NN_file, indent=2)"
   ]
  },
  {
   "cell_type": "markdown",
   "metadata": {},
   "source": [
    "#### Результаты"
   ]
  },
  {
   "cell_type": "code",
   "execution_count": 38,
   "metadata": {},
   "outputs": [],
   "source": [
    "def show_results(name, file, TOP):\n",
    "    print(f\"{name}, top-{TOP}\")\n",
    "    dict_ = load_json(file)\n",
    "\n",
    "    d = {'f1-score': [dict_[i][RESULTS_SCORE] for i in dict_], \n",
    "\n",
    "         'time, s': [dict_[i][RESULTS_TIME] for i in dict_]}\n",
    "\n",
    "    df = pd.DataFrame(data=d, index=list(dict_.keys()))\n",
    "    return df.sort_values(by=['f1-score'], ascending=False)[:TOP]"
   ]
  },
  {
   "cell_type": "code",
   "execution_count": 39,
   "metadata": {},
   "outputs": [],
   "source": [
    "def show_NN_results(file, TOP):\n",
    "    print(f\"Neural Network tuning results, top-{TOP}\")\n",
    "    NN_results = load_json(file)\n",
    "    keys = list(NN_results[\"1\"].keys())[2:]\n",
    "\n",
    "    d = {'f1-score': [round(NN_results[i][RESULTS_SCORE],3) for i in NN_results], \n",
    "\n",
    "         'time, s': [round(NN_results[i][RESULTS_TIME],2) for i in NN_results],\n",
    "\n",
    "         keys[0]: [NN_results[i][keys[0]] for i in NN_results],\n",
    "         keys[1]: [NN_results[i][keys[1]] for i in NN_results],\n",
    "         keys[2]: [NN_results[i][keys[2]] for i in NN_results],\n",
    "         keys[3]: [NN_results[i][keys[3]] for i in NN_results],\n",
    "         keys[4]: [NN_results[i][keys[4]] for i in NN_results],\n",
    "         keys[5]: [NN_results[i][keys[5]] for i in NN_results],\n",
    "         keys[6]: [NN_results[i][keys[6]] for i in NN_results],\n",
    "        }\n",
    "    \n",
    "    df = pd.DataFrame(data=d, index=list(NN_results.keys()))\n",
    "    return df.sort_values(by=['f1-score'], ascending=False)[:TOP]"
   ]
  },
  {
   "cell_type": "code",
   "execution_count": 45,
   "metadata": {},
   "outputs": [],
   "source": [
    "TOP = 5"
   ]
  },
  {
   "cell_type": "code",
   "execution_count": 46,
   "metadata": {},
   "outputs": [
    {
     "name": "stdout",
     "output_type": "stream",
     "text": [
      "SVM tuning results, top-5\n"
     ]
    },
    {
     "data": {
      "text/html": [
       "<div>\n",
       "<style scoped>\n",
       "    .dataframe tbody tr th:only-of-type {\n",
       "        vertical-align: middle;\n",
       "    }\n",
       "\n",
       "    .dataframe tbody tr th {\n",
       "        vertical-align: top;\n",
       "    }\n",
       "\n",
       "    .dataframe thead th {\n",
       "        text-align: right;\n",
       "    }\n",
       "</style>\n",
       "<table border=\"1\" class=\"dataframe\">\n",
       "  <thead>\n",
       "    <tr style=\"text-align: right;\">\n",
       "      <th></th>\n",
       "      <th>f1-score</th>\n",
       "      <th>time, s</th>\n",
       "    </tr>\n",
       "  </thead>\n",
       "  <tbody>\n",
       "    <tr>\n",
       "      <th>C: 1.0, kernel: rbf</th>\n",
       "      <td>0.701</td>\n",
       "      <td>105.33</td>\n",
       "    </tr>\n",
       "    <tr>\n",
       "      <th>C: 10.0, kernel: rbf</th>\n",
       "      <td>0.699</td>\n",
       "      <td>141.11</td>\n",
       "    </tr>\n",
       "    <tr>\n",
       "      <th>C: 1.0, kernel: linear</th>\n",
       "      <td>0.697</td>\n",
       "      <td>81.16</td>\n",
       "    </tr>\n",
       "    <tr>\n",
       "      <th>C: 100.0, kernel: rbf</th>\n",
       "      <td>0.685</td>\n",
       "      <td>130.15</td>\n",
       "    </tr>\n",
       "    <tr>\n",
       "      <th>C: 10.0, kernel: linear</th>\n",
       "      <td>0.668</td>\n",
       "      <td>72.79</td>\n",
       "    </tr>\n",
       "  </tbody>\n",
       "</table>\n",
       "</div>"
      ],
      "text/plain": [
       "                         f1-score  time, s\n",
       "C: 1.0, kernel: rbf         0.701   105.33\n",
       "C: 10.0, kernel: rbf        0.699   141.11\n",
       "C: 1.0, kernel: linear      0.697    81.16\n",
       "C: 100.0, kernel: rbf       0.685   130.15\n",
       "C: 10.0, kernel: linear     0.668    72.79"
      ]
     },
     "execution_count": 46,
     "metadata": {},
     "output_type": "execute_result"
    }
   ],
   "source": [
    "show_results(\"SVM tuning results\", tfidf_SVM_file, TOP)"
   ]
  },
  {
   "cell_type": "code",
   "execution_count": 47,
   "metadata": {},
   "outputs": [
    {
     "name": "stdout",
     "output_type": "stream",
     "text": [
      "Ridge classifier tuning results, top-5\n"
     ]
    },
    {
     "data": {
      "text/html": [
       "<div>\n",
       "<style scoped>\n",
       "    .dataframe tbody tr th:only-of-type {\n",
       "        vertical-align: middle;\n",
       "    }\n",
       "\n",
       "    .dataframe tbody tr th {\n",
       "        vertical-align: top;\n",
       "    }\n",
       "\n",
       "    .dataframe thead th {\n",
       "        text-align: right;\n",
       "    }\n",
       "</style>\n",
       "<table border=\"1\" class=\"dataframe\">\n",
       "  <thead>\n",
       "    <tr style=\"text-align: right;\">\n",
       "      <th></th>\n",
       "      <th>f1-score</th>\n",
       "      <th>time, s</th>\n",
       "    </tr>\n",
       "  </thead>\n",
       "  <tbody>\n",
       "    <tr>\n",
       "      <th>alpha: 1.0, solver: svd</th>\n",
       "      <td>0.693</td>\n",
       "      <td>69.10</td>\n",
       "    </tr>\n",
       "    <tr>\n",
       "      <th>alpha: 1.0, solver: sag</th>\n",
       "      <td>0.693</td>\n",
       "      <td>26.07</td>\n",
       "    </tr>\n",
       "    <tr>\n",
       "      <th>alpha: 1.0, solver: saga</th>\n",
       "      <td>0.693</td>\n",
       "      <td>21.53</td>\n",
       "    </tr>\n",
       "    <tr>\n",
       "      <th>alpha: 1.0, solver: cholesky</th>\n",
       "      <td>0.693</td>\n",
       "      <td>3.57</td>\n",
       "    </tr>\n",
       "    <tr>\n",
       "      <th>alpha: 1.0, solver: lsqr</th>\n",
       "      <td>0.693</td>\n",
       "      <td>1.90</td>\n",
       "    </tr>\n",
       "  </tbody>\n",
       "</table>\n",
       "</div>"
      ],
      "text/plain": [
       "                              f1-score  time, s\n",
       "alpha: 1.0, solver: svd          0.693    69.10\n",
       "alpha: 1.0, solver: sag          0.693    26.07\n",
       "alpha: 1.0, solver: saga         0.693    21.53\n",
       "alpha: 1.0, solver: cholesky     0.693     3.57\n",
       "alpha: 1.0, solver: lsqr         0.693     1.90"
      ]
     },
     "execution_count": 47,
     "metadata": {},
     "output_type": "execute_result"
    }
   ],
   "source": [
    "show_results(\"Ridge classifier tuning results\", tfidf_Ridge_file, TOP)"
   ]
  },
  {
   "cell_type": "code",
   "execution_count": 48,
   "metadata": {},
   "outputs": [
    {
     "name": "stdout",
     "output_type": "stream",
     "text": [
      "Logistic regression tuning results, top-5\n"
     ]
    },
    {
     "data": {
      "text/html": [
       "<div>\n",
       "<style scoped>\n",
       "    .dataframe tbody tr th:only-of-type {\n",
       "        vertical-align: middle;\n",
       "    }\n",
       "\n",
       "    .dataframe tbody tr th {\n",
       "        vertical-align: top;\n",
       "    }\n",
       "\n",
       "    .dataframe thead th {\n",
       "        text-align: right;\n",
       "    }\n",
       "</style>\n",
       "<table border=\"1\" class=\"dataframe\">\n",
       "  <thead>\n",
       "    <tr style=\"text-align: right;\">\n",
       "      <th></th>\n",
       "      <th>f1-score</th>\n",
       "      <th>time, s</th>\n",
       "    </tr>\n",
       "  </thead>\n",
       "  <tbody>\n",
       "    <tr>\n",
       "      <th>C: 10.0, solver: liblinear</th>\n",
       "      <td>0.692</td>\n",
       "      <td>1.18</td>\n",
       "    </tr>\n",
       "    <tr>\n",
       "      <th>C: 10.0, solver: newton-cg</th>\n",
       "      <td>0.684</td>\n",
       "      <td>49.56</td>\n",
       "    </tr>\n",
       "    <tr>\n",
       "      <th>C: 10.0, solver: lbfgs</th>\n",
       "      <td>0.684</td>\n",
       "      <td>77.22</td>\n",
       "    </tr>\n",
       "    <tr>\n",
       "      <th>C: 10.0, solver: saga</th>\n",
       "      <td>0.684</td>\n",
       "      <td>37.93</td>\n",
       "    </tr>\n",
       "    <tr>\n",
       "      <th>C: 1.0, solver: newton-cg</th>\n",
       "      <td>0.683</td>\n",
       "      <td>30.67</td>\n",
       "    </tr>\n",
       "  </tbody>\n",
       "</table>\n",
       "</div>"
      ],
      "text/plain": [
       "                            f1-score  time, s\n",
       "C: 10.0, solver: liblinear     0.692     1.18\n",
       "C: 10.0, solver: newton-cg     0.684    49.56\n",
       "C: 10.0, solver: lbfgs         0.684    77.22\n",
       "C: 10.0, solver: saga          0.684    37.93\n",
       "C: 1.0, solver: newton-cg      0.683    30.67"
      ]
     },
     "execution_count": 48,
     "metadata": {},
     "output_type": "execute_result"
    }
   ],
   "source": [
    "show_results(\"Logistic regression tuning results\", tfidf_Logistic_file, TOP)"
   ]
  },
  {
   "cell_type": "code",
   "execution_count": 52,
   "metadata": {},
   "outputs": [
    {
     "name": "stdout",
     "output_type": "stream",
     "text": [
      "Neural Network tuning results, top-5\n"
     ]
    },
    {
     "data": {
      "text/html": [
       "<div>\n",
       "<style scoped>\n",
       "    .dataframe tbody tr th:only-of-type {\n",
       "        vertical-align: middle;\n",
       "    }\n",
       "\n",
       "    .dataframe tbody tr th {\n",
       "        vertical-align: top;\n",
       "    }\n",
       "\n",
       "    .dataframe thead th {\n",
       "        text-align: right;\n",
       "    }\n",
       "</style>\n",
       "<table border=\"1\" class=\"dataframe\">\n",
       "  <thead>\n",
       "    <tr style=\"text-align: right;\">\n",
       "      <th></th>\n",
       "      <th>f1-score</th>\n",
       "      <th>time, s</th>\n",
       "      <th>init weights</th>\n",
       "      <th>optimizer</th>\n",
       "      <th>use dropout</th>\n",
       "      <th>use batchnorm</th>\n",
       "      <th>activation</th>\n",
       "      <th>num layers</th>\n",
       "      <th>hidden_size</th>\n",
       "    </tr>\n",
       "  </thead>\n",
       "  <tbody>\n",
       "    <tr>\n",
       "      <th>138</th>\n",
       "      <td>0.703</td>\n",
       "      <td>2.56</td>\n",
       "      <td>xavier_uniform</td>\n",
       "      <td>AdaGrad</td>\n",
       "      <td>True</td>\n",
       "      <td>False</td>\n",
       "      <td>tanh</td>\n",
       "      <td>3</td>\n",
       "      <td>1000</td>\n",
       "    </tr>\n",
       "    <tr>\n",
       "      <th>1086</th>\n",
       "      <td>0.702</td>\n",
       "      <td>2.60</td>\n",
       "      <td>kaiming_uniform</td>\n",
       "      <td>AdaGrad</td>\n",
       "      <td>True</td>\n",
       "      <td>False</td>\n",
       "      <td>relu</td>\n",
       "      <td>3</td>\n",
       "      <td>1000</td>\n",
       "    </tr>\n",
       "    <tr>\n",
       "      <th>1566</th>\n",
       "      <td>0.702</td>\n",
       "      <td>2.58</td>\n",
       "      <td>kaiming_normal</td>\n",
       "      <td>AdaGrad</td>\n",
       "      <td>True</td>\n",
       "      <td>False</td>\n",
       "      <td>relu</td>\n",
       "      <td>3</td>\n",
       "      <td>1000</td>\n",
       "    </tr>\n",
       "    <tr>\n",
       "      <th>1569</th>\n",
       "      <td>0.702</td>\n",
       "      <td>1.60</td>\n",
       "      <td>kaiming_normal</td>\n",
       "      <td>AdaGrad</td>\n",
       "      <td>True</td>\n",
       "      <td>False</td>\n",
       "      <td>relu</td>\n",
       "      <td>4</td>\n",
       "      <td>500</td>\n",
       "    </tr>\n",
       "    <tr>\n",
       "      <th>657</th>\n",
       "      <td>0.702</td>\n",
       "      <td>1.58</td>\n",
       "      <td>xavier_normal</td>\n",
       "      <td>AdaGrad</td>\n",
       "      <td>False</td>\n",
       "      <td>False</td>\n",
       "      <td>relu</td>\n",
       "      <td>4</td>\n",
       "      <td>500</td>\n",
       "    </tr>\n",
       "  </tbody>\n",
       "</table>\n",
       "</div>"
      ],
      "text/plain": [
       "      f1-score  time, s     init weights optimizer use dropout use batchnorm  \\\n",
       "138      0.703     2.56   xavier_uniform   AdaGrad        True         False   \n",
       "1086     0.702     2.60  kaiming_uniform   AdaGrad        True         False   \n",
       "1566     0.702     2.58   kaiming_normal   AdaGrad        True         False   \n",
       "1569     0.702     1.60   kaiming_normal   AdaGrad        True         False   \n",
       "657      0.702     1.58    xavier_normal   AdaGrad       False         False   \n",
       "\n",
       "     activation  num layers  hidden_size  \n",
       "138        tanh           3         1000  \n",
       "1086       relu           3         1000  \n",
       "1566       relu           3         1000  \n",
       "1569       relu           4          500  \n",
       "657        relu           4          500  "
      ]
     },
     "execution_count": 52,
     "metadata": {},
     "output_type": "execute_result"
    }
   ],
   "source": [
    "show_NN_results(tfidf_NN_file, TOP)"
   ]
  },
  {
   "cell_type": "code",
   "execution_count": 21,
   "metadata": {},
   "outputs": [
    {
     "name": "stdout",
     "output_type": "stream",
     "text": [
      "8263\n",
      "2056\n",
      "dictionary generated in 1.41 s\n",
      "idf calculated in 6.03 s\n",
      "matrix generated in 23.71 s\n",
      "matrix normalized in 19.23 s\n",
      "idf calculated in 1.12 s\n",
      "matrix generated in 7.06 s\n",
      "matrix normalized in 4.74 s\n"
     ]
    }
   ],
   "source": [
    "train_labels = [item[\"sentiment\"] for item in train]\n",
    "clean_texts_train = load_json(clean_texts_train_file)\n",
    "clean_texts_test = load_json(clean_texts_test_file)\n",
    "\n",
    "print(len(clean_texts_train))\n",
    "print(len(clean_texts_test))\n",
    "\n",
    "FREQUENCY_LIMIT = 40\n",
    "dict_ = make_dict(clean_texts_train, FREQUENCY_LIMIT)\n",
    "\n",
    "train_vect = create_tfidf_matrix(clean_texts_train, dict_)\n",
    "test_vect = create_tfidf_matrix(clean_texts_test, dict_)\n",
    "\n",
    "save_as_sparse(train_vect, \"vectorized/train.npz\")"
   ]
  },
  {
   "cell_type": "code",
   "execution_count": 94,
   "metadata": {},
   "outputs": [],
   "source": [
    "def submit(name, predictions):\n",
    "    test_ids = [item[\"id\"] for item in test]\n",
    "    submission_df = {\"id\": test_ids,\n",
    "                     \"sentiment\": predictions}\n",
    "    submission = pd.DataFrame(submission_df)\n",
    "    submission.to_csv(f'submissions/{name}.csv', index=False)"
   ]
  },
  {
   "cell_type": "markdown",
   "metadata": {},
   "source": [
    "Ridge classifier"
   ]
  },
  {
   "cell_type": "code",
   "execution_count": 97,
   "metadata": {},
   "outputs": [],
   "source": [
    "clf = RidgeClassifier(random_state=seed, alpha=1.0, solver='lsqr')\n",
    "clf.fit(train_vect, train_labels)\n",
    "predictions = clf.predict(test_vect)"
   ]
  },
  {
   "cell_type": "code",
   "execution_count": 99,
   "metadata": {},
   "outputs": [],
   "source": [
    "submit(\"Ridge 1 lsqr\", predictions)"
   ]
  },
  {
   "attachments": {
    "image.png": {
     "image/png": "[encoded data removed]"
    }
   },
   "cell_type": "markdown",
   "metadata": {},
   "source": [
    "![image.png](attachment:image.png)"
   ]
  },
  {
   "cell_type": "markdown",
   "metadata": {},
   "source": [
    "SVM classifier"
   ]
  },
  {
   "cell_type": "code",
   "execution_count": 100,
   "metadata": {},
   "outputs": [],
   "source": [
    "clf = SVC(random_state=seed, C=1.0, kernel=\"rbf\")\n",
    "clf.fit(train_vect, train_labels)\n",
    "predictions = clf.predict(test_vect)"
   ]
  },
  {
   "cell_type": "code",
   "execution_count": 101,
   "metadata": {},
   "outputs": [],
   "source": [
    "submit(\"SVM 1 rbf\", predictions)"
   ]
  },
  {
   "attachments": {
    "image.png": {
     "image/png": "[encoded data removed]"
    }
   },
   "cell_type": "markdown",
   "metadata": {},
   "source": [
    "![image.png](attachment:image.png)"
   ]
  },
  {
   "cell_type": "markdown",
   "metadata": {},
   "source": [
    "Logistic regression"
   ]
  },
  {
   "cell_type": "code",
   "execution_count": 103,
   "metadata": {},
   "outputs": [],
   "source": [
    "clf = LogisticRegression(random_state=seed, max_iter=5000, C=10, penalty='l2', solver='liblinear')\n",
    "clf.fit(train_vect, train_labels)\n",
    "predictions = clf.predict(test_vect)"
   ]
  },
  {
   "cell_type": "code",
   "execution_count": 104,
   "metadata": {},
   "outputs": [],
   "source": [
    "submit(\"Logistic 10 liblinear\", predictions)"
   ]
  },
  {
   "attachments": {
    "image.png": {
     "image/png": "[encoded data removed]"
    }
   },
   "cell_type": "markdown",
   "metadata": {},
   "source": [
    "![image.png](attachment:image.png)"
   ]
  },
  {
   "cell_type": "markdown",
   "metadata": {},
   "source": [
    "Neural network"
   ]
  },
  {
   "cell_type": "code",
   "execution_count": 168,
   "metadata": {},
   "outputs": [],
   "source": [
    "torch.manual_seed(seed)\n",
    "\n",
    "BATCH_SIZE = 300\n",
    "num_classes = 3\n",
    "num_epoch = 10\n",
    "\n",
    "# Создание датасетов\n",
    "train_ = TensorDataset(torch.tensor(train_vect.astype(np.float32)), \n",
    "                       torch.tensor(class_names_to_digits(train_labels).astype(np.float32)))        \n",
    "train_loader = DataLoader(train_, batch_size=BATCH_SIZE, shuffle=True)\n",
    "\n",
    "test_ = TensorDataset(torch.tensor(test_vect.astype(np.float32)))        \n",
    "test_loader = DataLoader(test_, batch_size=BATCH_SIZE, shuffle=False)\n",
    "\n",
    "input_size = train_vect.shape[1]\n",
    "\n",
    "# fit 138 \n",
    "'''\n",
    "initF = 'xavier_uniform'\n",
    "optim = 'AdaGrad'\n",
    "use_dropout = True\n",
    "use_batchnorm = False\n",
    "activation = torch.nn.Tanh()\n",
    "num_layers = 3\n",
    "hidden_size = 1000\n",
    "'''\n",
    "\n",
    "# fit 1086 \n",
    "#'''\n",
    "initF = 'kaiming_uniform'\n",
    "optim = 'AdaGrad'\n",
    "use_dropout = True\n",
    "use_batchnorm = False\n",
    "activation = torch.nn.ReLU()\n",
    "num_layers = 3\n",
    "hidden_size = 1000\n",
    "#'''\n",
    "\n",
    "# Создание нейронной сети\n",
    "model = NeuralNetwork(\n",
    "    input_size=input_size, \n",
    "    num_classes=num_classes, \n",
    "    hidden_size=hidden_size, \n",
    "    activation=activation, \n",
    "    num_layers=num_layers, \n",
    "    use_dropout=use_dropout, \n",
    "    use_batchnorm=use_batchnorm\n",
    ")\n",
    "\n",
    "model.to(device)\n",
    "\n",
    "# Инициализация весов\n",
    "function = initF    \n",
    "model.apply(init_weights)  \n",
    "\n",
    "loss_fn = nn.BCELoss()\n",
    "learning_rate = 0.001\n",
    "\n",
    "optimizer = None\n",
    "if optim == 'Nesterov SGD':\n",
    "    optimizer = torch.optim.SGD(model.parameters(), lr=learning_rate, momentum = 0.9, nesterov = True)\n",
    "if optim == 'AdaGrad':\n",
    "    optimizer = torch.optim.Adagrad(model.parameters(), lr=learning_rate)\n",
    "if optim == 'RMSProp':\n",
    "    optimizer = torch.optim.RMSprop(model.parameters(), lr=learning_rate)\n",
    "if optim == 'Adam':\n",
    "    optimizer = torch.optim.Adam(model.parameters(), lr=learning_rate)\n",
    "if optim == 'AdamW':\n",
    "    optimizer = torch.optim.AdamW(model.parameters(), lr=learning_rate)\n",
    "\n",
    "# Обучение нейронной сети        \n",
    "for t in range(num_epoch):\n",
    "    train_loop(train_loader, model, loss_fn, optimizer)\n",
    "\n",
    "# Получение предсказаний\n",
    "predicted_list = []        \n",
    "with torch.no_grad():\n",
    "    model.eval()\n",
    "    for X in test_loader:\n",
    "        X = X[0].to(device)\n",
    "        y_pred = model(X)\n",
    "        predicted_list += y_pred\n",
    "\n",
    "for i in range(len(predicted_list)):\n",
    "    predicted_list[i] = predicted_list[i].cpu().numpy().tolist()\n",
    "    \n",
    "predicted_list = digits_to_class_names(predicted_list)"
   ]
  },
  {
   "cell_type": "code",
   "execution_count": 169,
   "metadata": {},
   "outputs": [],
   "source": [
    "submit(\"Neural Net 138\", predicted_list)"
   ]
  },
  {
   "attachments": {
    "image.png": {
     "image/png": "[encoded data removed]"
    }
   },
   "cell_type": "markdown",
   "metadata": {},
   "source": [
    "![image.png](attachment:image.png)"
   ]
  },
  {
   "cell_type": "code",
   "execution_count": null,
   "metadata": {},
   "outputs": [],
   "source": [
    "submit(\"Neural Net 1086\", predicted_list)"
   ]
  },
  {
   "attachments": {
    "image.png": {
     "image/png": "[encoded data removed]"
    }
   },
   "cell_type": "markdown",
   "metadata": {},
   "source": [
    "![image.png](attachment:image.png)"
   ]
  },
  {
   "cell_type": "markdown",
   "metadata": {},
   "source": [
    "Лучший классификатор по private leaderboard - SVM"
   ]
  },
  {
   "cell_type": "markdown",
   "metadata": {},
   "source": [
    "private score = 0.71527"
   ]
  },
  {
   "attachments": {
    "image.png": {
     "image/png": "[encoded data removed]"
    }
   },
   "cell_type": "markdown",
   "metadata": {},
   "source": [
    "6 место на private leaderboad\n",
    "![image.png](attachment:image.png)"
   ]
  },
  {
   "cell_type": "markdown",
   "metadata": {},
   "source": [
    "Лучший классификатор по public leaderboard - Neural Net (fit 1086)"
   ]
  },
  {
   "cell_type": "markdown",
   "metadata": {},
   "source": [
    "public score = 0.72727"
   ]
  },
  {
   "attachments": {
    "image.png": {
     "image/png": "[encoded data removed]"
    }
   },
   "cell_type": "markdown",
   "metadata": {},
   "source": [
    "6 место на public leaderboard\n",
    "![image.png](attachment:image.png)"
   ]
  },
  {
   "cell_type": "markdown",
   "metadata": {},
   "source": [
    "Оценка по отложенной выборке (SVM)"
   ]
  },
  {
   "cell_type": "code",
   "execution_count": 171,
   "metadata": {},
   "outputs": [],
   "source": [
    "train_labels = [item[\"sentiment\"] for item in train]\n",
    "clean_texts_train = load_json(clean_texts_train_file)\n",
    "train_texts, test_texts, train_labels, test_labels = train_test_split(clean_texts_train, train_labels, \n",
    "                                                                      random_state = seed, test_size=0.3)"
   ]
  },
  {
   "cell_type": "code",
   "execution_count": 172,
   "metadata": {},
   "outputs": [
    {
     "name": "stdout",
     "output_type": "stream",
     "text": [
      "dictionary generated in 1.09 s\n",
      "idf calculated in 3.46 s\n",
      "matrix generated in 15.4 s\n",
      "matrix normalized in 10.82 s\n",
      "idf calculated in 1.14 s\n",
      "matrix generated in 6.66 s\n",
      "matrix normalized in 4.7 s\n"
     ]
    }
   ],
   "source": [
    "dict_ = make_dict(train_texts, FREQUENCY_LIMIT)\n",
    "train_vect = create_tfidf_matrix(train_texts, dict_)\n",
    "test_vect = create_tfidf_matrix(test_texts, dict_)"
   ]
  },
  {
   "cell_type": "code",
   "execution_count": 173,
   "metadata": {},
   "outputs": [],
   "source": [
    "clf = SVC(random_state=seed, C=1.0, kernel=\"rbf\")\n",
    "clf.fit(train_vect, train_labels)\n",
    "predictions = clf.predict(test_vect)"
   ]
  },
  {
   "cell_type": "code",
   "execution_count": 174,
   "metadata": {},
   "outputs": [
    {
     "name": "stdout",
     "output_type": "stream",
     "text": [
      "              precision    recall  f1-score   support\n",
      "\n",
      "    negative      0.816     0.561     0.665       435\n",
      "     neutral      0.703     0.812     0.754      1226\n",
      "    positive      0.733     0.685     0.708       818\n",
      "\n",
      "    accuracy                          0.726      2479\n",
      "   macro avg      0.751     0.686     0.709      2479\n",
      "weighted avg      0.733     0.726     0.723      2479\n",
      "\n"
     ]
    }
   ],
   "source": [
    "print(classification_report(test_labels, predictions, digits=3))"
   ]
  },
  {
   "cell_type": "code",
   "execution_count": 175,
   "metadata": {},
   "outputs": [
    {
     "data": {
      "text/plain": [
       "<sklearn.metrics._plot.confusion_matrix.ConfusionMatrixDisplay at 0x1d7d4eb7ca0>"
      ]
     },
     "execution_count": 175,
     "metadata": {},
     "output_type": "execute_result"
    },
    {
     "data": {
      "image/png": "[encoded data removed]",
      "text/plain": [
       "<Figure size 432x288 with 2 Axes>"
      ]
     },
     "metadata": {
      "needs_background": "light"
     },
     "output_type": "display_data"
    }
   ],
   "source": [
    "classes = list(set(predictions))\n",
    "cm = confusion_matrix(test_labels, predictions, labels=classes)\n",
    "disp = ConfusionMatrixDisplay(confusion_matrix=cm, display_labels=classes)\n",
    "disp.plot(cmap=plt.cm.Blues)"
   ]
  }
 ],
 "metadata": {
  "kernelspec": {
   "display_name": "Python 3",
   "language": "python",
   "name": "python3"
  },
  "language_info": {
   "codemirror_mode": {
    "name": "ipython",
    "version": 3
   },
   "file_extension": ".py",
   "mimetype": "text/x-python",
   "name": "python",
   "nbconvert_exporter": "python",
   "pygments_lexer": "ipython3",
   "version": "3.8.8"
  }
 },
 "nbformat": 4,
 "nbformat_minor": 4
}
