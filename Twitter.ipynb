{
 "cells": [
  {
   "cell_type": "code",
   "execution_count": 1,
   "metadata": {},
   "outputs": [],
   "source": [
    "import numpy as np\n",
    "from sklearn.linear_model import LogisticRegression\n",
    "from sklearn.svm import SVC\n",
    "from sklearn.neighbors import KNeighborsClassifier\n",
    "from sklearn.naive_bayes import MultinomialNB\n",
    "from sklearn.tree import DecisionTreeClassifier\n",
    "from sklearn.ensemble import RandomForestClassifier\n",
    "from sklearn.ensemble import AdaBoostClassifier\n",
    "from sklearn.ensemble import GradientBoostingClassifier\n",
    "from sklearn.pipeline import Pipeline\n",
    "from sklearn.model_selection import GridSearchCV\n",
    "from sklearn.preprocessing import PolynomialFeatures\n",
    "from sklearn.preprocessing import StandardScaler, MaxAbsScaler\n",
    "import time\n",
    "from sklearn.decomposition import TruncatedSVD\n",
    "import pandas as pd\n",
    "from sklearn.linear_model import RidgeClassifier\n",
    "from sklearn.feature_extraction.text import CountVectorizer, TfidfVectorizer\n",
    "from sklearn.model_selection import train_test_split\n",
    "from sklearn.metrics import confusion_matrix, f1_score, accuracy_score, precision_score, recall_score, make_scorer\n",
    "from sklearn.model_selection import cross_val_score\n",
    "import string\n",
    "import re\n",
    "from sklearn.linear_model import RidgeClassifier\n",
    "import nltk"
   ]
  },
  {
   "cell_type": "markdown",
   "metadata": {},
   "source": [
    "# 1. Загрузка и вывод статистики"
   ]
  },
  {
   "cell_type": "code",
   "execution_count": 2,
   "metadata": {},
   "outputs": [
    {
     "name": "stdout",
     "output_type": "stream",
     "text": [
      "Train has 7613 rows and 5 columns\n",
      "Test has 3263 rows and 4 columns\n"
     ]
    }
   ],
   "source": [
    "train = pd.read_csv('input/train.csv')\n",
    "test = pd.read_csv('input/test.csv')\n",
    "print(\"Train has\", train.shape[0], \"rows and\", train.shape[1],\"columns\")\n",
    "print(\"Test has\", test.shape[0], \"rows and\", test.shape[1],\"columns\")"
   ]
  },
  {
   "cell_type": "code",
   "execution_count": 3,
   "metadata": {},
   "outputs": [
    {
     "data": {
      "text/html": [
       "<div>\n",
       "<style scoped>\n",
       "    .dataframe tbody tr th:only-of-type {\n",
       "        vertical-align: middle;\n",
       "    }\n",
       "\n",
       "    .dataframe tbody tr th {\n",
       "        vertical-align: top;\n",
       "    }\n",
       "\n",
       "    .dataframe thead th {\n",
       "        text-align: right;\n",
       "    }\n",
       "</style>\n",
       "<table border=\"1\" class=\"dataframe\">\n",
       "  <thead>\n",
       "    <tr style=\"text-align: right;\">\n",
       "      <th></th>\n",
       "      <th>id</th>\n",
       "      <th>target</th>\n",
       "    </tr>\n",
       "  </thead>\n",
       "  <tbody>\n",
       "    <tr>\n",
       "      <th>count</th>\n",
       "      <td>7613.000000</td>\n",
       "      <td>7613.00000</td>\n",
       "    </tr>\n",
       "    <tr>\n",
       "      <th>mean</th>\n",
       "      <td>5441.934848</td>\n",
       "      <td>0.42966</td>\n",
       "    </tr>\n",
       "    <tr>\n",
       "      <th>std</th>\n",
       "      <td>3137.116090</td>\n",
       "      <td>0.49506</td>\n",
       "    </tr>\n",
       "    <tr>\n",
       "      <th>min</th>\n",
       "      <td>1.000000</td>\n",
       "      <td>0.00000</td>\n",
       "    </tr>\n",
       "    <tr>\n",
       "      <th>25%</th>\n",
       "      <td>2734.000000</td>\n",
       "      <td>0.00000</td>\n",
       "    </tr>\n",
       "    <tr>\n",
       "      <th>50%</th>\n",
       "      <td>5408.000000</td>\n",
       "      <td>0.00000</td>\n",
       "    </tr>\n",
       "    <tr>\n",
       "      <th>75%</th>\n",
       "      <td>8146.000000</td>\n",
       "      <td>1.00000</td>\n",
       "    </tr>\n",
       "    <tr>\n",
       "      <th>max</th>\n",
       "      <td>10873.000000</td>\n",
       "      <td>1.00000</td>\n",
       "    </tr>\n",
       "  </tbody>\n",
       "</table>\n",
       "</div>"
      ],
      "text/plain": [
       "                 id      target\n",
       "count   7613.000000  7613.00000\n",
       "mean    5441.934848     0.42966\n",
       "std     3137.116090     0.49506\n",
       "min        1.000000     0.00000\n",
       "25%     2734.000000     0.00000\n",
       "50%     5408.000000     0.00000\n",
       "75%     8146.000000     1.00000\n",
       "max    10873.000000     1.00000"
      ]
     },
     "execution_count": 3,
     "metadata": {},
     "output_type": "execute_result"
    }
   ],
   "source": [
    "pd.DataFrame.describe(train)"
   ]
  },
  {
   "cell_type": "code",
   "execution_count": 4,
   "metadata": {},
   "outputs": [
    {
     "name": "stdout",
     "output_type": "stream",
     "text": [
      "<class 'pandas.core.frame.DataFrame'>\n",
      "RangeIndex: 7613 entries, 0 to 7612\n",
      "Data columns (total 5 columns):\n",
      "id          7613 non-null int64\n",
      "keyword     7552 non-null object\n",
      "location    5080 non-null object\n",
      "text        7613 non-null object\n",
      "target      7613 non-null int64\n",
      "dtypes: int64(2), object(3)\n",
      "memory usage: 297.5+ KB\n"
     ]
    }
   ],
   "source": [
    "pd.DataFrame.info(train)"
   ]
  },
  {
   "cell_type": "code",
   "execution_count": 5,
   "metadata": {},
   "outputs": [
    {
     "data": {
      "text/html": [
       "<div>\n",
       "<style scoped>\n",
       "    .dataframe tbody tr th:only-of-type {\n",
       "        vertical-align: middle;\n",
       "    }\n",
       "\n",
       "    .dataframe tbody tr th {\n",
       "        vertical-align: top;\n",
       "    }\n",
       "\n",
       "    .dataframe thead th {\n",
       "        text-align: right;\n",
       "    }\n",
       "</style>\n",
       "<table border=\"1\" class=\"dataframe\">\n",
       "  <thead>\n",
       "    <tr style=\"text-align: right;\">\n",
       "      <th></th>\n",
       "      <th>id</th>\n",
       "      <th>keyword</th>\n",
       "      <th>location</th>\n",
       "      <th>text</th>\n",
       "      <th>target</th>\n",
       "    </tr>\n",
       "  </thead>\n",
       "  <tbody>\n",
       "    <tr>\n",
       "      <th>0</th>\n",
       "      <td>1</td>\n",
       "      <td>NaN</td>\n",
       "      <td>NaN</td>\n",
       "      <td>Our Deeds are the Reason of this #earthquake M...</td>\n",
       "      <td>1</td>\n",
       "    </tr>\n",
       "    <tr>\n",
       "      <th>1</th>\n",
       "      <td>4</td>\n",
       "      <td>NaN</td>\n",
       "      <td>NaN</td>\n",
       "      <td>Forest fire near La Ronge Sask. Canada</td>\n",
       "      <td>1</td>\n",
       "    </tr>\n",
       "    <tr>\n",
       "      <th>2</th>\n",
       "      <td>5</td>\n",
       "      <td>NaN</td>\n",
       "      <td>NaN</td>\n",
       "      <td>All residents asked to 'shelter in place' are ...</td>\n",
       "      <td>1</td>\n",
       "    </tr>\n",
       "    <tr>\n",
       "      <th>3</th>\n",
       "      <td>6</td>\n",
       "      <td>NaN</td>\n",
       "      <td>NaN</td>\n",
       "      <td>13,000 people receive #wildfires evacuation or...</td>\n",
       "      <td>1</td>\n",
       "    </tr>\n",
       "    <tr>\n",
       "      <th>4</th>\n",
       "      <td>7</td>\n",
       "      <td>NaN</td>\n",
       "      <td>NaN</td>\n",
       "      <td>Just got sent this photo from Ruby #Alaska as ...</td>\n",
       "      <td>1</td>\n",
       "    </tr>\n",
       "    <tr>\n",
       "      <th>5</th>\n",
       "      <td>8</td>\n",
       "      <td>NaN</td>\n",
       "      <td>NaN</td>\n",
       "      <td>#RockyFire Update =&gt; California Hwy. 20 closed...</td>\n",
       "      <td>1</td>\n",
       "    </tr>\n",
       "    <tr>\n",
       "      <th>6</th>\n",
       "      <td>10</td>\n",
       "      <td>NaN</td>\n",
       "      <td>NaN</td>\n",
       "      <td>#flood #disaster Heavy rain causes flash flood...</td>\n",
       "      <td>1</td>\n",
       "    </tr>\n",
       "    <tr>\n",
       "      <th>7</th>\n",
       "      <td>13</td>\n",
       "      <td>NaN</td>\n",
       "      <td>NaN</td>\n",
       "      <td>I'm on top of the hill and I can see a fire in...</td>\n",
       "      <td>1</td>\n",
       "    </tr>\n",
       "    <tr>\n",
       "      <th>8</th>\n",
       "      <td>14</td>\n",
       "      <td>NaN</td>\n",
       "      <td>NaN</td>\n",
       "      <td>There's an emergency evacuation happening now ...</td>\n",
       "      <td>1</td>\n",
       "    </tr>\n",
       "    <tr>\n",
       "      <th>9</th>\n",
       "      <td>15</td>\n",
       "      <td>NaN</td>\n",
       "      <td>NaN</td>\n",
       "      <td>I'm afraid that the tornado is coming to our a...</td>\n",
       "      <td>1</td>\n",
       "    </tr>\n",
       "  </tbody>\n",
       "</table>\n",
       "</div>"
      ],
      "text/plain": [
       "   id keyword location                                               text  \\\n",
       "0   1     NaN      NaN  Our Deeds are the Reason of this #earthquake M...   \n",
       "1   4     NaN      NaN             Forest fire near La Ronge Sask. Canada   \n",
       "2   5     NaN      NaN  All residents asked to 'shelter in place' are ...   \n",
       "3   6     NaN      NaN  13,000 people receive #wildfires evacuation or...   \n",
       "4   7     NaN      NaN  Just got sent this photo from Ruby #Alaska as ...   \n",
       "5   8     NaN      NaN  #RockyFire Update => California Hwy. 20 closed...   \n",
       "6  10     NaN      NaN  #flood #disaster Heavy rain causes flash flood...   \n",
       "7  13     NaN      NaN  I'm on top of the hill and I can see a fire in...   \n",
       "8  14     NaN      NaN  There's an emergency evacuation happening now ...   \n",
       "9  15     NaN      NaN  I'm afraid that the tornado is coming to our a...   \n",
       "\n",
       "   target  \n",
       "0       1  \n",
       "1       1  \n",
       "2       1  \n",
       "3       1  \n",
       "4       1  \n",
       "5       1  \n",
       "6       1  \n",
       "7       1  \n",
       "8       1  \n",
       "9       1  "
      ]
     },
     "execution_count": 5,
     "metadata": {},
     "output_type": "execute_result"
    }
   ],
   "source": [
    "train.head(10)"
   ]
  },
  {
   "cell_type": "markdown",
   "metadata": {},
   "source": [
    "### Первые 30 уникальных значений keyword и их общее количество в test и train"
   ]
  },
  {
   "cell_type": "code",
   "execution_count": 6,
   "metadata": {},
   "outputs": [
    {
     "name": "stdout",
     "output_type": "stream",
     "text": [
      "TRAIN keyword ['ablaze' 'accident' 'aftershock' 'airplane%20accident' 'ambulance'\n",
      " 'annihilated' 'annihilation' 'apocalypse' 'armageddon' 'army' 'arson'\n",
      " 'arsonist' 'attack' 'attacked' 'avalanche' 'battle' 'bioterror'\n",
      " 'bioterrorism' 'blaze' 'blazing' 'bleeding' 'blew%20up' 'blight'\n",
      " 'blizzard' 'blood' 'bloody' 'blown%20up' 'body%20bag' 'body%20bagging'] ...\n",
      "\n",
      "TRAIN kw Length = 222 \n",
      "\n",
      "TEST keyword ['ablaze' 'accident' 'aftershock' 'airplane%20accident' 'ambulance'\n",
      " 'annihilated' 'annihilation' 'apocalypse' 'armageddon' 'army' 'arson'\n",
      " 'arsonist' 'attack' 'attacked' 'avalanche' 'battle' 'bioterror'\n",
      " 'bioterrorism' 'blaze' 'blazing' 'bleeding' 'blew%20up' 'blight'\n",
      " 'blizzard' 'blood' 'bloody' 'blown%20up' 'body%20bag' 'body%20bagging'] ...\n",
      "\n",
      "TEST kw Length = 222\n"
     ]
    }
   ],
   "source": [
    "print(\"TRAIN keyword\", pd.unique(train['keyword'])[1:30], \"...\\n\")\n",
    "print('TRAIN kw Length =',len(pd.unique(train['keyword'])), \"\\n\")\n",
    "print(\"TEST keyword\", pd.unique(test['keyword'])[1:30], \"...\\n\")\n",
    "print('TEST kw Length =',len(pd.unique(test['keyword'])))"
   ]
  },
  {
   "cell_type": "markdown",
   "metadata": {},
   "source": [
    "### Первые 30 уникальных значений location и их общее количество в test и train"
   ]
  },
  {
   "cell_type": "code",
   "execution_count": 7,
   "metadata": {},
   "outputs": [
    {
     "name": "stdout",
     "output_type": "stream",
     "text": [
      "TRAIN location ['Birmingham' 'Est. September 2012 - Bristol' 'AFRICA' 'Philadelphia, PA'\n",
      " 'London, UK' 'Pretoria' 'World Wide!!' 'Paranaque City' 'Live On Webcam'\n",
      " 'milky way' 'GREENSBORO,NORTH CAROLINA' 'England.'\n",
      " 'Sheffield Township, Ohio' 'India' 'Barbados' 'Anaheim' 'Abuja' 'USA'\n",
      " 'South Africa' 'Sao Paulo, Brazil' 'hollywoodland '\n",
      " 'Edmonton, Alberta - Treaty 6' 'Inang Pamantasan'\n",
      " 'Twitter Lockout in progress' 'Concord, CA' 'Calgary, AB' 'San Francisco'\n",
      " 'CLVLND' 'Nashville, TN'] ...\n",
      "\n",
      "TRAIN lc Length = 3342 \n",
      "\n",
      "TEST location ['London' \"Niall's place | SAF 12 SQUAD |\" 'NIGERIA' 'Live On Webcam'\n",
      " 'Los Angeles, Califnordia' 'threeonefive. ' 'Washington State'\n",
      " 'Whoop Ass, Georgia' 'India' 'scarborough, ontario'\n",
      " '121 N La Salle St, Suite 500' 'Wandering' 'Homewood, PA' 'USA'\n",
      " 'Massachusetts' 'Bexhill' 'Anime World' 'Cowtown, Caliii !!'\n",
      " 'All Motorways, UK' 'Frankfurt, Germany' 'Gresham, OR' 'Las Vegas '\n",
      " 'Midland, Mi' 'SÌ£o Vicente, SÌ£o Paulo' 'Vault 101, Fallout'\n",
      " 'Switzerland' 'California' 'Europe' '304'] ...\n",
      "\n",
      "TEST loc Length = 1603\n"
     ]
    }
   ],
   "source": [
    "print(\"TRAIN location\", pd.unique(train['location'])[1:30], \"...\\n\")\n",
    "print('TRAIN lc Length =', len(pd.unique(train['location'])),\"\\n\")\n",
    "print(\"TEST location\", pd.unique(test['location'])[1:30], \"...\\n\")\n",
    "print('TEST loc Length =', len(pd.unique(test['location'])))"
   ]
  },
  {
   "cell_type": "markdown",
   "metadata": {},
   "source": [
    "### Проверка различий в наборах уникальных значений keyword в test и train"
   ]
  },
  {
   "cell_type": "code",
   "execution_count": 8,
   "metadata": {},
   "outputs": [
    {
     "name": "stdout",
     "output_type": "stream",
     "text": [
      "nan\n"
     ]
    }
   ],
   "source": [
    "for i in pd.unique(train['keyword']):\n",
    "    if i not in pd.unique(test['keyword']):\n",
    "        print(i)"
   ]
  },
  {
   "cell_type": "code",
   "execution_count": null,
   "metadata": {},
   "outputs": [],
   "source": [
    "for i in pd.unique(train['keyword']):\n",
    "    if i not in pd.unique(test['keyword']):\n",
    "        print(i)"
   ]
  },
  {
   "cell_type": "markdown",
   "metadata": {},
   "source": [
    "### Количество значений NaN в test и train по столбцам"
   ]
  },
  {
   "cell_type": "code",
   "execution_count": 9,
   "metadata": {},
   "outputs": [
    {
     "data": {
      "text/plain": [
       "id             0\n",
       "keyword       61\n",
       "location    2533\n",
       "text           0\n",
       "target         0\n",
       "dtype: int64"
      ]
     },
     "execution_count": 9,
     "metadata": {},
     "output_type": "execute_result"
    }
   ],
   "source": [
    "train.isnull().sum()"
   ]
  },
  {
   "cell_type": "code",
   "execution_count": 10,
   "metadata": {},
   "outputs": [
    {
     "data": {
      "text/plain": [
       "id             0\n",
       "keyword       26\n",
       "location    1105\n",
       "text           0\n",
       "dtype: int64"
      ]
     },
     "execution_count": 10,
     "metadata": {},
     "output_type": "execute_result"
    }
   ],
   "source": [
    "test.isnull().sum()"
   ]
  },
  {
   "cell_type": "markdown",
   "metadata": {},
   "source": [
    "### Значения целевой переменной"
   ]
  },
  {
   "cell_type": "code",
   "execution_count": 11,
   "metadata": {},
   "outputs": [
    {
     "name": "stdout",
     "output_type": "stream",
     "text": [
      "target [1 0] \n",
      "\n"
     ]
    }
   ],
   "source": [
    "print(\"target\", pd.unique(train['target']), \"\\n\") "
   ]
  },
  {
   "cell_type": "markdown",
   "metadata": {},
   "source": [
    "### Количество примеров для значений целевой переменной в train"
   ]
  },
  {
   "cell_type": "code",
   "execution_count": 12,
   "metadata": {},
   "outputs": [
    {
     "name": "stdout",
     "output_type": "stream",
     "text": [
      "          id\n",
      "target      \n",
      "0       4342\n",
      "1       3271\n"
     ]
    },
    {
     "data": {
      "text/plain": [
       "<Figure size 640x480 with 1 Axes>"
      ]
     },
     "metadata": {},
     "output_type": "display_data"
    }
   ],
   "source": [
    "import matplotlib.pyplot as plt\n",
    "target_pivot = train.pivot_table(index=\"target\", values='id', aggfunc='count')\n",
    "print(target_pivot)\n",
    "target_pivot.plot.bar()\n",
    "plt.title('Amount of all non-disaster and disaster tweets')\n",
    "plt.show()"
   ]
  },
  {
   "cell_type": "code",
   "execution_count": 13,
   "metadata": {},
   "outputs": [],
   "source": [
    "def F(n):\n",
    "    return round(n,3)"
   ]
  },
  {
   "cell_type": "markdown",
   "metadata": {},
   "source": [
    "### Анализ строк столбца text по целевой переменной в train"
   ]
  },
  {
   "cell_type": "code",
   "execution_count": 14,
   "metadata": {},
   "outputs": [
    {
     "data": {
      "text/html": [
       "<div>\n",
       "<style scoped>\n",
       "    .dataframe tbody tr th:only-of-type {\n",
       "        vertical-align: middle;\n",
       "    }\n",
       "\n",
       "    .dataframe tbody tr th {\n",
       "        vertical-align: top;\n",
       "    }\n",
       "\n",
       "    .dataframe thead th {\n",
       "        text-align: right;\n",
       "    }\n",
       "</style>\n",
       "<table border=\"1\" class=\"dataframe\">\n",
       "  <thead>\n",
       "    <tr style=\"text-align: right;\">\n",
       "      <th></th>\n",
       "      <th>target</th>\n",
       "      <th>mean str length</th>\n",
       "      <th>max str length</th>\n",
       "      <th>mean words amount</th>\n",
       "      <th>max words amount</th>\n",
       "    </tr>\n",
       "  </thead>\n",
       "  <tbody>\n",
       "    <tr>\n",
       "      <th>0</th>\n",
       "      <td>0</td>\n",
       "      <td>95.707</td>\n",
       "      <td>157</td>\n",
       "      <td>14.705</td>\n",
       "      <td>31</td>\n",
       "    </tr>\n",
       "    <tr>\n",
       "      <th>1</th>\n",
       "      <td>1</td>\n",
       "      <td>108.113</td>\n",
       "      <td>151</td>\n",
       "      <td>15.168</td>\n",
       "      <td>30</td>\n",
       "    </tr>\n",
       "  </tbody>\n",
       "</table>\n",
       "</div>"
      ],
      "text/plain": [
       "   target  mean str length  max str length  mean words amount  \\\n",
       "0       0           95.707             157             14.705   \n",
       "1       1          108.113             151             15.168   \n",
       "\n",
       "   max words amount  \n",
       "0                31  \n",
       "1                30  "
      ]
     },
     "execution_count": 14,
     "metadata": {},
     "output_type": "execute_result"
    }
   ],
   "source": [
    "len_0 = F(np.mean([len(i) for i in train[(train.target == 0)].text]))\n",
    "max_0 = F(np.max([len(i) for i in train[(train.target == 0)].text]))\n",
    "len_1 = F(np.mean([len(i) for i in train[(train.target == 1)].text]))\n",
    "max_1 = F(np.max([len(i) for i in train[(train.target == 1)].text]))\n",
    "words_mean_0 = F(np.mean([len(i.split()) for i in train[(train.target == 0)].text]))\n",
    "words_max_0 = F(np.max([len(i.split()) for i in train[(train.target == 0)].text]))\n",
    "words_mean_1 = F(np.mean([len(i.split()) for i in train[(train.target == 1)].text]))\n",
    "words_max_1 = F(np.max([len(i.split()) for i in train[(train.target == 1)].text]))\n",
    "d = {'target': [0,1], 'mean str length': [len_0, len_1], 'max str length': [max_0, max_1], \n",
    "    'mean words amount': [words_mean_0, words_mean_1], 'max words amount': [words_max_0, words_max_1]}\n",
    "df = pd.DataFrame(data=d)\n",
    "df"
   ]
  },
  {
   "cell_type": "code",
   "execution_count": 15,
   "metadata": {},
   "outputs": [],
   "source": [
    "train.fillna('NaN', inplace=True)   \n",
    "keywords_count = {}\n",
    "for i in range(len([i for i in train.keyword])):\n",
    "    if train.keyword[i] in keywords_count:\n",
    "        if train.target[i] == 0:\n",
    "            keywords_count[train.keyword[i]][0] += 1\n",
    "        else:\n",
    "            keywords_count[train.keyword[i]][1] += 1\n",
    "    else:\n",
    "        if train.target[i] == 0:\n",
    "            keywords_count[train.keyword[i]] = [1,0]\n",
    "        else:\n",
    "            keywords_count[train.keyword[i]] = [0,1]\n",
    "                \n"
   ]
  },
  {
   "cell_type": "code",
   "execution_count": 16,
   "metadata": {},
   "outputs": [],
   "source": [
    "percents = {}\n",
    "for i in range(len(keywords_count)):\n",
    "    percents[list(keywords_count.keys())[i]] = list(keywords_count.values())[i][0]/(list(keywords_count.values())[i][0] + list(keywords_count.values())[i][1])\n",
    "\n",
    "\n",
    "percents = {k: v for k, v in sorted(percents.items(), key=lambda item: item[1])}\n",
    "percents\n",
    "\n",
    "for i in range(len(percents)):\n",
    "    percents[list(percents.keys())[i]] = [list(percents.values())[i], 1 - list(percents.values())[i]]\n",
    "    \n"
   ]
  },
  {
   "cell_type": "markdown",
   "metadata": {},
   "source": [
    "### График зависимости целевой переменной от значения keyword"
   ]
  },
  {
   "cell_type": "code",
   "execution_count": 18,
   "metadata": {},
   "outputs": [
    {
     "data": {
      "image/png": "[encoded data removed]",
      "text/plain": [
       "<Figure size 800x3000 with 1 Axes>"
      ]
     },
     "metadata": {},
     "output_type": "display_data"
    }
   ],
   "source": [
    "\n",
    "category_names = ['Non-disaster','Disaster']\n",
    "results = percents\n",
    "\n",
    "\n",
    "def survey(results, category_names):\n",
    "    \"\"\"\n",
    "    Parameters\n",
    "    ----------\n",
    "    results : dict\n",
    "        A mapping from question labels to a list of answers per category.\n",
    "        It is assumed all lists contain the same number of entries and that\n",
    "        it matches the length of *category_names*.\n",
    "    category_names : list of str\n",
    "        The category labels.\n",
    "    \"\"\"\n",
    "    labels = list(results.keys())\n",
    "    data = np.array(list(results.values()))\n",
    "    data_cum = data.cumsum(axis=1)\n",
    "    category_colors = plt.get_cmap('RdYlGn')(\n",
    "        np.linspace(0.85, 0.15, data.shape[1]))\n",
    "\n",
    "    fig, ax = plt.subplots(figsize=(8, 30), dpi=100)\n",
    "    ax.invert_yaxis()\n",
    "    ax.xaxis.set_visible(False)\n",
    "    ax.set_xlim(0, np.sum(data, axis=1).max())\n",
    "\n",
    "    for i, (colname, color) in enumerate(zip(category_names, category_colors)):\n",
    "        widths = data[:, i]\n",
    "        starts = data_cum[:, i] - widths\n",
    "        ax.barh(labels, widths, left=starts, height=0.8,\n",
    "                label=colname, color=color)\n",
    "        xcenters = starts + widths / 2\n",
    "\n",
    "        r, g, b, _ = color\n",
    "        text_color = 'black' if r * g * b < 0.5 else 'darkgrey'\n",
    "        #for y, (x, c) in enumerate(zip(xcenters, widths)):\n",
    "            #ax.text(x, y, str(int(c)), ha='center', va='center',\n",
    "             #       color=text_color)\n",
    "    ax.legend(ncol=len(category_names), bbox_to_anchor=(0, 1),\n",
    "              loc='lower left', fontsize='medium')\n",
    "\n",
    "    return fig, ax\n",
    "\n",
    "\n",
    "survey(results, category_names)\n",
    "plt.title('Amount of disaster and non-disaster tweets by each keyword\\n\\n')\n",
    "plt.show()"
   ]
  },
  {
   "cell_type": "markdown",
   "metadata": {},
   "source": [
    "# 2. Обучение и тестирование baseline"
   ]
  },
  {
   "cell_type": "code",
   "execution_count": 3,
   "metadata": {},
   "outputs": [
    {
     "name": "stdout",
     "output_type": "stream",
     "text": [
      "6090\n",
      "1523\n"
     ]
    }
   ],
   "source": [
    "train_ = pd.read_csv('input/train.csv')\n",
    "test = pd.read_csv('input/test.csv')\n",
    "train_.fillna('NaN', inplace=True)    \n",
    "test.fillna('NaN', inplace=True)  \n",
    "train, val = train_test_split(train_, train_size = 0.8, test_size = 0.2, random_state = 42)\n",
    "print(len(train))\n",
    "print(len(val))"
   ]
  },
  {
   "cell_type": "code",
   "execution_count": 12,
   "metadata": {},
   "outputs": [],
   "source": [
    "def Scores(Estimator, X, y):\n",
    "    print(\"accuracy\", F(accuracy_score(y, Estimator.predict(X))))\n",
    "    print(\"precision\", F(precision_score(y, Estimator.predict(X))))\n",
    "    print(\"recall\", F(recall_score(y, Estimator.predict(X))))\n",
    "    print(\"F1\", F(f1_score(y, Estimator.predict(X), average='weighted')))    \n",
    "    print('Confusion matrix \\n', confusion_matrix(y, Estimator.predict(X)))"
   ]
  },
  {
   "cell_type": "code",
   "execution_count": 13,
   "metadata": {},
   "outputs": [],
   "source": [
    "def CV_scores(Estimator, X, y):    \n",
    "    scores = list(map(float, cross_val_score(Estimator, X, y, cv=20, scoring = make_scorer(f1_score,average='weighted'))))\n",
    "    scores = [round(num, 3) for num in scores]\n",
    "    #print(\"CV scores:\", scores)\n",
    "    print(\"CV Max = \" + str(max(scores)))\n",
    "    print(\"CV Min = \" + str(min(scores)))\n",
    "    print(\"CV Mean = \" + str(round(np.mean(scores),3)))"
   ]
  },
  {
   "cell_type": "markdown",
   "metadata": {},
   "source": [
    "### RidgeClassifier (baseline)"
   ]
  },
  {
   "cell_type": "code",
   "execution_count": 9,
   "metadata": {},
   "outputs": [
    {
     "name": "stdout",
     "output_type": "stream",
     "text": [
      "accuracy 0.793\n",
      "precision 0.779\n",
      "recall 0.718\n",
      "F1 0.792\n",
      "Confusion matrix \n",
      " [[742 132]\n",
      " [183 466]]\n",
      "CV Max = 0.827\n",
      "CV Min = 0.738\n",
      "CV Mean = 0.781\n"
     ]
    }
   ],
   "source": [
    "vect = CountVectorizer()\n",
    "train_vectors = vect.fit_transform(train['keyword'] + ' ' + train[\"text\"])\n",
    "val_vectors = vect.transform(val[\"keyword\"] + ' ' + val[\"text\"])\n",
    "\n",
    "Ridge = RidgeClassifier(random_state=42)\n",
    "Ridge.fit(train_vectors, train['target'])\n",
    "\n",
    "Scores(Ridge, val_vectors, val[\"target\"])\n",
    "CV_scores(Ridge, train_vectors, train['target'])"
   ]
  },
  {
   "cell_type": "code",
   "execution_count": 10,
   "metadata": {},
   "outputs": [
    {
     "name": "stdout",
     "output_type": "stream",
     "text": [
      "accuracy 0.793\n",
      "precision 0.764\n",
      "recall 0.743\n",
      "F1 0.792\n",
      "Confusion matrix \n",
      " [[725 149]\n",
      " [167 482]]\n",
      "CV Max = 0.864\n",
      "CV Min = 0.765\n",
      "CV Mean = 0.804\n"
     ]
    }
   ],
   "source": [
    "vect = TfidfVectorizer()\n",
    "train_vectors = vect.fit_transform(train['keyword'] + ' ' + train[\"text\"])\n",
    "val_vectors = vect.transform(val[\"keyword\"] + ' ' + val[\"text\"])\n",
    "\n",
    "Ridge = RidgeClassifier(random_state=42)\n",
    "Ridge.fit(train_vectors, train['target'])\n",
    "\n",
    "Scores(Ridge, val_vectors, val[\"target\"])\n",
    "CV_scores(Ridge, train_vectors, train['target'])"
   ]
  },
  {
   "cell_type": "markdown",
   "metadata": {},
   "source": [
    "# 3. Предварительная обработка данных"
   ]
  },
  {
   "cell_type": "markdown",
   "metadata": {},
   "source": [
    "### Очистка"
   ]
  },
  {
   "cell_type": "code",
   "execution_count": 133,
   "metadata": {},
   "outputs": [],
   "source": [
    "train = pd.read_csv('input/train.csv')\n",
    "test = pd.read_csv('input/test.csv')\n",
    "\n",
    "train.fillna('0', inplace=True)    \n",
    "test.fillna('0', inplace=True)\n",
    "\n",
    "train.drop_duplicates(subset = [\"text\"], keep=\"first\", inplace=True)\n",
    "\n",
    "#убираем все символы пунктуации\n",
    "def remove_punct(text):\n",
    "    text = text.lower()\n",
    "    text_nopunct = \"\".join([char for char in text if char not in string.punctuation])\n",
    "    return text_nopunct\n",
    "\n",
    "#удаляем символ пробела (в столбце keyword)\n",
    "def remove_percent(text):\n",
    "    text = text.replace('%20', '')\n",
    "    return text\n",
    "\n",
    "#убираем символы переноса строки (\\n встречаются в text)\n",
    "def remove_new_str(text):\n",
    "    text = text.replace('\\n',' ')\n",
    "    return text\n",
    "\n",
    "#убираем из text всё похожее на ссылку\n",
    "def remove_http(text):\n",
    "    text = text.lower()\n",
    "    result = re.sub(r'(\\S)*(\\x89)(\\S)*', '', text)\n",
    "    result = re.sub(r'http(\\S)*', '', result)   \n",
    "    result = re.sub(r'x\\d*', '', result)\n",
    "    return result    \n",
    "\n",
    "#убираем все цифры\n",
    "def remove_digits(text):\n",
    "    result = re.sub(r'\\d', '', text)\n",
    "    return result   \n",
    "\n",
    "train['keyword'] = train['keyword'].apply(lambda x: remove_percent(x))\n",
    "test['keyword'] = test['keyword'].apply(lambda x: remove_percent(x))\n",
    "\n",
    "train['keyword'] = train['keyword'].apply(lambda x: remove_punct(x))\n",
    "test['keyword'] = test['keyword'].apply(lambda x: remove_punct(x))\n",
    "\n",
    "train['text'] = train['text'].apply(lambda x: remove_new_str(x))\n",
    "test['text'] = test['text'].apply(lambda x: remove_new_str(x))\n",
    "\n",
    "train['text'] = train['text'].apply(lambda x: remove_punct(x))\n",
    "test['text'] = test['text'].apply(lambda x: remove_punct(x))\n",
    "\n",
    "train['text'] = train['text'].apply(lambda x: remove_http(x))\n",
    "test['text'] = test['text'].apply(lambda x: remove_http(x))\n",
    "\n",
    "train['text'] = train['text'].apply(lambda x: remove_digits(x))\n",
    "test['text'] = test['text'].apply(lambda x: remove_digits(x))\n",
    "\n",
    "#train.head(500)[300:500]"
   ]
  },
  {
   "cell_type": "code",
   "execution_count": 134,
   "metadata": {},
   "outputs": [
    {
     "name": "stdout",
     "output_type": "stream",
     "text": [
      "accuracy 0.795\n",
      "precision 0.779\n",
      "recall 0.713\n",
      "F1 0.794\n",
      "Confusion matrix \n",
      " [[747 127]\n",
      " [180 447]]\n",
      "CV Max = 0.867\n",
      "CV Min = 0.768\n",
      "CV Mean = 0.805\n"
     ]
    }
   ],
   "source": [
    "train_val, val = train_test_split(train, train_size = 0.8, test_size = 0.2, random_state = 42)\n",
    "vect = TfidfVectorizer()\n",
    "train_vectors = vect.fit_transform(train_val['keyword'] + ' ' + train_val[\"text\"])\n",
    "val_vectors = vect.transform(val[\"keyword\"] + ' ' + val[\"text\"])\n",
    "\n",
    "Ridge = RidgeClassifier(random_state=42)\n",
    "Ridge.fit(train_vectors, train_val['target'])\n",
    "\n",
    "Scores(Ridge, val_vectors, val[\"target\"])\n",
    "CV_scores(Ridge, train_vectors, train_val['target'])"
   ]
  },
  {
   "cell_type": "markdown",
   "metadata": {},
   "source": [
    "### Токенизация"
   ]
  },
  {
   "cell_type": "code",
   "execution_count": 88,
   "metadata": {},
   "outputs": [
    {
     "data": {
      "text/html": [
       "<div>\n",
       "<style scoped>\n",
       "    .dataframe tbody tr th:only-of-type {\n",
       "        vertical-align: middle;\n",
       "    }\n",
       "\n",
       "    .dataframe tbody tr th {\n",
       "        vertical-align: top;\n",
       "    }\n",
       "\n",
       "    .dataframe thead th {\n",
       "        text-align: right;\n",
       "    }\n",
       "</style>\n",
       "<table border=\"1\" class=\"dataframe\">\n",
       "  <thead>\n",
       "    <tr style=\"text-align: right;\">\n",
       "      <th></th>\n",
       "      <th>id</th>\n",
       "      <th>keyword</th>\n",
       "      <th>location</th>\n",
       "      <th>text</th>\n",
       "      <th>target</th>\n",
       "      <th>all</th>\n",
       "      <th>all_tokenized</th>\n",
       "    </tr>\n",
       "  </thead>\n",
       "  <tbody>\n",
       "    <tr>\n",
       "      <th>0</th>\n",
       "      <td>1</td>\n",
       "      <td>0</td>\n",
       "      <td>0</td>\n",
       "      <td>our deeds are the reason of this earthquake ma...</td>\n",
       "      <td>1</td>\n",
       "      <td>0 our deeds are the reason of this earthquake ...</td>\n",
       "      <td>[0, our, deeds, are, the, reason, of, this, ea...</td>\n",
       "    </tr>\n",
       "    <tr>\n",
       "      <th>1</th>\n",
       "      <td>4</td>\n",
       "      <td>0</td>\n",
       "      <td>0</td>\n",
       "      <td>forest fire near la ronge sask canada</td>\n",
       "      <td>1</td>\n",
       "      <td>0 forest fire near la ronge sask canada</td>\n",
       "      <td>[0, forest, fire, near, la, ronge, sask, canada]</td>\n",
       "    </tr>\n",
       "    <tr>\n",
       "      <th>2</th>\n",
       "      <td>5</td>\n",
       "      <td>0</td>\n",
       "      <td>0</td>\n",
       "      <td>all residents asked to shelter in place are be...</td>\n",
       "      <td>1</td>\n",
       "      <td>0 all residents asked to shelter in place are ...</td>\n",
       "      <td>[0, all, residents, asked, to, shelter, in, pl...</td>\n",
       "    </tr>\n",
       "    <tr>\n",
       "      <th>3</th>\n",
       "      <td>6</td>\n",
       "      <td>0</td>\n",
       "      <td>0</td>\n",
       "      <td>people receive wildfires evacuation orders in...</td>\n",
       "      <td>1</td>\n",
       "      <td>0  people receive wildfires evacuation orders ...</td>\n",
       "      <td>[0, people, receive, wildfires, evacuation, or...</td>\n",
       "    </tr>\n",
       "    <tr>\n",
       "      <th>4</th>\n",
       "      <td>7</td>\n",
       "      <td>0</td>\n",
       "      <td>0</td>\n",
       "      <td>just got sent this photo from ruby alaska as s...</td>\n",
       "      <td>1</td>\n",
       "      <td>0 just got sent this photo from ruby alaska as...</td>\n",
       "      <td>[0, just, got, sent, this, photo, from, ruby, ...</td>\n",
       "    </tr>\n",
       "  </tbody>\n",
       "</table>\n",
       "</div>"
      ],
      "text/plain": [
       "   id keyword location                                               text  \\\n",
       "0   1       0        0  our deeds are the reason of this earthquake ma...   \n",
       "1   4       0        0              forest fire near la ronge sask canada   \n",
       "2   5       0        0  all residents asked to shelter in place are be...   \n",
       "3   6       0        0   people receive wildfires evacuation orders in...   \n",
       "4   7       0        0  just got sent this photo from ruby alaska as s...   \n",
       "\n",
       "   target                                                all  \\\n",
       "0       1  0 our deeds are the reason of this earthquake ...   \n",
       "1       1            0 forest fire near la ronge sask canada   \n",
       "2       1  0 all residents asked to shelter in place are ...   \n",
       "3       1  0  people receive wildfires evacuation orders ...   \n",
       "4       1  0 just got sent this photo from ruby alaska as...   \n",
       "\n",
       "                                       all_tokenized  \n",
       "0  [0, our, deeds, are, the, reason, of, this, ea...  \n",
       "1   [0, forest, fire, near, la, ronge, sask, canada]  \n",
       "2  [0, all, residents, asked, to, shelter, in, pl...  \n",
       "3  [0, people, receive, wildfires, evacuation, or...  \n",
       "4  [0, just, got, sent, this, photo, from, ruby, ...  "
      ]
     },
     "execution_count": 88,
     "metadata": {},
     "output_type": "execute_result"
    }
   ],
   "source": [
    "def tokenize(text):\n",
    "    tokens = re.split('\\W+', text)\n",
    "    return tokens\n",
    "\n",
    "#добавляем keyword в text\n",
    "train['all'] = train['keyword'] + ' ' + train['text']\n",
    "test['all'] = test['keyword'] + ' ' + test['text']\n",
    "\n",
    "#выполняем токенизацию\n",
    "train['all_tokenized'] = train['all'].apply(lambda x: tokenize(x.lower()))\n",
    "test['all_tokenized'] = test['all'].apply(lambda x: tokenize(x.lower()))\n",
    "\n",
    "train.head()"
   ]
  },
  {
   "cell_type": "markdown",
   "metadata": {},
   "source": [
    "### Удаление стоп-слов"
   ]
  },
  {
   "cell_type": "code",
   "execution_count": 89,
   "metadata": {},
   "outputs": [
    {
     "name": "stderr",
     "output_type": "stream",
     "text": [
      "[nltk_data] Downloading package stopwords to\n",
      "[nltk_data]     C:\\Users\\Sevastyan\\AppData\\Roaming\\nltk_data...\n",
      "[nltk_data]   Package stopwords is already up-to-date!\n"
     ]
    }
   ],
   "source": [
    "nltk.download('stopwords')\n",
    "stopwords = nltk.corpus.stopwords.words('english') #Все английские стоп-слова\n",
    "#stopwords"
   ]
  },
  {
   "cell_type": "code",
   "execution_count": 90,
   "metadata": {},
   "outputs": [
    {
     "data": {
      "text/html": [
       "<div>\n",
       "<style scoped>\n",
       "    .dataframe tbody tr th:only-of-type {\n",
       "        vertical-align: middle;\n",
       "    }\n",
       "\n",
       "    .dataframe tbody tr th {\n",
       "        vertical-align: top;\n",
       "    }\n",
       "\n",
       "    .dataframe thead th {\n",
       "        text-align: right;\n",
       "    }\n",
       "</style>\n",
       "<table border=\"1\" class=\"dataframe\">\n",
       "  <thead>\n",
       "    <tr style=\"text-align: right;\">\n",
       "      <th></th>\n",
       "      <th>id</th>\n",
       "      <th>keyword</th>\n",
       "      <th>location</th>\n",
       "      <th>text</th>\n",
       "      <th>target</th>\n",
       "      <th>all</th>\n",
       "      <th>all_tokenized</th>\n",
       "      <th>all_no_stopwords</th>\n",
       "    </tr>\n",
       "  </thead>\n",
       "  <tbody>\n",
       "    <tr>\n",
       "      <th>0</th>\n",
       "      <td>1</td>\n",
       "      <td>0</td>\n",
       "      <td>0</td>\n",
       "      <td>our deeds are the reason of this earthquake ma...</td>\n",
       "      <td>1</td>\n",
       "      <td>0 our deeds are the reason of this earthquake ...</td>\n",
       "      <td>[0, our, deeds, are, the, reason, of, this, ea...</td>\n",
       "      <td>[0, deeds, reason, earthquake, may, allah, for...</td>\n",
       "    </tr>\n",
       "    <tr>\n",
       "      <th>1</th>\n",
       "      <td>4</td>\n",
       "      <td>0</td>\n",
       "      <td>0</td>\n",
       "      <td>forest fire near la ronge sask canada</td>\n",
       "      <td>1</td>\n",
       "      <td>0 forest fire near la ronge sask canada</td>\n",
       "      <td>[0, forest, fire, near, la, ronge, sask, canada]</td>\n",
       "      <td>[0, forest, fire, near, la, ronge, sask, canada]</td>\n",
       "    </tr>\n",
       "    <tr>\n",
       "      <th>2</th>\n",
       "      <td>5</td>\n",
       "      <td>0</td>\n",
       "      <td>0</td>\n",
       "      <td>all residents asked to shelter in place are be...</td>\n",
       "      <td>1</td>\n",
       "      <td>0 all residents asked to shelter in place are ...</td>\n",
       "      <td>[0, all, residents, asked, to, shelter, in, pl...</td>\n",
       "      <td>[0, residents, asked, shelter, place, notified...</td>\n",
       "    </tr>\n",
       "    <tr>\n",
       "      <th>3</th>\n",
       "      <td>6</td>\n",
       "      <td>0</td>\n",
       "      <td>0</td>\n",
       "      <td>people receive wildfires evacuation orders in...</td>\n",
       "      <td>1</td>\n",
       "      <td>0  people receive wildfires evacuation orders ...</td>\n",
       "      <td>[0, people, receive, wildfires, evacuation, or...</td>\n",
       "      <td>[0, people, receive, wildfires, evacuation, or...</td>\n",
       "    </tr>\n",
       "    <tr>\n",
       "      <th>4</th>\n",
       "      <td>7</td>\n",
       "      <td>0</td>\n",
       "      <td>0</td>\n",
       "      <td>just got sent this photo from ruby alaska as s...</td>\n",
       "      <td>1</td>\n",
       "      <td>0 just got sent this photo from ruby alaska as...</td>\n",
       "      <td>[0, just, got, sent, this, photo, from, ruby, ...</td>\n",
       "      <td>[0, got, sent, photo, ruby, alaska, smoke, wil...</td>\n",
       "    </tr>\n",
       "  </tbody>\n",
       "</table>\n",
       "</div>"
      ],
      "text/plain": [
       "   id keyword location                                               text  \\\n",
       "0   1       0        0  our deeds are the reason of this earthquake ma...   \n",
       "1   4       0        0              forest fire near la ronge sask canada   \n",
       "2   5       0        0  all residents asked to shelter in place are be...   \n",
       "3   6       0        0   people receive wildfires evacuation orders in...   \n",
       "4   7       0        0  just got sent this photo from ruby alaska as s...   \n",
       "\n",
       "   target                                                all  \\\n",
       "0       1  0 our deeds are the reason of this earthquake ...   \n",
       "1       1            0 forest fire near la ronge sask canada   \n",
       "2       1  0 all residents asked to shelter in place are ...   \n",
       "3       1  0  people receive wildfires evacuation orders ...   \n",
       "4       1  0 just got sent this photo from ruby alaska as...   \n",
       "\n",
       "                                       all_tokenized  \\\n",
       "0  [0, our, deeds, are, the, reason, of, this, ea...   \n",
       "1   [0, forest, fire, near, la, ronge, sask, canada]   \n",
       "2  [0, all, residents, asked, to, shelter, in, pl...   \n",
       "3  [0, people, receive, wildfires, evacuation, or...   \n",
       "4  [0, just, got, sent, this, photo, from, ruby, ...   \n",
       "\n",
       "                                    all_no_stopwords  \n",
       "0  [0, deeds, reason, earthquake, may, allah, for...  \n",
       "1   [0, forest, fire, near, la, ronge, sask, canada]  \n",
       "2  [0, residents, asked, shelter, place, notified...  \n",
       "3  [0, people, receive, wildfires, evacuation, or...  \n",
       "4  [0, got, sent, photo, ruby, alaska, smoke, wil...  "
      ]
     },
     "execution_count": 90,
     "metadata": {},
     "output_type": "execute_result"
    }
   ],
   "source": [
    "def remove_stopwords(tokens):\n",
    "    removed = [word for word in tokens if word not in stopwords]\n",
    "    return removed\n",
    "\n",
    "train['all_no_stopwords'] = train['all_tokenized'].apply(lambda x: remove_stopwords(x))\n",
    "test['all_no_stopwords'] = test['all_tokenized'].apply(lambda x: remove_stopwords(x))\n",
    "\n",
    "train.head()"
   ]
  },
  {
   "cell_type": "code",
   "execution_count": 92,
   "metadata": {},
   "outputs": [
    {
     "name": "stdout",
     "output_type": "stream",
     "text": [
      "accuracy 0.795\n",
      "precision 0.777\n",
      "recall 0.716\n",
      "F1 0.794\n",
      "Confusion matrix \n",
      " [[745 129]\n",
      " [178 449]]\n",
      "CV scores: [0.768, 0.81, 0.784, 0.801, 0.803, 0.869, 0.772, 0.791, 0.822, 0.792, 0.79, 0.815, 0.768, 0.798, 0.806, 0.781, 0.76, 0.842, 0.804, 0.769]\n",
      "Max = 0.869\n",
      "Min = 0.76\n",
      "Mean = 0.797\n"
     ]
    }
   ],
   "source": [
    "def make_strings(tokens):\n",
    "    string = [word for word in tokens]\n",
    "    return \" \".join(string)\n",
    "\n",
    "train['all_stop_strings'] = train['all_no_stopwords'].apply(lambda x: make_strings(x))\n",
    "test['all_stop_strings'] = test['all_no_stopwords'].apply(lambda x: make_strings(x))\n",
    "\n",
    "train.head()\n",
    "\n",
    "train_val, val = train_test_split(train, train_size = 0.8, test_size = 0.2, random_state = 42)\n",
    "vect = TfidfVectorizer()\n",
    "train_vectors = vect.fit_transform(train_val['all_stop_strings'])\n",
    "val_vectors = vect.transform(val['all_stop_strings'])\n",
    "\n",
    "Ridge = RidgeClassifier(random_state=42)\n",
    "Ridge.fit(train_vectors, train_val['target'])\n",
    "\n",
    "Scores(Ridge, val_vectors, val[\"target\"])\n",
    "CV_scores(Ridge, train_vectors, train_val['target'])"
   ]
  },
  {
   "cell_type": "markdown",
   "metadata": {},
   "source": [
    "### Лемматизация"
   ]
  },
  {
   "cell_type": "code",
   "execution_count": 93,
   "metadata": {},
   "outputs": [
    {
     "name": "stderr",
     "output_type": "stream",
     "text": [
      "[nltk_data] Downloading package wordnet to\n",
      "[nltk_data]     C:\\Users\\Sevastyan\\AppData\\Roaming\\nltk_data...\n",
      "[nltk_data]   Package wordnet is already up-to-date!\n"
     ]
    },
    {
     "data": {
      "text/html": [
       "<div>\n",
       "<style scoped>\n",
       "    .dataframe tbody tr th:only-of-type {\n",
       "        vertical-align: middle;\n",
       "    }\n",
       "\n",
       "    .dataframe tbody tr th {\n",
       "        vertical-align: top;\n",
       "    }\n",
       "\n",
       "    .dataframe thead th {\n",
       "        text-align: right;\n",
       "    }\n",
       "</style>\n",
       "<table border=\"1\" class=\"dataframe\">\n",
       "  <thead>\n",
       "    <tr style=\"text-align: right;\">\n",
       "      <th></th>\n",
       "      <th>id</th>\n",
       "      <th>keyword</th>\n",
       "      <th>location</th>\n",
       "      <th>text</th>\n",
       "      <th>target</th>\n",
       "      <th>all</th>\n",
       "      <th>all_tokenized</th>\n",
       "      <th>all_no_stopwords</th>\n",
       "      <th>all_stop_strings</th>\n",
       "      <th>all_lemmatized</th>\n",
       "    </tr>\n",
       "  </thead>\n",
       "  <tbody>\n",
       "    <tr>\n",
       "      <th>0</th>\n",
       "      <td>1</td>\n",
       "      <td>0</td>\n",
       "      <td>0</td>\n",
       "      <td>our deeds are the reason of this earthquake ma...</td>\n",
       "      <td>1</td>\n",
       "      <td>0 our deeds are the reason of this earthquake ...</td>\n",
       "      <td>[0, our, deeds, are, the, reason, of, this, ea...</td>\n",
       "      <td>[0, deeds, reason, earthquake, may, allah, for...</td>\n",
       "      <td>0 deeds reason earthquake may allah forgive us</td>\n",
       "      <td>0 deed reason earthquake may allah forgive u</td>\n",
       "    </tr>\n",
       "    <tr>\n",
       "      <th>1</th>\n",
       "      <td>4</td>\n",
       "      <td>0</td>\n",
       "      <td>0</td>\n",
       "      <td>forest fire near la ronge sask canada</td>\n",
       "      <td>1</td>\n",
       "      <td>0 forest fire near la ronge sask canada</td>\n",
       "      <td>[0, forest, fire, near, la, ronge, sask, canada]</td>\n",
       "      <td>[0, forest, fire, near, la, ronge, sask, canada]</td>\n",
       "      <td>0 forest fire near la ronge sask canada</td>\n",
       "      <td>0 forest fire near la ronge sask canada</td>\n",
       "    </tr>\n",
       "    <tr>\n",
       "      <th>2</th>\n",
       "      <td>5</td>\n",
       "      <td>0</td>\n",
       "      <td>0</td>\n",
       "      <td>all residents asked to shelter in place are be...</td>\n",
       "      <td>1</td>\n",
       "      <td>0 all residents asked to shelter in place are ...</td>\n",
       "      <td>[0, all, residents, asked, to, shelter, in, pl...</td>\n",
       "      <td>[0, residents, asked, shelter, place, notified...</td>\n",
       "      <td>0 residents asked shelter place notified offic...</td>\n",
       "      <td>0 resident asked shelter place notified office...</td>\n",
       "    </tr>\n",
       "    <tr>\n",
       "      <th>3</th>\n",
       "      <td>6</td>\n",
       "      <td>0</td>\n",
       "      <td>0</td>\n",
       "      <td>people receive wildfires evacuation orders in...</td>\n",
       "      <td>1</td>\n",
       "      <td>0  people receive wildfires evacuation orders ...</td>\n",
       "      <td>[0, people, receive, wildfires, evacuation, or...</td>\n",
       "      <td>[0, people, receive, wildfires, evacuation, or...</td>\n",
       "      <td>0 people receive wildfires evacuation orders c...</td>\n",
       "      <td>0 people receive wildfire evacuation order cal...</td>\n",
       "    </tr>\n",
       "    <tr>\n",
       "      <th>4</th>\n",
       "      <td>7</td>\n",
       "      <td>0</td>\n",
       "      <td>0</td>\n",
       "      <td>just got sent this photo from ruby alaska as s...</td>\n",
       "      <td>1</td>\n",
       "      <td>0 just got sent this photo from ruby alaska as...</td>\n",
       "      <td>[0, just, got, sent, this, photo, from, ruby, ...</td>\n",
       "      <td>[0, got, sent, photo, ruby, alaska, smoke, wil...</td>\n",
       "      <td>0 got sent photo ruby alaska smoke wildfires p...</td>\n",
       "      <td>0 got sent photo ruby alaska smoke wildfire po...</td>\n",
       "    </tr>\n",
       "  </tbody>\n",
       "</table>\n",
       "</div>"
      ],
      "text/plain": [
       "   id keyword location                                               text  \\\n",
       "0   1       0        0  our deeds are the reason of this earthquake ma...   \n",
       "1   4       0        0              forest fire near la ronge sask canada   \n",
       "2   5       0        0  all residents asked to shelter in place are be...   \n",
       "3   6       0        0   people receive wildfires evacuation orders in...   \n",
       "4   7       0        0  just got sent this photo from ruby alaska as s...   \n",
       "\n",
       "   target                                                all  \\\n",
       "0       1  0 our deeds are the reason of this earthquake ...   \n",
       "1       1            0 forest fire near la ronge sask canada   \n",
       "2       1  0 all residents asked to shelter in place are ...   \n",
       "3       1  0  people receive wildfires evacuation orders ...   \n",
       "4       1  0 just got sent this photo from ruby alaska as...   \n",
       "\n",
       "                                       all_tokenized  \\\n",
       "0  [0, our, deeds, are, the, reason, of, this, ea...   \n",
       "1   [0, forest, fire, near, la, ronge, sask, canada]   \n",
       "2  [0, all, residents, asked, to, shelter, in, pl...   \n",
       "3  [0, people, receive, wildfires, evacuation, or...   \n",
       "4  [0, just, got, sent, this, photo, from, ruby, ...   \n",
       "\n",
       "                                    all_no_stopwords  \\\n",
       "0  [0, deeds, reason, earthquake, may, allah, for...   \n",
       "1   [0, forest, fire, near, la, ronge, sask, canada]   \n",
       "2  [0, residents, asked, shelter, place, notified...   \n",
       "3  [0, people, receive, wildfires, evacuation, or...   \n",
       "4  [0, got, sent, photo, ruby, alaska, smoke, wil...   \n",
       "\n",
       "                                    all_stop_strings  \\\n",
       "0     0 deeds reason earthquake may allah forgive us   \n",
       "1            0 forest fire near la ronge sask canada   \n",
       "2  0 residents asked shelter place notified offic...   \n",
       "3  0 people receive wildfires evacuation orders c...   \n",
       "4  0 got sent photo ruby alaska smoke wildfires p...   \n",
       "\n",
       "                                      all_lemmatized  \n",
       "0       0 deed reason earthquake may allah forgive u  \n",
       "1            0 forest fire near la ronge sask canada  \n",
       "2  0 resident asked shelter place notified office...  \n",
       "3  0 people receive wildfire evacuation order cal...  \n",
       "4  0 got sent photo ruby alaska smoke wildfire po...  "
      ]
     },
     "execution_count": 93,
     "metadata": {},
     "output_type": "execute_result"
    }
   ],
   "source": [
    "nltk.download('wordnet')\n",
    "wn = nltk.WordNetLemmatizer()\n",
    "\n",
    "def lemmatizing(tokens):\n",
    "    text = [wn.lemmatize(word) for word in tokens]\n",
    "    return \" \".join(text)\n",
    "\n",
    "train['all_lemmatized'] = train['all_no_stopwords'].apply(lambda x: lemmatizing(x))\n",
    "test['all_lemmatized'] = test['all_no_stopwords'].apply(lambda x: lemmatizing(x))\n",
    "\n",
    "train.head()"
   ]
  },
  {
   "cell_type": "code",
   "execution_count": 95,
   "metadata": {},
   "outputs": [
    {
     "name": "stdout",
     "output_type": "stream",
     "text": [
      "accuracy 0.799\n",
      "precision 0.781\n",
      "recall 0.722\n",
      "F1 0.798\n",
      "Confusion matrix \n",
      " [[747 127]\n",
      " [174 453]]\n",
      "CV scores: [0.783, 0.826, 0.767, 0.785, 0.811, 0.843, 0.79, 0.801, 0.829, 0.815, 0.812, 0.828, 0.774, 0.771, 0.812, 0.782, 0.774, 0.829, 0.832, 0.793]\n",
      "Max = 0.843\n",
      "Min = 0.767\n",
      "Mean = 0.803\n"
     ]
    }
   ],
   "source": [
    "def lemmatizing(tokens):\n",
    "    text = [wn.lemmatize(word) for word in tokens]\n",
    "    return \" \".join(text)\n",
    "\n",
    "train['all_lemmatized_with_stops'] = train['all_tokenized'].apply(lambda x: lemmatizing(x))\n",
    "test['all_lemmatized_with_stops'] = test['all_tokenized'].apply(lambda x: lemmatizing(x))\n",
    "\n",
    "train.head()\n",
    "\n",
    "train_val, val = train_test_split(train, train_size = 0.8, test_size = 0.2, random_state = 42)\n",
    "vect = TfidfVectorizer()\n",
    "train_vectors = vect.fit_transform(train_val['all_lemmatized_with_stops'])\n",
    "val_vectors = vect.transform(val['all_lemmatized_with_stops'])\n",
    "\n",
    "Ridge = RidgeClassifier(random_state=42)\n",
    "Ridge.fit(train_vectors, train_val['target'])\n",
    "\n",
    "Scores(Ridge, val_vectors, val[\"target\"])\n",
    "CV_scores(Ridge, train_vectors, train_val['target'])"
   ]
  },
  {
   "cell_type": "code",
   "execution_count": 96,
   "metadata": {},
   "outputs": [
    {
     "name": "stdout",
     "output_type": "stream",
     "text": [
      "Train size: 6002\n",
      "Validation size: 1501\n",
      "====Ridge==== \n",
      " (baseline)\n",
      "\n",
      "accuracy 0.795\n",
      "precision 0.778\n",
      "recall 0.715\n",
      "F1 0.794\n",
      "Confusion matrix \n",
      " [[746 128]\n",
      " [179 448]]\n",
      "CV scores: [0.783, 0.826, 0.767, 0.785, 0.811, 0.843, 0.79, 0.801, 0.829, 0.815, 0.812, 0.828, 0.774, 0.771, 0.812, 0.782, 0.774, 0.829, 0.832, 0.793]\n",
      "Max = 0.843\n",
      "Min = 0.767\n",
      "Mean = 0.803\n",
      "\n",
      "--- 0.016 seconds ---\n"
     ]
    }
   ],
   "source": [
    "train_splitted, val = train_test_split(train, train_size = 0.8, test_size = 0.2, random_state = 42)\n",
    "print(\"Train size:\",len(train_splitted))\n",
    "print(\"Validation size:\",len(val))\n",
    "\n",
    "#vectorizer = CountVectorizer()\n",
    "vectorizer = TfidfVectorizer()\n",
    "\n",
    "X_train_splitted_vectorized = vectorizer.fit_transform(train_splitted[\"all_lemmatized\"])\n",
    "X_val_vectorized = vectorizer.transform(val[\"all_lemmatized\"])\n",
    "\n",
    "print(\"====Ridge==== \\n (baseline)\\n\")\n",
    "Ridge = RidgeClassifier(random_state=42)\n",
    "start_time = time.time() \n",
    "Ridge.fit(X_train_splitted_vectorized, train_splitted['target'])\n",
    "end_time = round(time.time() - start_time,3)\n",
    "\n",
    "Scores(Ridge, X_val_vectorized, val['target'])\n",
    "CV_scores(Ridge, train_vectors, train_val['target'])\n",
    "print(\"\\n--- %s seconds ---\" % end_time) "
   ]
  },
  {
   "cell_type": "markdown",
   "metadata": {},
   "source": [
    "### Понижение размерности"
   ]
  },
  {
   "cell_type": "code",
   "execution_count": 111,
   "metadata": {},
   "outputs": [
    {
     "name": "stdout",
     "output_type": "stream",
     "text": [
      "Train size: 6002\n",
      "Validation size: 1501\n",
      "accuracy 0.795\n",
      "precision 0.779\n",
      "recall 0.713\n",
      "F1 0.794\n",
      "Confusion matrix \n",
      " [[747 127]\n",
      " [180 447]]\n",
      "CV Max = 0.867\n",
      "CV Min = 0.768\n",
      "CV Mean = 0.805\n"
     ]
    }
   ],
   "source": [
    "train = pd.read_csv('input/train.csv')\n",
    "test = pd.read_csv('input/test.csv')\n",
    "\n",
    "train.fillna('0', inplace=True)    \n",
    "test.fillna('0', inplace=True)\n",
    "\n",
    "train.drop_duplicates(subset = [\"text\"], keep=\"first\", inplace=True)\n",
    "\n",
    "#убираем все символы пунктуации\n",
    "def remove_punct(text):\n",
    "    text = text.lower()\n",
    "    text_nopunct = \"\".join([char for char in text if char not in string.punctuation])\n",
    "    return text_nopunct\n",
    "\n",
    "#удаляем символ пробела (в столбце keyword)\n",
    "def remove_percent(text):\n",
    "    text = text.replace('%20', '')\n",
    "    return text\n",
    "\n",
    "#убираем символы переноса строки (\\n встречаются в text)\n",
    "def remove_new_str(text):\n",
    "    text = text.replace('\\n',' ')\n",
    "    return text\n",
    "\n",
    "#убираем из text всё похожее на ссылку\n",
    "def remove_http(text):\n",
    "    text = text.lower()\n",
    "    result = re.sub(r'(\\S)*(\\x89)(\\S)*', '', text)\n",
    "    result = re.sub(r'http(\\S)*', '', result)   \n",
    "    result = re.sub(r'x\\d*', '', result)\n",
    "    return result    \n",
    "\n",
    "#убираем все цифры\n",
    "def remove_digits(text):\n",
    "    result = re.sub(r'\\d', '', text)\n",
    "    return result   \n",
    "\n",
    "train['keyword'] = train['keyword'].apply(lambda x: remove_percent(x))\n",
    "test['keyword'] = test['keyword'].apply(lambda x: remove_percent(x))\n",
    "\n",
    "train['keyword'] = train['keyword'].apply(lambda x: remove_punct(x))\n",
    "test['keyword'] = test['keyword'].apply(lambda x: remove_punct(x))\n",
    "\n",
    "train['text'] = train['text'].apply(lambda x: remove_new_str(x))\n",
    "test['text'] = test['text'].apply(lambda x: remove_new_str(x))\n",
    "\n",
    "train['text'] = train['text'].apply(lambda x: remove_punct(x))\n",
    "test['text'] = test['text'].apply(lambda x: remove_punct(x))\n",
    "\n",
    "train['text'] = train['text'].apply(lambda x: remove_http(x))\n",
    "test['text'] = test['text'].apply(lambda x: remove_http(x))\n",
    "\n",
    "train['text'] = train['text'].apply(lambda x: remove_digits(x))\n",
    "test['text'] = test['text'].apply(lambda x: remove_digits(x))\n",
    "\n",
    "train['keytext'] = train['keyword']+' '+train['text']\n",
    "test['keytext'] = test['keyword']+' '+test['text']\n",
    "\n",
    "train_val, val = train_test_split(train, train_size = 0.8, test_size = 0.2, random_state = 42)\n",
    "print(\"Train size:\",len(train_splitted))\n",
    "print(\"Validation size:\",len(val))\n",
    "\n",
    "vect = TfidfVectorizer()\n",
    "train_vectors = vect.fit_transform(train_val['keytext'])\n",
    "val_vectors = vect.transform(val[\"keytext\"])\n",
    "\n",
    "Ridge = RidgeClassifier(random_state=42)\n",
    "Ridge.fit(train_vectors, train_val['target'])\n",
    "\n",
    "Scores(Ridge, val_vectors, val[\"target\"])\n",
    "CV_scores(Ridge, train_vectors, train_val['target'])"
   ]
  },
  {
   "cell_type": "code",
   "execution_count": 112,
   "metadata": {},
   "outputs": [
    {
     "data": {
      "text/html": [
       "<div>\n",
       "<style scoped>\n",
       "    .dataframe tbody tr th:only-of-type {\n",
       "        vertical-align: middle;\n",
       "    }\n",
       "\n",
       "    .dataframe tbody tr th {\n",
       "        vertical-align: top;\n",
       "    }\n",
       "\n",
       "    .dataframe thead th {\n",
       "        text-align: right;\n",
       "    }\n",
       "</style>\n",
       "<table border=\"1\" class=\"dataframe\">\n",
       "  <thead>\n",
       "    <tr style=\"text-align: right;\">\n",
       "      <th></th>\n",
       "      <th>id</th>\n",
       "      <th>keyword</th>\n",
       "      <th>location</th>\n",
       "      <th>text</th>\n",
       "      <th>target</th>\n",
       "      <th>keytext</th>\n",
       "    </tr>\n",
       "  </thead>\n",
       "  <tbody>\n",
       "    <tr>\n",
       "      <th>0</th>\n",
       "      <td>1</td>\n",
       "      <td>0</td>\n",
       "      <td>0</td>\n",
       "      <td>our deeds are the reason of this earthquake ma...</td>\n",
       "      <td>1</td>\n",
       "      <td>0 our deeds are the reason of this earthquake ...</td>\n",
       "    </tr>\n",
       "    <tr>\n",
       "      <th>1</th>\n",
       "      <td>4</td>\n",
       "      <td>0</td>\n",
       "      <td>0</td>\n",
       "      <td>forest fire near la ronge sask canada</td>\n",
       "      <td>1</td>\n",
       "      <td>0 forest fire near la ronge sask canada</td>\n",
       "    </tr>\n",
       "    <tr>\n",
       "      <th>2</th>\n",
       "      <td>5</td>\n",
       "      <td>0</td>\n",
       "      <td>0</td>\n",
       "      <td>all residents asked to shelter in place are be...</td>\n",
       "      <td>1</td>\n",
       "      <td>0 all residents asked to shelter in place are ...</td>\n",
       "    </tr>\n",
       "    <tr>\n",
       "      <th>3</th>\n",
       "      <td>6</td>\n",
       "      <td>0</td>\n",
       "      <td>0</td>\n",
       "      <td>people receive wildfires evacuation orders in...</td>\n",
       "      <td>1</td>\n",
       "      <td>0  people receive wildfires evacuation orders ...</td>\n",
       "    </tr>\n",
       "    <tr>\n",
       "      <th>4</th>\n",
       "      <td>7</td>\n",
       "      <td>0</td>\n",
       "      <td>0</td>\n",
       "      <td>just got sent this photo from ruby alaska as s...</td>\n",
       "      <td>1</td>\n",
       "      <td>0 just got sent this photo from ruby alaska as...</td>\n",
       "    </tr>\n",
       "  </tbody>\n",
       "</table>\n",
       "</div>"
      ],
      "text/plain": [
       "   id keyword location                                               text  \\\n",
       "0   1       0        0  our deeds are the reason of this earthquake ma...   \n",
       "1   4       0        0              forest fire near la ronge sask canada   \n",
       "2   5       0        0  all residents asked to shelter in place are be...   \n",
       "3   6       0        0   people receive wildfires evacuation orders in...   \n",
       "4   7       0        0  just got sent this photo from ruby alaska as s...   \n",
       "\n",
       "   target                                            keytext  \n",
       "0       1  0 our deeds are the reason of this earthquake ...  \n",
       "1       1            0 forest fire near la ronge sask canada  \n",
       "2       1  0 all residents asked to shelter in place are ...  \n",
       "3       1  0  people receive wildfires evacuation orders ...  \n",
       "4       1  0 just got sent this photo from ruby alaska as...  "
      ]
     },
     "execution_count": 112,
     "metadata": {},
     "output_type": "execute_result"
    }
   ],
   "source": [
    "train.head()"
   ]
  },
  {
   "cell_type": "code",
   "execution_count": 113,
   "metadata": {},
   "outputs": [],
   "source": [
    "# Создать и выполнить TSVD с числом признаков меньше на единицу \n",
    "tsvd = TruncatedSVD(n_components=train_vectors.shape[1] - 1) \n",
    "features_tsvd = tsvd.fit(train_vectors)\n",
    "# Поместить в список объясненные дисперсии \n",
    "tsvd_var_ratios = tsvd.explained_variance_ratio_\n",
    "\n",
    "# Создать функцию \n",
    "def select_n_components(var_ratio, goal_var): # Задать исходную объясненную на данный момент дисперсию \n",
    "    total_variance =0.0\n",
    "    # Задать исходное количество признаков \n",
    "    n_components = 0\n",
    "    # Для объясненной дисперсии каждого признака: \n",
    "    for explained_variance in var_ratio:\n",
    "        # Добавить объясненную дисперсию к итогу \n",
    "        total_variance += explained_variance\n",
    "        # Добавить единицу к количеству компонент \n",
    "        n_components += 1\n",
    "        # Если достигнут целевой уровень объясненной дисперсии \n",
    "        if total_variance >= goal_var: \n",
    "            # Завершить цикл \n",
    "            break\n",
    "# Вернуть количество компонент \n",
    "    return n_components\n",
    "# Выполнить функцию \n",
    "Number_of_components = select_n_components(tsvd_var_ratios, 0.95)"
   ]
  },
  {
   "cell_type": "code",
   "execution_count": 114,
   "metadata": {},
   "outputs": [
    {
     "name": "stdout",
     "output_type": "stream",
     "text": [
      "3706\n"
     ]
    }
   ],
   "source": [
    "print(Number_of_components)"
   ]
  },
  {
   "cell_type": "code",
   "execution_count": 115,
   "metadata": {},
   "outputs": [
    {
     "name": "stdout",
     "output_type": "stream",
     "text": [
      "Количество признаков до понижения размерности: 14505\n",
      "Количество признаков после понижения размерности train: 3706\n"
     ]
    }
   ],
   "source": [
    "tsvd = TruncatedSVD(n_components=3706, random_state = 42)\n",
    "\n",
    "train_tsvd = tsvd.fit_transform(train_vectors)\n",
    "val_tsvd = tsvd.transform(val_vectors)\n",
    "\n",
    "print(\"Количество признаков до понижения размерности:\",train_vectors.shape[1])\n",
    "print(\"Количество признаков после понижения размерности train:\",train_tsvd.shape[1])\n",
    "\n",
    "\n"
   ]
  },
  {
   "cell_type": "code",
   "execution_count": 116,
   "metadata": {},
   "outputs": [
    {
     "name": "stdout",
     "output_type": "stream",
     "text": [
      "accuracy 0.795\n",
      "precision 0.779\n",
      "recall 0.713\n",
      "F1 0.794\n",
      "Confusion matrix \n",
      " [[747 127]\n",
      " [180 447]]\n",
      "CV Max = 0.847\n",
      "CV Min = 0.761\n",
      "CV Mean = 0.798\n"
     ]
    }
   ],
   "source": [
    "Ridge = RidgeClassifier(random_state=42)\n",
    "Ridge.fit(train_tsvd, train_val['target'])\n",
    "\n",
    "Scores(Ridge, val_tsvd, val[\"target\"])\n",
    "CV_scores(Ridge, train_tsvd, train_val['target'])"
   ]
  },
  {
   "cell_type": "markdown",
   "metadata": {},
   "source": [
    "# 4. Тестирование классификаторов, подбор гиперпараметров"
   ]
  },
  {
   "cell_type": "code",
   "execution_count": 59,
   "metadata": {},
   "outputs": [
    {
     "name": "stdout",
     "output_type": "stream",
     "text": [
      "Train size: 6002\n",
      "Validation size: 1501\n"
     ]
    }
   ],
   "source": [
    "train = pd.read_csv('input/train.csv')\n",
    "test = pd.read_csv('input/test.csv')\n",
    "\n",
    "train.fillna('0', inplace=True)    \n",
    "test.fillna('0', inplace=True)\n",
    "\n",
    "train.drop_duplicates(subset = [\"text\"], keep=\"first\", inplace=True)\n",
    "\n",
    "#убираем все символы пунктуации\n",
    "def remove_punct(text):\n",
    "    text = text.lower()\n",
    "    text_nopunct = \"\".join([char for char in text if char not in string.punctuation])\n",
    "    return text_nopunct\n",
    "\n",
    "#удаляем символ пробела (в столбце keyword)\n",
    "def remove_percent(text):\n",
    "    text = text.replace('%20', '')\n",
    "    return text\n",
    "\n",
    "#убираем символы переноса строки (\\n встречаются в text)\n",
    "def remove_new_str(text):\n",
    "    text = text.replace('\\n',' ')\n",
    "    return text\n",
    "\n",
    "#убираем из text всё похожее на ссылку\n",
    "def remove_http(text):\n",
    "    text = text.lower()\n",
    "    result = re.sub(r'(\\S)*(\\x89)(\\S)*', '', text)\n",
    "    result = re.sub(r'http(\\S)*', '', result)   \n",
    "    result = re.sub(r'x\\d*', '', result)\n",
    "    return result    \n",
    "\n",
    "#убираем все цифры\n",
    "def remove_digits(text):\n",
    "    result = re.sub(r'\\d', '', text)\n",
    "    return result   \n",
    "\n",
    "train['keyword'] = train['keyword'].apply(lambda x: remove_percent(x))\n",
    "test['keyword'] = test['keyword'].apply(lambda x: remove_percent(x))\n",
    "\n",
    "train['keyword'] = train['keyword'].apply(lambda x: remove_punct(x))\n",
    "test['keyword'] = test['keyword'].apply(lambda x: remove_punct(x))\n",
    "\n",
    "train['text'] = train['text'].apply(lambda x: remove_new_str(x))\n",
    "test['text'] = test['text'].apply(lambda x: remove_new_str(x))\n",
    "\n",
    "train['text'] = train['text'].apply(lambda x: remove_punct(x))\n",
    "test['text'] = test['text'].apply(lambda x: remove_punct(x))\n",
    "\n",
    "train['text'] = train['text'].apply(lambda x: remove_http(x))\n",
    "test['text'] = test['text'].apply(lambda x: remove_http(x))\n",
    "\n",
    "train['text'] = train['text'].apply(lambda x: remove_digits(x))\n",
    "test['text'] = test['text'].apply(lambda x: remove_digits(x))\n",
    "\n",
    "train['keytext'] = train['keyword']+' '+train['text']\n",
    "test['keytext'] = test['keyword']+' '+test['text']\n",
    "\n",
    "train_val, val = train_test_split(train, train_size = 0.8, random_state = 42)\n",
    "print(\"Train size:\",len(train_val))\n",
    "print(\"Validation size:\",len(val))"
   ]
  },
  {
   "cell_type": "code",
   "execution_count": 60,
   "metadata": {},
   "outputs": [],
   "source": [
    "vect = TfidfVectorizer()\n",
    "train_vectors = vect.fit_transform(train_val['keytext'])\n",
    "val_vectors = vect.transform(val[\"keytext\"])\n"
   ]
  },
  {
   "cell_type": "code",
   "execution_count": 61,
   "metadata": {},
   "outputs": [],
   "source": [
    "X_train = train_vectors\n",
    "Y_train = train_val['target']\n",
    "X_test = val_vectors\n",
    "Y_test = val['target']"
   ]
  },
  {
   "cell_type": "code",
   "execution_count": 62,
   "metadata": {},
   "outputs": [
    {
     "data": {
      "text/plain": [
       "array([1.e-06, 1.e-05, 1.e-04, 1.e-03, 1.e-02, 1.e-01, 1.e+00, 1.e+01,\n",
       "       1.e+02, 1.e+03, 1.e+04, 1.e+05, 1.e+06])"
      ]
     },
     "execution_count": 62,
     "metadata": {},
     "output_type": "execute_result"
    }
   ],
   "source": [
    "alpha_pow_min = -6\n",
    "alpha_pow_max = 6\n",
    "alpha_base = 10\n",
    "alpha_amount = 13\n",
    "\n",
    "alphas = np.logspace(alpha_pow_min, alpha_pow_max, base = alpha_base, num = alpha_amount)\n",
    "alphas"
   ]
  },
  {
   "cell_type": "code",
   "execution_count": 63,
   "metadata": {},
   "outputs": [],
   "source": [
    "def ApplyGridSearch(estimator, parameters, X_train, Y_train, X_test, Y_test):    \n",
    "    GridSearch = GridSearchCV(estimator, parameters, scoring=make_scorer(f1_score, average='weighted'), n_jobs=-1, cv = 20, verbose = 5)     \n",
    "    start_time = time.time() \n",
    "    GridSearch.fit(X_train, Y_train)\n",
    "    end_time = round(time.time() - start_time,3)\n",
    "    print(GridSearch.best_params_,\"- best found params\")\n",
    "    print(F(GridSearch.best_score_),\"- best model's score\\nValidation scores:\")\n",
    "    Scores(GridSearch.best_estimator_, X_test, Y_test)\n",
    "    #CV_scores(GridSearch.best_estimator_, X_train, Y_train)\n",
    "    print(\"\\n--- %s seconds ---\\n\\n\" % end_time) "
   ]
  },
  {
   "cell_type": "code",
   "execution_count": 65,
   "metadata": {},
   "outputs": [
    {
     "name": "stdout",
     "output_type": "stream",
     "text": [
      "====LogisticRegression====\n",
      "Fitting 20 folds for each of 65 candidates, totalling 1300 fits\n"
     ]
    },
    {
     "name": "stderr",
     "output_type": "stream",
     "text": [
      "[Parallel(n_jobs=-1)]: Using backend LokyBackend with 4 concurrent workers.\n",
      "[Parallel(n_jobs=-1)]: Done  12 tasks      | elapsed:    0.4s\n",
      "[Parallel(n_jobs=-1)]: Done 111 tasks      | elapsed:  1.2min\n",
      "[Parallel(n_jobs=-1)]: Done 230 tasks      | elapsed:  1.7min\n",
      "[Parallel(n_jobs=-1)]: Done 492 tasks      | elapsed:  1.9min\n",
      "[Parallel(n_jobs=-1)]: Done 930 tasks      | elapsed:  2.3min\n",
      "[Parallel(n_jobs=-1)]: Done 1128 tasks      | elapsed:  3.4min\n"
     ]
    },
    {
     "name": "stdout",
     "output_type": "stream",
     "text": [
      "{'C': 1.0, 'solver': 'liblinear'} - best found params\n",
      "0.806 - best model's score\n",
      "Validation scores:\n",
      "accuracy 0.791\n",
      "precision 0.784\n",
      "recall 0.691\n",
      "F1 0.789\n",
      "Confusion matrix \n",
      " [[755 119]\n",
      " [194 433]]\n",
      "\n",
      "--- 272.543 seconds ---\n",
      "\n",
      "\n"
     ]
    },
    {
     "name": "stderr",
     "output_type": "stream",
     "text": [
      "[Parallel(n_jobs=-1)]: Done 1300 out of 1300 | elapsed:  4.5min finished\n",
      "C:\\Users\\Sevastyan\\AppData\\Roaming\\Python\\Python36\\site-packages\\sklearn\\linear_model\\_logistic.py:1539: UserWarning: 'n_jobs' > 1 does not have any effect when 'solver' is set to 'liblinear'. Got 'n_jobs' = 4.\n",
      "  \" = {}.\".format(effective_n_jobs(self.n_jobs)))\n"
     ]
    }
   ],
   "source": [
    "print(\"====LogisticRegression====\")\n",
    "LogReg = LogisticRegression(random_state = 42, max_iter=1000, n_jobs=-1)\n",
    "parameters = {'solver': ('newton-cg', 'lbfgs', 'liblinear', 'sag', 'saga'), 'C': alphas}\n",
    "ApplyGridSearch(LogReg, parameters, X_train, Y_train, X_test, Y_test) "
   ]
  },
  {
   "cell_type": "code",
   "execution_count": 128,
   "metadata": {},
   "outputs": [
    {
     "name": "stdout",
     "output_type": "stream",
     "text": [
      "====SVC====\n",
      "Fitting 20 folds for each of 52 candidates, totalling 1040 fits\n"
     ]
    },
    {
     "name": "stderr",
     "output_type": "stream",
     "text": [
      "[Parallel(n_jobs=-1)]: Using backend LokyBackend with 4 concurrent workers.\n",
      "[Parallel(n_jobs=-1)]: Done  10 tasks      | elapsed:    4.6s\n",
      "[Parallel(n_jobs=-1)]: Done  64 tasks      | elapsed:   26.9s\n",
      "[Parallel(n_jobs=-1)]: Done 154 tasks      | elapsed:  1.1min\n",
      "[Parallel(n_jobs=-1)]: Done 280 tasks      | elapsed:  2.0min\n",
      "[Parallel(n_jobs=-1)]: Done 442 tasks      | elapsed:  3.1min\n",
      "[Parallel(n_jobs=-1)]: Done 640 tasks      | elapsed:  4.6min\n",
      "[Parallel(n_jobs=-1)]: Done 874 tasks      | elapsed:  6.3min\n",
      "[Parallel(n_jobs=-1)]: Done 1040 out of 1040 | elapsed:  7.4min finished\n",
      "C:\\Users\\Sevastyan\\AppData\\Roaming\\Python\\Python36\\site-packages\\sklearn\\svm\\_base.py:231: ConvergenceWarning: Solver terminated early (max_iter=1000).  Consider pre-processing your data with StandardScaler or MinMaxScaler.\n",
      "  % self.max_iter, ConvergenceWarning)\n"
     ]
    },
    {
     "name": "stdout",
     "output_type": "stream",
     "text": [
      "{'C': 1.0, 'kernel': 'linear'} - best found params\n",
      "0.782 - best model's score\n",
      "Validation scores:\n",
      "accuracy 0.751\n",
      "precision 0.822\n",
      "recall 0.515\n",
      "F1 0.737\n",
      "Confusion matrix \n",
      " [[804  70]\n",
      " [304 323]]\n"
     ]
    },
    {
     "name": "stderr",
     "output_type": "stream",
     "text": [
      "C:\\Users\\Sevastyan\\AppData\\Roaming\\Python\\Python36\\site-packages\\sklearn\\svm\\_base.py:231: ConvergenceWarning: Solver terminated early (max_iter=1000).  Consider pre-processing your data with StandardScaler or MinMaxScaler.\n",
      "  % self.max_iter, ConvergenceWarning)\n"
     ]
    },
    {
     "name": "stdout",
     "output_type": "stream",
     "text": [
      "CV Max = 0.846\n",
      "CV Min = 0.736\n",
      "CV Mean = 0.782\n",
      "\n",
      "--- 443.508 seconds ---\n",
      "\n",
      "\n"
     ]
    }
   ],
   "source": [
    "svc = SVC(gamma='auto', random_state = 42, max_iter=1000)\n",
    "parameters = {'kernel': ('linear', 'poly', 'rbf', 'sigmoid'), 'C': alphas}\n",
    "print(\"====SVC====\")\n",
    "ApplyGridSearch(svc, parameters, X_train, Y_train, X_test, Y_test) "
   ]
  },
  {
   "cell_type": "markdown",
   "metadata": {},
   "source": [
    "AdaBoost"
   ]
  },
  {
   "cell_type": "code",
   "execution_count": 129,
   "metadata": {},
   "outputs": [
    {
     "name": "stdout",
     "output_type": "stream",
     "text": [
      "====AdaBoost====\n",
      "Fitting 20 folds for each of 2 candidates, totalling 40 fits\n"
     ]
    },
    {
     "name": "stderr",
     "output_type": "stream",
     "text": [
      "[Parallel(n_jobs=-1)]: Using backend LokyBackend with 4 concurrent workers.\n",
      "[Parallel(n_jobs=-1)]: Done  10 tasks      | elapsed:   29.5s\n",
      "[Parallel(n_jobs=-1)]: Done  40 out of  40 | elapsed:  1.6min finished\n"
     ]
    },
    {
     "name": "stdout",
     "output_type": "stream",
     "text": [
      "{'algorithm': 'SAMME.R'} - best found params\n",
      "0.75 - best model's score\n",
      "Validation scores:\n",
      "accuracy 0.751\n",
      "precision 0.745\n",
      "recall 0.614\n",
      "F1 0.746\n",
      "Confusion matrix \n",
      " [[742 132]\n",
      " [242 385]]\n",
      "CV Max = 0.795\n",
      "CV Min = 0.693\n",
      "CV Mean = 0.75\n",
      "\n",
      "--- 96.438 seconds ---\n",
      "\n",
      "\n"
     ]
    }
   ],
   "source": [
    "est = AdaBoostClassifier(random_state=42, n_estimators=100)\n",
    "parameters = {'algorithm': ('SAMME','SAMME.R')}\n",
    "print(\"====AdaBoost====\")\n",
    "ApplyGridSearch(est, parameters, X_train, Y_train, X_test, Y_test) "
   ]
  },
  {
   "cell_type": "markdown",
   "metadata": {},
   "source": [
    "k соседей"
   ]
  },
  {
   "cell_type": "code",
   "execution_count": 172,
   "metadata": {},
   "outputs": [
    {
     "name": "stdout",
     "output_type": "stream",
     "text": [
      "====KNeighborsClassifier====\n",
      "Fitting 20 folds for each of 12 candidates, totalling 240 fits\n"
     ]
    },
    {
     "name": "stderr",
     "output_type": "stream",
     "text": [
      "[Parallel(n_jobs=-1)]: Using backend LokyBackend with 4 concurrent workers.\n",
      "[Parallel(n_jobs=-1)]: Done  10 tasks      | elapsed:    2.0s\n",
      "[Parallel(n_jobs=-1)]: Done  64 tasks      | elapsed:    4.0s\n",
      "[Parallel(n_jobs=-1)]: Done 154 tasks      | elapsed:    7.3s\n",
      "[Parallel(n_jobs=-1)]: Done 240 out of 240 | elapsed:   10.4s finished\n",
      "C:\\Users\\Sevastyan\\AppData\\Roaming\\Python\\Python36\\site-packages\\sklearn\\neighbors\\_base.py:414: UserWarning: cannot use tree with sparse input: using brute force\n",
      "  warnings.warn(\"cannot use tree with sparse input: \"\n"
     ]
    },
    {
     "name": "stdout",
     "output_type": "stream",
     "text": [
      "{'algorithm': 'ball_tree', 'n_neighbors': 92, 'weights': 'distance'} - best found params\n",
      "0.779 - best model's score\n",
      "Validation scores:\n",
      "accuracy 0.763\n",
      "precision 0.769\n",
      "recall 0.617\n",
      "F1 0.758\n",
      "Confusion matrix \n",
      " [[758 116]\n",
      " [240 387]]\n",
      "\n",
      "--- 10.513 seconds ---\n",
      "\n",
      "\n"
     ]
    }
   ],
   "source": [
    "kn = KNeighborsClassifier(leaf_size=30,  n_jobs=-1)\n",
    "parameters = {'n_neighbors': [90, 92], 'algorithm': ('ball_tree', 'kd_tree', 'brute'), 'weights': ('uniform', 'distance')}\n",
    "print(\"====KNeighborsClassifier====\")\n",
    "ApplyGridSearch(kn, parameters, X_train, Y_train, X_test, Y_test) "
   ]
  },
  {
   "cell_type": "markdown",
   "metadata": {},
   "source": [
    "MultinomialNB"
   ]
  },
  {
   "cell_type": "code",
   "execution_count": 173,
   "metadata": {},
   "outputs": [
    {
     "name": "stdout",
     "output_type": "stream",
     "text": [
      "====MultinomialNB====\n",
      "Fitting 20 folds for each of 26 candidates, totalling 520 fits\n"
     ]
    },
    {
     "name": "stderr",
     "output_type": "stream",
     "text": [
      "[Parallel(n_jobs=-1)]: Using backend LokyBackend with 4 concurrent workers.\n",
      "[Parallel(n_jobs=-1)]: Done  12 tasks      | elapsed:    0.0s\n"
     ]
    },
    {
     "name": "stdout",
     "output_type": "stream",
     "text": [
      "{'alpha': 1.0, 'fit_prior': True} - best found params\n",
      "0.804 - best model's score\n",
      "Validation scores:\n",
      "accuracy 0.793\n",
      "precision 0.848\n",
      "recall 0.614\n",
      "F1 0.786\n",
      "Confusion matrix \n",
      " [[805  69]\n",
      " [242 385]]\n",
      "\n",
      "--- 0.933 seconds ---\n",
      "\n",
      "\n"
     ]
    },
    {
     "name": "stderr",
     "output_type": "stream",
     "text": [
      "[Parallel(n_jobs=-1)]: Done 520 out of 520 | elapsed:    0.8s finished\n"
     ]
    }
   ],
   "source": [
    "est = MultinomialNB()\n",
    "parameters = {'alpha': alphas, 'fit_prior': [True, False]}\n",
    "print(\"====MultinomialNB====\")\n",
    "ApplyGridSearch(est, parameters, X_train, Y_train, X_test, Y_test) "
   ]
  },
  {
   "cell_type": "markdown",
   "metadata": {},
   "source": [
    "Дерево решений"
   ]
  },
  {
   "cell_type": "code",
   "execution_count": 143,
   "metadata": {},
   "outputs": [
    {
     "name": "stdout",
     "output_type": "stream",
     "text": [
      "====DecisionTreeClassifier====\n",
      "Fitting 20 folds for each of 676 candidates, totalling 13520 fits\n"
     ]
    },
    {
     "name": "stderr",
     "output_type": "stream",
     "text": [
      "[Parallel(n_jobs=-1)]: Using backend LokyBackend with 4 concurrent workers.\n",
      "[Parallel(n_jobs=-1)]: Done  12 tasks      | elapsed:    0.7s\n",
      "[Parallel(n_jobs=-1)]: Done 120 tasks      | elapsed:    5.9s\n",
      "[Parallel(n_jobs=-1)]: Done 992 tasks      | elapsed:   13.2s\n",
      "[Parallel(n_jobs=-1)]: Done 2736 tasks      | elapsed:   20.3s\n",
      "[Parallel(n_jobs=-1)]: Done 7296 tasks      | elapsed:   36.5s\n",
      "[Parallel(n_jobs=-1)]: Done 10672 tasks      | elapsed:   52.7s\n"
     ]
    },
    {
     "name": "stdout",
     "output_type": "stream",
     "text": [
      "{'criterion': 'gini', 'min_impurity_decrease': 0.0001, 'min_weight_fraction_leaf': 1e-06, 'splitter': 'random'} - best found params\n",
      "0.737 - best model's score\n",
      "Validation scores:\n",
      "accuracy 0.723\n",
      "precision 0.68\n",
      "recall 0.635\n",
      "F1 0.721\n",
      "Confusion matrix \n",
      " [[687 187]\n",
      " [229 398]]\n",
      "\n",
      "--- 57.139 seconds ---\n",
      "\n",
      "\n"
     ]
    },
    {
     "name": "stderr",
     "output_type": "stream",
     "text": [
      "[Parallel(n_jobs=-1)]: Done 13520 out of 13520 | elapsed:   57.0s finished\n"
     ]
    }
   ],
   "source": [
    "est = DecisionTreeClassifier(random_state = 42, max_features='auto')\n",
    "parameters = {'min_weight_fraction_leaf': alphas, 'min_impurity_decrease': alphas, 'criterion': ('gini','entropy'), 'splitter': ('best', 'random')}\n",
    "print(\"====DecisionTreeClassifier====\")\n",
    "ApplyGridSearch(est, parameters, X_train, Y_train, X_test, Y_test) "
   ]
  },
  {
   "cell_type": "markdown",
   "metadata": {},
   "source": [
    "Случайный лес"
   ]
  },
  {
   "cell_type": "code",
   "execution_count": 146,
   "metadata": {},
   "outputs": [
    {
     "name": "stdout",
     "output_type": "stream",
     "text": [
      "====RandomForestClassifier====\n",
      "Fitting 20 folds for each of 20 candidates, totalling 400 fits\n"
     ]
    },
    {
     "name": "stderr",
     "output_type": "stream",
     "text": [
      "[Parallel(n_jobs=-1)]: Using backend LokyBackend with 4 concurrent workers.\n",
      "[Parallel(n_jobs=-1)]: Done  10 tasks      | elapsed:   35.3s\n",
      "[Parallel(n_jobs=-1)]: Done  64 tasks      | elapsed:  2.4min\n",
      "[Parallel(n_jobs=-1)]: Done 154 tasks      | elapsed:  5.3min\n",
      "[Parallel(n_jobs=-1)]: Done 280 tasks      | elapsed:  8.3min\n",
      "[Parallel(n_jobs=-1)]: Done 400 out of 400 | elapsed: 11.4min finished\n"
     ]
    },
    {
     "name": "stdout",
     "output_type": "stream",
     "text": [
      "{'class_weight': 'balanced', 'criterion': 'entropy', 'min_impurity_decrease': 0.0001} - best found params\n",
      "0.793 - best model's score\n",
      "Validation scores:\n",
      "accuracy 0.78\n",
      "precision 0.793\n",
      "recall 0.641\n",
      "F1 0.776\n",
      "Confusion matrix \n",
      " [[769 105]\n",
      " [225 402]]\n",
      "\n",
      "--- 685.433 seconds ---\n",
      "\n",
      "\n"
     ]
    }
   ],
   "source": [
    "est = RandomForestClassifier(n_jobs=-1, random_state=42, n_estimators=100)\n",
    "parameters = {'criterion': ('gini','entropy'), 'class_weight': ('balanced', 'balanced_subsample'), 'min_impurity_decrease': alphas[0:5]}\n",
    "print(\"====RandomForestClassifier====\")\n",
    "ApplyGridSearch(est, parameters, X_train, Y_train, X_test, Y_test) "
   ]
  },
  {
   "cell_type": "code",
   "execution_count": 148,
   "metadata": {},
   "outputs": [
    {
     "name": "stdout",
     "output_type": "stream",
     "text": [
      "====GradientBoostingClassifier====\n",
      "Fitting 20 folds for each of 10 candidates, totalling 200 fits\n"
     ]
    },
    {
     "name": "stderr",
     "output_type": "stream",
     "text": [
      "[Parallel(n_jobs=-1)]: Using backend LokyBackend with 4 concurrent workers.\n",
      "[Parallel(n_jobs=-1)]: Done  10 tasks      | elapsed:   35.4s\n",
      "[Parallel(n_jobs=-1)]: Done  64 tasks      | elapsed: 10.5min\n",
      "[Parallel(n_jobs=-1)]: Done 154 tasks      | elapsed: 42.9min\n",
      "[Parallel(n_jobs=-1)]: Done 200 out of 200 | elapsed: 70.9min finished\n"
     ]
    },
    {
     "name": "stdout",
     "output_type": "stream",
     "text": [
      "{'loss': 'deviance', 'n_estimators': 1000} - best found params\n",
      "0.787 - best model's score\n",
      "Validation scores:\n",
      "accuracy 0.775\n",
      "precision 0.781\n",
      "recall 0.641\n",
      "F1 0.771\n",
      "Confusion matrix \n",
      " [[761 113]\n",
      " [225 402]]\n",
      "\n",
      "--- 4274.319 seconds ---\n",
      "\n",
      "\n"
     ]
    }
   ],
   "source": [
    "est = GradientBoostingClassifier(random_state=42)\n",
    "parameters = {'loss': ('deviance', 'exponential'), 'n_estimators': [100, 300, 500, 1000, 2000]}\n",
    "print(\"====GradientBoostingClassifier====\")\n",
    "ApplyGridSearch(est, parameters, X_train, Y_train, X_test, Y_test) "
   ]
  },
  {
   "cell_type": "code",
   "execution_count": 149,
   "metadata": {},
   "outputs": [
    {
     "name": "stdout",
     "output_type": "stream",
     "text": [
      "====RidgeClassifier====\n",
      "Fitting 20 folds for each of 91 candidates, totalling 1820 fits\n"
     ]
    },
    {
     "name": "stderr",
     "output_type": "stream",
     "text": [
      "[Parallel(n_jobs=-1)]: Using backend LokyBackend with 4 concurrent workers.\n",
      "[Parallel(n_jobs=-1)]: Done  10 tasks      | elapsed:   11.6s\n",
      "[Parallel(n_jobs=-1)]: Done 124 tasks      | elapsed:   24.7s\n",
      "[Parallel(n_jobs=-1)]: Done 302 tasks      | elapsed:   42.0s\n",
      "[Parallel(n_jobs=-1)]: Done 612 tasks      | elapsed:   53.5s\n"
     ]
    },
    {
     "name": "stdout",
     "output_type": "stream",
     "text": [
      "{'alpha': 1.0, 'solver': 'sag'} - best found params\n",
      "0.805 - best model's score\n",
      "Validation scores:\n",
      "accuracy 0.795\n",
      "precision 0.779\n",
      "recall 0.713\n",
      "F1 0.794\n",
      "Confusion matrix \n",
      " [[747 127]\n",
      " [180 447]]\n",
      "\n",
      "--- 78.406 seconds ---\n",
      "\n",
      "\n"
     ]
    },
    {
     "name": "stderr",
     "output_type": "stream",
     "text": [
      "[Parallel(n_jobs=-1)]: Done 1820 out of 1820 | elapsed:  1.3min finished\n",
      "C:\\Users\\Sevastyan\\AppData\\Roaming\\Python\\Python36\\site-packages\\sklearn\\linear_model\\_ridge.py:558: UserWarning: \"sag\" solver requires many iterations to fit an intercept with sparse inputs. Either set the solver to \"auto\" or \"sparse_cg\", or set a low \"tol\" and a high \"max_iter\" (especially if inputs are not standardized).\n",
      "  '\"sag\" solver requires many iterations to fit '\n"
     ]
    }
   ],
   "source": [
    "est = RidgeClassifier(random_state=42)\n",
    "parameters = {'solver': ('auto', 'svd', 'cholesky', 'lsqr', 'sparse_cg', 'sag', 'saga'), 'alpha': alphas}\n",
    "print(\"====RidgeClassifier====\")\n",
    "ApplyGridSearch(est, parameters, X_train, Y_train, X_test, Y_test) "
   ]
  },
  {
   "cell_type": "code",
   "execution_count": 153,
   "metadata": {},
   "outputs": [
    {
     "data": {
      "text/html": [
       "<div>\n",
       "<style scoped>\n",
       "    .dataframe tbody tr th:only-of-type {\n",
       "        vertical-align: middle;\n",
       "    }\n",
       "\n",
       "    .dataframe tbody tr th {\n",
       "        vertical-align: top;\n",
       "    }\n",
       "\n",
       "    .dataframe thead th {\n",
       "        text-align: right;\n",
       "    }\n",
       "</style>\n",
       "<table border=\"1\" class=\"dataframe\">\n",
       "  <thead>\n",
       "    <tr style=\"text-align: right;\">\n",
       "      <th></th>\n",
       "      <th>id</th>\n",
       "      <th>keyword</th>\n",
       "      <th>location</th>\n",
       "      <th>text</th>\n",
       "      <th>target</th>\n",
       "      <th>keytext</th>\n",
       "    </tr>\n",
       "  </thead>\n",
       "  <tbody>\n",
       "    <tr>\n",
       "      <th>0</th>\n",
       "      <td>1</td>\n",
       "      <td>0</td>\n",
       "      <td>0</td>\n",
       "      <td>our deeds are the reason of this earthquake ma...</td>\n",
       "      <td>1</td>\n",
       "      <td>0 our deeds are the reason of this earthquake ...</td>\n",
       "    </tr>\n",
       "    <tr>\n",
       "      <th>1</th>\n",
       "      <td>4</td>\n",
       "      <td>0</td>\n",
       "      <td>0</td>\n",
       "      <td>forest fire near la ronge sask canada</td>\n",
       "      <td>1</td>\n",
       "      <td>0 forest fire near la ronge sask canada</td>\n",
       "    </tr>\n",
       "    <tr>\n",
       "      <th>2</th>\n",
       "      <td>5</td>\n",
       "      <td>0</td>\n",
       "      <td>0</td>\n",
       "      <td>all residents asked to shelter in place are be...</td>\n",
       "      <td>1</td>\n",
       "      <td>0 all residents asked to shelter in place are ...</td>\n",
       "    </tr>\n",
       "    <tr>\n",
       "      <th>3</th>\n",
       "      <td>6</td>\n",
       "      <td>0</td>\n",
       "      <td>0</td>\n",
       "      <td>people receive wildfires evacuation orders in...</td>\n",
       "      <td>1</td>\n",
       "      <td>0  people receive wildfires evacuation orders ...</td>\n",
       "    </tr>\n",
       "    <tr>\n",
       "      <th>4</th>\n",
       "      <td>7</td>\n",
       "      <td>0</td>\n",
       "      <td>0</td>\n",
       "      <td>just got sent this photo from ruby alaska as s...</td>\n",
       "      <td>1</td>\n",
       "      <td>0 just got sent this photo from ruby alaska as...</td>\n",
       "    </tr>\n",
       "  </tbody>\n",
       "</table>\n",
       "</div>"
      ],
      "text/plain": [
       "   id keyword location                                               text  \\\n",
       "0   1       0        0  our deeds are the reason of this earthquake ma...   \n",
       "1   4       0        0              forest fire near la ronge sask canada   \n",
       "2   5       0        0  all residents asked to shelter in place are be...   \n",
       "3   6       0        0   people receive wildfires evacuation orders in...   \n",
       "4   7       0        0  just got sent this photo from ruby alaska as s...   \n",
       "\n",
       "   target                                            keytext  \n",
       "0       1  0 our deeds are the reason of this earthquake ...  \n",
       "1       1            0 forest fire near la ronge sask canada  \n",
       "2       1  0 all residents asked to shelter in place are ...  \n",
       "3       1  0  people receive wildfires evacuation orders ...  \n",
       "4       1  0 just got sent this photo from ruby alaska as...  "
      ]
     },
     "execution_count": 153,
     "metadata": {},
     "output_type": "execute_result"
    }
   ],
   "source": [
    "train.head()"
   ]
  },
  {
   "cell_type": "markdown",
   "metadata": {},
   "source": [
    "kaggle"
   ]
  },
  {
   "cell_type": "code",
   "execution_count": 154,
   "metadata": {},
   "outputs": [],
   "source": [
    "vect = TfidfVectorizer()\n",
    "train_vectors = vect.fit_transform(train['keytext'])\n",
    "test_vectors = vect.transform(test[\"keytext\"])"
   ]
  },
  {
   "cell_type": "code",
   "execution_count": 155,
   "metadata": {},
   "outputs": [],
   "source": [
    "X_train = train_vectors\n",
    "Y_train = train['target']\n",
    "X_test = test_vectors"
   ]
  },
  {
   "cell_type": "code",
   "execution_count": 165,
   "metadata": {},
   "outputs": [],
   "source": [
    "#est = RidgeClassifier(random_state=42, alpha = 1.0, solver = 'sag')\n",
    "#est = LogisticRegression(random_state=42, C = 1.0, solver = 'liblinear')\n",
    "#est = MultinomialNB(alpha= 1.0, fit_prior= True)\n",
    "#est = RandomForestClassifier(random_state=42, n_estimators=100, class_weight= 'balanced', criterion= 'entropy', min_impurity_decrease= 0.0001)\n",
    "\n",
    "est.fit(X_train, Y_train)\n",
    "predicted = est.predict(X_test)"
   ]
  },
  {
   "cell_type": "code",
   "execution_count": 166,
   "metadata": {},
   "outputs": [],
   "source": [
    "test_ids = test[\"id\"]\n",
    "submission_df = {\"id\": test_ids,\n",
    "                 \"target\": predicted}\n",
    "submission = pd.DataFrame(submission_df)"
   ]
  },
  {
   "cell_type": "code",
   "execution_count": 167,
   "metadata": {},
   "outputs": [],
   "source": [
    "submission.to_csv('randforest.csv', index=False)"
   ]
  },
  {
   "cell_type": "code",
   "execution_count": null,
   "metadata": {},
   "outputs": [],
   "source": []
  },
  {
   "cell_type": "code",
   "execution_count": null,
   "metadata": {},
   "outputs": [],
   "source": []
  }
 ],
 "metadata": {
  "kernelspec": {
   "display_name": "Python 3",
   "language": "python",
   "name": "python3"
  },
  "language_info": {
   "codemirror_mode": {
    "name": "ipython",
    "version": 3
   },
   "file_extension": ".py",
   "mimetype": "text/x-python",
   "name": "python",
   "nbconvert_exporter": "python",
   "pygments_lexer": "ipython3",
   "version": "3.8.8"
  }
 },
 "nbformat": 4,
 "nbformat_minor": 2
}
